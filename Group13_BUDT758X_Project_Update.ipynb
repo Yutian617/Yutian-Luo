{
  "nbformat": 4,
  "nbformat_minor": 0,
  "metadata": {
    "kernelspec": {
      "display_name": "Python 3",
      "language": "python",
      "name": "python3"
    },
    "language_info": {
      "codemirror_mode": {
        "name": "ipython",
        "version": 3
      },
      "file_extension": ".py",
      "mimetype": "text/x-python",
      "name": "python",
      "nbconvert_exporter": "python",
      "pygments_lexer": "ipython3",
      "version": "3.7.3"
    },
    "colab": {
      "name": "Group13_BUDT758X_Project_Update.ipynb",
      "provenance": [],
      "collapsed_sections": [],
      "toc_visible": true,
      "machine_shape": "hm",
      "include_colab_link": true
    },
    "accelerator": "GPU"
  },
  "cells": [
    {
      "cell_type": "markdown",
      "metadata": {
        "id": "view-in-github",
        "colab_type": "text"
      },
      "source": [
        "<a href=\"https://colab.research.google.com/github/Yutian617/Yutian-Luo/blob/master/Group13_BUDT758X_Project_Update.ipynb\" target=\"_parent\"><img src=\"https://colab.research.google.com/assets/colab-badge.svg\" alt=\"Open In Colab\"/></a>"
      ]
    },
    {
      "cell_type": "markdown",
      "metadata": {
        "id": "UHDxPCECSN99",
        "colab_type": "text"
      },
      "source": [
        "# BUDT 758X Project Update: Data Exploration of Yelp"
      ]
    },
    {
      "cell_type": "markdown",
      "metadata": {
        "id": "5_YoomjbeDzB",
        "colab_type": "text"
      },
      "source": [
        "---"
      ]
    },
    {
      "cell_type": "markdown",
      "metadata": {
        "id": "yFbyhFGlSN9-",
        "colab_type": "text"
      },
      "source": [
        "## Introduction\n"
      ]
    },
    {
      "cell_type": "markdown",
      "metadata": {
        "id": "zonce-zbIPvX",
        "colab_type": "text"
      },
      "source": [
        "#### Backgroud and questions of interests"
      ]
    },
    {
      "cell_type": "markdown",
      "metadata": {
        "id": "vH2059dJSN-A",
        "colab_type": "text"
      },
      "source": [
        "Restaurants are essential in people's lives and most of us have experience of rating and writing reviews for a restaurant. The goal of this project is to perform data analysis on the Yelp restaurant dataset, which consists of customer review texts, restaurant rankings, location information, etc. from a variety of restaurants. \n",
        "\n",
        "At a high level, we want to find out which attributes of the restaurants lead to higher restaurant ratings and whether we can make further inference about the restaurant using text reviews. More specifically, our questions of interests consist of 3 perspectives: user, restaurant, and Yelp. For users, we want to study their rating and reviewing patterns. For restaurants, we want to find out the characteristics of high rating restaurants. For Yelp, we want to study the characteristics of reviews for better recommendations for its users.\n",
        "\n",
        "By gathering insights about the customer base and developing strategic factors that would influence a customer’s decision to visit a particular restaurant, not only can we help diners find the most desired restaurant by attributes such as quality of a restaurant or best cuisines, but also we can provide recommendations for restaurants to expand their business by attracting more customers and by improving clients experiences and targeting particular customers. In addition, for Yelp's perspective, we want to help Yelp to improve its recommendation system.\n"
      ]
    },
    {
      "cell_type": "markdown",
      "metadata": {
        "id": "bOWa5TGZSN-C",
        "colab_type": "text"
      },
      "source": [
        "#### Dataset Description  "
      ]
    },
    {
      "cell_type": "markdown",
      "metadata": {
        "id": "RTuxLSt8SN-D",
        "colab_type": "text"
      },
      "source": [
        "We chose the Yelp dataset from Kaggle because the data is feasible and has potential due to large volumes (10GB). Besides, since the information is gathered from the Yelp website, which is one of the most renowned review platforms which had a monthly average of 76.7 million unique visitors via its mobile website in 2019, it is authentic and will help us develop practical insights.\n",
        "\n",
        "The dataset includes 5.2 million user reviews of 174,000 businesses in 11 metropolitan areas in four countries. However, our project will only be focusing on data of restaurants in Nevada, which is the state with the highest total amount of review counts across all U.S. states.\n",
        "\n",
        "We acquired 7 datasets in csv format: yelp_business_attributes.csv, yelp_business.csv, yelp_business_hours.csv, yelp_checkin.csv, yelp_tip.csv, yelp_review.csv, yelp_user.csv.\n",
        "\n",
        "Some important attributes of the main 2 datasets we are using are described below:\n",
        "\n",
        "yelp_review:\n",
        "+ business_id: ID of the business\n",
        "+ review_id: ID of the review\n",
        "+ user_id: ID of the user\n",
        "+ business_id: ID of the business\n",
        "+ stars: ratings of the business\n",
        "+ date: review date\n",
        "+ text: review from the user\n",
        "+ useful: number of users who vote a review as useful\n",
        "+ funny: number of users who vote a review as funny\n",
        "+ cool: number of users who vote a review as cool\n",
        "\n",
        "\n",
        "yelp_user:\n",
        "+ user_id:ID of the user\n",
        "+ name: name of the user\n",
        "+ review_count: number of reviews received\n",
        "+ yelping_since: the start date of using yelp\n",
        "+ useful: number of users who vote the user as useful\n",
        "+ funny: number of users who vote the user as funny\n",
        "+ cool: number of users who vote the user as cool\n",
        "+ fans: number of users of the user\n",
        "+ average_stars: average rating of the user\n",
        "+ 11 compliment dummy variables\n"
      ]
    },
    {
      "cell_type": "markdown",
      "metadata": {
        "id": "UYsMC-vpSN-D",
        "colab_type": "text"
      },
      "source": [
        "#### Grading Emphasis"
      ]
    },
    {
      "cell_type": "markdown",
      "metadata": {
        "id": "f0euW-RvSN-E",
        "colab_type": "text"
      },
      "source": [
        "We have performed many operations on data screening, cleaning, segmentation and merging, but we focused on data analysis. According to the data, we started our analysis on yelp users, then yelp restaurants, and finally returned to the evaluation of yelp reviews to get the full understanding of data. \n",
        "\n",
        "For example, in order to find features for better model predictions on restaurants average stars, we drew a heatmap to see the correlation between the variables. To visualize whether the restaurants' open hour will impact users’ review, we created a time series plot, so it is clear to view the trend of how users’ review changed with open hours. In order to get a better sense of the comparison between central_users ratings and average business ratings, we plotted a dynamic multi bar charts which shows their differences. Besides, to help yelp users search for restaurants with the top five popular cuisines, we plotted a dynamic map which shows the locations of each restaurant. According to the map, users can easily find the geographic locations of those restaurants."
      ]
    },
    {
      "cell_type": "markdown",
      "metadata": {
        "id": "puM0UzVNGYRi",
        "colab_type": "text"
      },
      "source": [
        "For our model, we made sentiment analysis and built up a bidirectional LSTM model to analyze and predict reviewers' rating on restaurants in Nevada, and reached an accuracy of over 66%. In the review analysis, we used NLP methods to process, clean our text, and convert them to tokens. We did not only bin reviews into high star rating groups and low star rating groups. We took the extra step to bin the reviews into categories, so that we could analyze differences across categories to get further insight about differences in keywords appearance between high and low rated reviews."
      ]
    },
    {
      "cell_type": "markdown",
      "metadata": {
        "id": "I-kAPlSvS02d",
        "colab_type": "text"
      },
      "source": [
        "## Data Processing"
      ]
    },
    {
      "cell_type": "markdown",
      "metadata": {
        "id": "72YF1qjjU8kU",
        "colab_type": "text"
      },
      "source": [
        "We imported our Yelp data in CSV format using method pd.read_csv directly from Google Shared Drive, aiming at efficient group collaboration and code sharing.\n",
        "+ We have encountered large-volume data loading issues, i.e. slow on data reading and transforming, as a typical case for Yelp review data, which sized over 10 GB, we built a data-type schema for a faster read."
      ]
    },
    {
      "cell_type": "markdown",
      "metadata": {
        "id": "ZUuGai6XU7ID",
        "colab_type": "text"
      },
      "source": [
        "Trim Dataset in Nevada: During this part of data processing, In order to tackle the mounted memory errors and code efficiency issues, we wrote codes that are more complex.\n",
        "\n",
        "\n",
        "- To begin with, we chose yelp_business data, from which we first extracted business identifiers whose location was in Nevada.\n",
        "- Then, we merged business data that only contains Nevada with Yelp review dataframe and Yelp user dataframe.\n",
        "- Afterward, we manually selected from 1294 entities' categories that should be categorized as restaurants in common sense, and applied which to our combined dataframe, which consisted of Yelp business and the respective business hour, user and user review.\n",
        "---\n",
        "\n",
        "**The final output of our combined Nevada restaurant dataframe contains a total of 1185998 rows.**"
      ]
    },
    {
      "cell_type": "markdown",
      "metadata": {
        "id": "K6n8CN6e4qIg",
        "colab_type": "text"
      },
      "source": [
        "### Data Acquisition"
      ]
    },
    {
      "cell_type": "markdown",
      "metadata": {
        "id": "60ZxNZ4NnnNN",
        "colab_type": "text"
      },
      "source": [
        "#### 1. Import the Dataset"
      ]
    },
    {
      "cell_type": "markdown",
      "metadata": {
        "id": "qURPukUpm-cW",
        "colab_type": "text"
      },
      "source": [
        "We start by importing Yelp dataset. The data is collected by interacting with Google Shared Drive."
      ]
    },
    {
      "cell_type": "code",
      "metadata": {
        "id": "UxL-Q3LZo90C",
        "colab_type": "code",
        "outputId": "7a39ff0b-bc8a-41ac-ddcc-8c9f872f9f5f",
        "colab": {
          "base_uri": "https://localhost:8080/",
          "height": 54
        }
      },
      "source": [
        "# import packages\n",
        "import numpy as np\n",
        "import pandas as pd\n",
        "import matplotlib.pyplot as plt\n",
        "import datetime as dt\n",
        "from datetime import datetime\n",
        "import seaborn as sns  \n",
        "from sklearn.linear_model import LinearRegression \n",
        "from sklearn.model_selection import train_test_split \n",
        "from sklearn.linear_model import LinearRegression\n",
        "from sklearn import metrics\n",
        "from google.colab import drive\n",
        "from textblob import TextBlob\n",
        "from nltk.corpus import stopwords\n",
        "import tensorflow as tf\n",
        "from sklearn.model_selection import train_test_split\n",
        "from tensorflow.keras.layers import PReLU, Embedding, Bidirectional, LSTM, Dropout, Conv1D, Dense, MaxPooling1D\n",
        "from tensorflow.keras.preprocessing.text import Tokenizer\n",
        "from tensorflow.keras.preprocessing.sequence import pad_sequences\n",
        "from tensorflow.keras.utils import to_categorical\n",
        "import nltk\n",
        "nltk.download('stopwords')\n",
        "import matplotlib.pyplot as plt\n",
        "\n",
        "# import dataset from google drive\n",
        "drive.mount('/content/drive')\n",
        "\n",
        "proj_dir = \"/content/drive/Shared drives/2020 Python Project/\"\n",
        "proj_data_dir = proj_dir + \"data/\"\n",
        "# proj_data_dir = proj_dir + \"new_data/yelp-dataset/\""
      ],
      "execution_count": 0,
      "outputs": [
        {
          "output_type": "stream",
          "text": [
            "Drive already mounted at /content/drive; to attempt to forcibly remount, call drive.mount(\"/content/drive\", force_remount=True).\n"
          ],
          "name": "stdout"
        }
      ]
    },
    {
      "cell_type": "markdown",
      "metadata": {
        "id": "hnUJRcWdqKM8",
        "colab_type": "text"
      },
      "source": [
        "Then let's get a sense of the Yelp dataset."
      ]
    },
    {
      "cell_type": "code",
      "metadata": {
        "id": "VWzKmBZAPjTy",
        "colab_type": "code",
        "outputId": "76745d25-3bee-4d09-b090-e7c325230658",
        "colab": {
          "base_uri": "https://localhost:8080/",
          "height": 174
        }
      },
      "source": [
        "!ls -l \"/content/drive/Shared drives/2020 Python Project/data/\""
      ],
      "execution_count": 0,
      "outputs": [
        {
          "output_type": "stream",
          "text": [
            "total 11201522\n",
            "-rw------- 1 root root 5945004052 May  3 15:48 Nevada_restaurant_user_review_business_hour.csv\n",
            "-rw------- 1 root root   41377121 Apr  9 21:13 yelp_business_attributes.csv\n",
            "-rw------- 1 root root   31760674 Apr  9 21:12 yelp_business.csv\n",
            "-rw------- 1 root root   13866351 Apr  9 21:13 yelp_business_hours.csv\n",
            "-rw------- 1 root root  135964892 Apr  9 21:14 yelp_checkin.csv\n",
            "-rw------- 1 root root 3791120545 Apr  9 22:14 yelp_review.csv\n",
            "-rw------- 1 root root  148085910 Apr  9 22:18 yelp_tip.csv\n",
            "-rw------- 1 root root 1363176944 Apr  9 22:48 yelp_user.csv\n"
          ],
          "name": "stdout"
        }
      ]
    },
    {
      "cell_type": "markdown",
      "metadata": {
        "id": "BPD3kOm_q-du",
        "colab_type": "text"
      },
      "source": [
        "The data here has a rich variety of the ratings, comments and metadata of businesses. Let's start exploring the dataset!\n",
        "\n"
      ]
    },
    {
      "cell_type": "markdown",
      "metadata": {
        "id": "ATNkNUK3fGrD",
        "colab_type": "text"
      },
      "source": [
        "#### 2. Load the data"
      ]
    },
    {
      "cell_type": "markdown",
      "metadata": {
        "id": "7ue5G5nYrqKY",
        "colab_type": "text"
      },
      "source": [
        "Here we load all the data from the raw datasets."
      ]
    },
    {
      "cell_type": "code",
      "metadata": {
        "id": "hDRSHjHCJtsj",
        "colab_type": "code",
        "colab": {}
      },
      "source": [
        "# load raw data from csv\n",
        "yelp_biz_attr = pd.read_csv(proj_data_dir + 'yelp_business_attributes.csv')\n",
        "yelp_biz = pd.read_csv(proj_data_dir + 'yelp_business.csv')\n",
        "yelp_biz_hour = pd.read_csv(proj_data_dir + 'yelp_business_hours.csv')\n",
        "yelp_checkin = pd.read_csv(proj_data_dir + 'yelp_checkin.csv')\n",
        "yelp_tip = pd.read_csv(proj_data_dir + 'yelp_tip.csv')\n",
        "yelp_user = pd.read_csv(proj_data_dir + 'yelp_user.csv')\n"
      ],
      "execution_count": 0,
      "outputs": []
    },
    {
      "cell_type": "code",
      "metadata": {
        "id": "8jxg3Hdhjf2k",
        "colab_type": "code",
        "outputId": "14eead39-d914-4e13-aaa2-724aac1922bd",
        "colab": {
          "base_uri": "https://localhost:8080/",
          "height": 87
        }
      },
      "source": [
        "  review_dtype = dict(\n",
        "      review_id=np.str,\n",
        "      user_id=np.str,\n",
        "      business_id=np.str,\n",
        "      stars=np.float16,\n",
        "      text=np.str,\n",
        "      useful=np.int16,\n",
        "      funny=np.int16,\n",
        "      cool=np.int16\n",
        "  )\n",
        "  date_parser = lambda x: pd.datetime.strptime(x, '%Y-%m-%d')\n",
        "  yelp_review = pd.read_csv(proj_data_dir + 'yelp_review.csv',\n",
        "                            #skiprows=sk_review,\n",
        "                            dtype=review_dtype,\n",
        "                            parse_dates=[4,],\n",
        "                            date_parser=date_parser)\n"
      ],
      "execution_count": 0,
      "outputs": [
        {
          "output_type": "stream",
          "text": [
            "/usr/local/lib/python3.6/dist-packages/ipykernel_launcher.py:11: FutureWarning:\n",
            "\n",
            "The pandas.datetime class is deprecated and will be removed from pandas in a future version. Import from datetime instead.\n",
            "\n"
          ],
          "name": "stderr"
        }
      ]
    },
    {
      "cell_type": "markdown",
      "metadata": {
        "id": "ddRJfyOfwLOh",
        "colab_type": "text"
      },
      "source": [
        "Let's have a general sense of what the reviews are like. From the table below, we can see there are 9 columns in total, including 3 ids, stars rating, review date, review content, and 3 tags ('useful', 'funny', and 'cool)."
      ]
    },
    {
      "cell_type": "code",
      "metadata": {
        "colab_type": "code",
        "id": "7F9awL0Fjq9X",
        "outputId": "1a4f5083-260f-4388-ba5a-81634bb30008",
        "colab": {
          "base_uri": "https://localhost:8080/",
          "height": 530
        }
      },
      "source": [
        "yelp_review.head()"
      ],
      "execution_count": 0,
      "outputs": [
        {
          "output_type": "execute_result",
          "data": {
            "text/html": [
              "<div>\n",
              "<style scoped>\n",
              "    .dataframe tbody tr th:only-of-type {\n",
              "        vertical-align: middle;\n",
              "    }\n",
              "\n",
              "    .dataframe tbody tr th {\n",
              "        vertical-align: top;\n",
              "    }\n",
              "\n",
              "    .dataframe thead th {\n",
              "        text-align: right;\n",
              "    }\n",
              "</style>\n",
              "<table border=\"1\" class=\"dataframe\">\n",
              "  <thead>\n",
              "    <tr style=\"text-align: right;\">\n",
              "      <th></th>\n",
              "      <th>review_id</th>\n",
              "      <th>user_id</th>\n",
              "      <th>business_id</th>\n",
              "      <th>stars</th>\n",
              "      <th>date</th>\n",
              "      <th>text</th>\n",
              "      <th>useful</th>\n",
              "      <th>funny</th>\n",
              "      <th>cool</th>\n",
              "    </tr>\n",
              "  </thead>\n",
              "  <tbody>\n",
              "    <tr>\n",
              "      <th>0</th>\n",
              "      <td>vkVSCC7xljjrAI4UGfnKEQ</td>\n",
              "      <td>bv2nCi5Qv5vroFiqKGopiw</td>\n",
              "      <td>AEx2SYEUJmTxVVB18LlCwA</td>\n",
              "      <td>5.0</td>\n",
              "      <td>2016-05-28</td>\n",
              "      <td>Super simple place but amazing nonetheless. It...</td>\n",
              "      <td>0</td>\n",
              "      <td>0</td>\n",
              "      <td>0</td>\n",
              "    </tr>\n",
              "    <tr>\n",
              "      <th>1</th>\n",
              "      <td>n6QzIUObkYshz4dz2QRJTw</td>\n",
              "      <td>bv2nCi5Qv5vroFiqKGopiw</td>\n",
              "      <td>VR6GpWIda3SfvPC-lg9H3w</td>\n",
              "      <td>5.0</td>\n",
              "      <td>2016-05-28</td>\n",
              "      <td>Small unassuming place that changes their menu...</td>\n",
              "      <td>0</td>\n",
              "      <td>0</td>\n",
              "      <td>0</td>\n",
              "    </tr>\n",
              "    <tr>\n",
              "      <th>2</th>\n",
              "      <td>MV3CcKScW05u5LVfF6ok0g</td>\n",
              "      <td>bv2nCi5Qv5vroFiqKGopiw</td>\n",
              "      <td>CKC0-MOWMqoeWf6s-szl8g</td>\n",
              "      <td>5.0</td>\n",
              "      <td>2016-05-28</td>\n",
              "      <td>Lester's is located in a beautiful neighborhoo...</td>\n",
              "      <td>0</td>\n",
              "      <td>0</td>\n",
              "      <td>0</td>\n",
              "    </tr>\n",
              "    <tr>\n",
              "      <th>3</th>\n",
              "      <td>IXvOzsEMYtiJI0CARmj77Q</td>\n",
              "      <td>bv2nCi5Qv5vroFiqKGopiw</td>\n",
              "      <td>ACFtxLv8pGrrxMm6EgjreA</td>\n",
              "      <td>4.0</td>\n",
              "      <td>2016-05-28</td>\n",
              "      <td>Love coming here. Yes the place always needs t...</td>\n",
              "      <td>0</td>\n",
              "      <td>0</td>\n",
              "      <td>0</td>\n",
              "    </tr>\n",
              "    <tr>\n",
              "      <th>4</th>\n",
              "      <td>L_9BTb55X0GDtThi6GlZ6w</td>\n",
              "      <td>bv2nCi5Qv5vroFiqKGopiw</td>\n",
              "      <td>s2I_Ni76bjJNK9yG60iD-Q</td>\n",
              "      <td>4.0</td>\n",
              "      <td>2016-05-28</td>\n",
              "      <td>Had their chocolate almond croissant and it wa...</td>\n",
              "      <td>0</td>\n",
              "      <td>0</td>\n",
              "      <td>0</td>\n",
              "    </tr>\n",
              "  </tbody>\n",
              "</table>\n",
              "</div>"
            ],
            "text/plain": [
              "                review_id                 user_id  ... funny  cool\n",
              "0  vkVSCC7xljjrAI4UGfnKEQ  bv2nCi5Qv5vroFiqKGopiw  ...     0     0\n",
              "1  n6QzIUObkYshz4dz2QRJTw  bv2nCi5Qv5vroFiqKGopiw  ...     0     0\n",
              "2  MV3CcKScW05u5LVfF6ok0g  bv2nCi5Qv5vroFiqKGopiw  ...     0     0\n",
              "3  IXvOzsEMYtiJI0CARmj77Q  bv2nCi5Qv5vroFiqKGopiw  ...     0     0\n",
              "4  L_9BTb55X0GDtThi6GlZ6w  bv2nCi5Qv5vroFiqKGopiw  ...     0     0\n",
              "\n",
              "[5 rows x 9 columns]"
            ]
          },
          "metadata": {
            "tags": []
          },
          "execution_count": 50
        }
      ]
    },
    {
      "cell_type": "markdown",
      "metadata": {
        "id": "Tae2KBNvw3qS",
        "colab_type": "text"
      },
      "source": [
        "Let's take a look at the users table too. The variable 'user_id' can be used to join the review table and users table. Other useful variables include 'name', 'review_count', 'yelping_since', 'fans', and 'elite'."
      ]
    },
    {
      "cell_type": "code",
      "metadata": {
        "id": "u4wk6CDgOeSS",
        "colab_type": "code",
        "outputId": "2ec6ea62-8a7f-4045-b5ae-badfea0f13c8",
        "colab": {
          "base_uri": "https://localhost:8080/",
          "height": 275
        }
      },
      "source": [
        "yelp_user.head()"
      ],
      "execution_count": 0,
      "outputs": [
        {
          "output_type": "execute_result",
          "data": {
            "text/html": [
              "<div>\n",
              "<style scoped>\n",
              "    .dataframe tbody tr th:only-of-type {\n",
              "        vertical-align: middle;\n",
              "    }\n",
              "\n",
              "    .dataframe tbody tr th {\n",
              "        vertical-align: top;\n",
              "    }\n",
              "\n",
              "    .dataframe thead th {\n",
              "        text-align: right;\n",
              "    }\n",
              "</style>\n",
              "<table border=\"1\" class=\"dataframe\">\n",
              "  <thead>\n",
              "    <tr style=\"text-align: right;\">\n",
              "      <th></th>\n",
              "      <th>user_id</th>\n",
              "      <th>name</th>\n",
              "      <th>review_count</th>\n",
              "      <th>yelping_since</th>\n",
              "      <th>friends</th>\n",
              "      <th>useful</th>\n",
              "      <th>funny</th>\n",
              "      <th>cool</th>\n",
              "      <th>fans</th>\n",
              "      <th>elite</th>\n",
              "      <th>average_stars</th>\n",
              "      <th>compliment_hot</th>\n",
              "      <th>compliment_more</th>\n",
              "      <th>compliment_profile</th>\n",
              "      <th>compliment_cute</th>\n",
              "      <th>compliment_list</th>\n",
              "      <th>compliment_note</th>\n",
              "      <th>compliment_plain</th>\n",
              "      <th>compliment_cool</th>\n",
              "      <th>compliment_funny</th>\n",
              "      <th>compliment_writer</th>\n",
              "      <th>compliment_photos</th>\n",
              "    </tr>\n",
              "  </thead>\n",
              "  <tbody>\n",
              "    <tr>\n",
              "      <th>0</th>\n",
              "      <td>JJ-aSuM4pCFPdkfoZ34q0Q</td>\n",
              "      <td>Chris</td>\n",
              "      <td>10</td>\n",
              "      <td>2013-09-24</td>\n",
              "      <td>0njfJmB-7n84DlIgUByCNw, rFn3Xe3RqHxRSxWOU19Gpg...</td>\n",
              "      <td>0</td>\n",
              "      <td>0</td>\n",
              "      <td>0</td>\n",
              "      <td>0</td>\n",
              "      <td>None</td>\n",
              "      <td>3.70</td>\n",
              "      <td>0</td>\n",
              "      <td>0</td>\n",
              "      <td>0</td>\n",
              "      <td>0</td>\n",
              "      <td>0</td>\n",
              "      <td>0</td>\n",
              "      <td>0</td>\n",
              "      <td>0</td>\n",
              "      <td>0</td>\n",
              "      <td>0</td>\n",
              "      <td>0</td>\n",
              "    </tr>\n",
              "    <tr>\n",
              "      <th>1</th>\n",
              "      <td>uUzsFQn_6cXDh6rPNGbIFA</td>\n",
              "      <td>Tiffy</td>\n",
              "      <td>1</td>\n",
              "      <td>2017-03-02</td>\n",
              "      <td>None</td>\n",
              "      <td>0</td>\n",
              "      <td>0</td>\n",
              "      <td>0</td>\n",
              "      <td>0</td>\n",
              "      <td>None</td>\n",
              "      <td>2.00</td>\n",
              "      <td>0</td>\n",
              "      <td>0</td>\n",
              "      <td>0</td>\n",
              "      <td>0</td>\n",
              "      <td>0</td>\n",
              "      <td>0</td>\n",
              "      <td>0</td>\n",
              "      <td>0</td>\n",
              "      <td>0</td>\n",
              "      <td>0</td>\n",
              "      <td>0</td>\n",
              "    </tr>\n",
              "    <tr>\n",
              "      <th>2</th>\n",
              "      <td>mBneaEEH5EMyxaVyqS-72A</td>\n",
              "      <td>Mark</td>\n",
              "      <td>6</td>\n",
              "      <td>2015-03-13</td>\n",
              "      <td>None</td>\n",
              "      <td>0</td>\n",
              "      <td>0</td>\n",
              "      <td>0</td>\n",
              "      <td>0</td>\n",
              "      <td>None</td>\n",
              "      <td>4.67</td>\n",
              "      <td>0</td>\n",
              "      <td>0</td>\n",
              "      <td>0</td>\n",
              "      <td>0</td>\n",
              "      <td>0</td>\n",
              "      <td>0</td>\n",
              "      <td>0</td>\n",
              "      <td>0</td>\n",
              "      <td>0</td>\n",
              "      <td>0</td>\n",
              "      <td>0</td>\n",
              "    </tr>\n",
              "    <tr>\n",
              "      <th>3</th>\n",
              "      <td>W5mJGs-dcDWRGEhAzUYtoA</td>\n",
              "      <td>Evelyn</td>\n",
              "      <td>3</td>\n",
              "      <td>2016-09-08</td>\n",
              "      <td>None</td>\n",
              "      <td>0</td>\n",
              "      <td>0</td>\n",
              "      <td>0</td>\n",
              "      <td>0</td>\n",
              "      <td>None</td>\n",
              "      <td>4.67</td>\n",
              "      <td>0</td>\n",
              "      <td>0</td>\n",
              "      <td>0</td>\n",
              "      <td>0</td>\n",
              "      <td>0</td>\n",
              "      <td>0</td>\n",
              "      <td>0</td>\n",
              "      <td>0</td>\n",
              "      <td>0</td>\n",
              "      <td>0</td>\n",
              "      <td>0</td>\n",
              "    </tr>\n",
              "    <tr>\n",
              "      <th>4</th>\n",
              "      <td>4E8--zUZO1Rr1IBK4_83fg</td>\n",
              "      <td>Lisa</td>\n",
              "      <td>11</td>\n",
              "      <td>2012-07-16</td>\n",
              "      <td>None</td>\n",
              "      <td>4</td>\n",
              "      <td>0</td>\n",
              "      <td>0</td>\n",
              "      <td>0</td>\n",
              "      <td>None</td>\n",
              "      <td>3.45</td>\n",
              "      <td>0</td>\n",
              "      <td>0</td>\n",
              "      <td>0</td>\n",
              "      <td>0</td>\n",
              "      <td>0</td>\n",
              "      <td>0</td>\n",
              "      <td>0</td>\n",
              "      <td>0</td>\n",
              "      <td>0</td>\n",
              "      <td>1</td>\n",
              "      <td>0</td>\n",
              "    </tr>\n",
              "  </tbody>\n",
              "</table>\n",
              "</div>"
            ],
            "text/plain": [
              "                  user_id    name  ...  compliment_writer compliment_photos\n",
              "0  JJ-aSuM4pCFPdkfoZ34q0Q   Chris  ...                  0                 0\n",
              "1  uUzsFQn_6cXDh6rPNGbIFA   Tiffy  ...                  0                 0\n",
              "2  mBneaEEH5EMyxaVyqS-72A    Mark  ...                  0                 0\n",
              "3  W5mJGs-dcDWRGEhAzUYtoA  Evelyn  ...                  0                 0\n",
              "4  4E8--zUZO1Rr1IBK4_83fg    Lisa  ...                  1                 0\n",
              "\n",
              "[5 rows x 22 columns]"
            ]
          },
          "metadata": {
            "tags": []
          },
          "execution_count": 51
        }
      ]
    },
    {
      "cell_type": "markdown",
      "metadata": {
        "id": "TChcJOvEfUiB",
        "colab_type": "text"
      },
      "source": [
        "### Data Selection"
      ]
    },
    {
      "cell_type": "markdown",
      "metadata": {
        "id": "AT58yjKn9bL2",
        "colab_type": "text"
      },
      "source": [
        "#### 1.Counts of Reviews in Different States"
      ]
    },
    {
      "cell_type": "markdown",
      "metadata": {
        "id": "a5EZfLp63W6c",
        "colab_type": "text"
      },
      "source": [
        "This is a large dataset that spans over 11 metropolitan areas. Here we want to create a bar chart of all the review counts in different states. By showing this, we can see that Nevada has the highest number of review counts. We will filter the data by only including data from Nevada, so that we can narrow down our research scope and avoid computer capacity issues. This dataset will be used for our future analysis."
      ]
    },
    {
      "cell_type": "code",
      "metadata": {
        "id": "W-jL0QJ1Xsth",
        "colab_type": "code",
        "outputId": "71bc09ba-32fd-4edd-9c69-2f275ac2cfd0",
        "colab": {
          "base_uri": "https://localhost:8080/",
          "height": 319
        }
      },
      "source": [
        "#create a pivot table of review_count and state\n",
        "review_by_state = pd.pivot_table(yelp_biz, \"review_count\", \"state\", \"stars\", np.sum, dropna=True, fill_value=0, margins=True)\n",
        "# review_by_state = yelp_biz.groupby([\"city\", \"stars\"]).agg({\"review_count\": np.sum})\n",
        "review_by_state.drop('All', inplace=True)\n",
        "review_by_state.sort_values(\"All\", inplace=True, ascending=False)\n",
        "review_by_state.reset_index(inplace=True)\n",
        "review_by_state.head(10).plot(kind='bar', x=\"state\", y='All')"
      ],
      "execution_count": 0,
      "outputs": [
        {
          "output_type": "execute_result",
          "data": {
            "text/plain": [
              "<matplotlib.axes._subplots.AxesSubplot at 0x7fcf38f76978>"
            ]
          },
          "metadata": {
            "tags": []
          },
          "execution_count": 52
        },
        {
          "output_type": "display_data",
          "data": {
            "image/png": "[encoded data removed]",
            "text/plain": [
              "<Figure size 432x288 with 1 Axes>"
            ]
          },
          "metadata": {
            "tags": [],
            "needs_background": "light"
          }
        }
      ]
    },
    {
      "cell_type": "markdown",
      "metadata": {
        "id": "f7_B-_QNYCyU",
        "colab_type": "text"
      },
      "source": [
        "#### 2.Trim the datasets in Nevada"
      ]
    },
    {
      "cell_type": "markdown",
      "metadata": {
        "id": "rwFDqFHASCbM",
        "colab_type": "text"
      },
      "source": [
        "We select Nevada as the state that we will focus our analysis on because it has the highest number of reviews across all U.S. states. Now let's trim the dataset."
      ]
    },
    {
      "cell_type": "code",
      "metadata": {
        "id": "Fw8Yjy8oSA4Y",
        "colab_type": "code",
        "colab": {}
      },
      "source": [
        "# trim all dataframes to only Nevada \n",
        "NV_biz = yelp_biz.loc[yelp_biz[\"state\"] == 'NV']\n",
        "NV_review_biz = pd.merge(NV_biz, yelp_review, on=\"business_id\", how=\"right\", suffixes=(\"_biz\", \"_rvw\"))\n",
        "NV_review_biz_usr = pd.merge(NV_review_biz, yelp_user, on=\"user_id\", how=\"left\", suffixes=(\"_rvw\", \"_usr\"))"
      ],
      "execution_count": 0,
      "outputs": []
    },
    {
      "cell_type": "code",
      "metadata": {
        "id": "0O3eVajiUiob",
        "colab_type": "code",
        "colab": {}
      },
      "source": [
        "srs_NV_biz_id = NV_biz[\"business_id\"].unique()\n",
        "NV_usr_review_biz_hour = pd.merge(NV_review_biz_usr, yelp_biz_hour, on=\"business_id\", how=\"left\")\n",
        "del NV_review_biz_usr"
      ],
      "execution_count": 0,
      "outputs": []
    },
    {
      "cell_type": "code",
      "metadata": {
        "id": "gqIiqUZ3cb2L",
        "colab_type": "code",
        "colab": {}
      },
      "source": [
        "NV_biz_attr = pd.merge(NV_biz, yelp_biz_attr, on=\"business_id\", how=\"left\")"
      ],
      "execution_count": 0,
      "outputs": []
    },
    {
      "cell_type": "markdown",
      "metadata": {
        "id": "QPCT41tZQVny",
        "colab_type": "text"
      },
      "source": [
        "#### 3.Extract and Merge the Restaurant Data"
      ]
    },
    {
      "cell_type": "markdown",
      "metadata": {
        "id": "2imvNj9Gwqio",
        "colab_type": "text"
      },
      "source": [
        "Let's take a look at all the categories by counting the unique category. Here we have 1294 unique categories.\n",
        "\n",
        "\n"
      ]
    },
    {
      "cell_type": "code",
      "metadata": {
        "id": "7mQXly52Qh2o",
        "colab_type": "code",
        "outputId": "194b24de-9d8a-450d-cac5-6b2d2f3fabca",
        "colab": {
          "base_uri": "https://localhost:8080/",
          "height": 34
        }
      },
      "source": [
        "all_category = yelp_biz.categories.str.split(';').explode()\n",
        "unique_category = np.unique(all_category.dropna())\n",
        "len(unique_category)"
      ],
      "execution_count": 0,
      "outputs": [
        {
          "output_type": "execute_result",
          "data": {
            "text/plain": [
              "1294"
            ]
          },
          "metadata": {
            "tags": []
          },
          "execution_count": 56
        }
      ]
    },
    {
      "cell_type": "markdown",
      "metadata": {
        "id": "nXAuixGszUr0",
        "colab_type": "text"
      },
      "source": [
        "We have filtered categories we need by manually selecting categories related to food and beverages, such as bars and restaurants. We omitted other categories such as sports and entertainment. Then we saved the selected categories as `categories.txt` on the shared drive. Let's go and fetch it."
      ]
    },
    {
      "cell_type": "code",
      "metadata": {
        "id": "8nJ-d_4Kxv4I",
        "colab_type": "code",
        "outputId": "06447c4f-aa52-415d-b2c0-ea5704612b29",
        "colab": {
          "base_uri": "https://localhost:8080/",
          "height": 34
        }
      },
      "source": [
        "with open(proj_dir + 'categories.txt', 'r', encoding='utf-8') as f:\n",
        "  c_lst = f.read()\n",
        "\n",
        "c_lst = c_lst.replace('\\n\\xa0', '').replace('\\xa0', ' ')\n",
        "restaurant_category = eval(c_lst)\n",
        "restaurant_category[:5]"
      ],
      "execution_count": 0,
      "outputs": [
        {
          "output_type": "execute_result",
          "data": {
            "text/plain": [
              "['American (New)', 'American (Traditional)', 'Afghan', 'African', 'Alsatian']"
            ]
          },
          "metadata": {
            "tags": []
          },
          "execution_count": 57
        }
      ]
    },
    {
      "cell_type": "markdown",
      "metadata": {
        "id": "PtZL8NXRWSI4",
        "colab_type": "text"
      },
      "source": [
        "After creating the restaurants category list, now we filter the Nevada Restaurant data, and merge the datasets we need for future analysis."
      ]
    },
    {
      "cell_type": "code",
      "metadata": {
        "id": "3k5FdHxXY1h2",
        "colab_type": "code",
        "outputId": "9955cf8c-2903-4fb5-c89a-6606bdedc958",
        "colab": {
          "base_uri": "https://localhost:8080/",
          "height": 87
        }
      },
      "source": [
        "# Filter the Nevada restaurants data\n",
        "# find businesses that are food services( restaurants of bars)\n",
        "srs_bool_NV_restaurant = NV_biz.categories.str.contains(\"|\".join(restaurant_category), regex=True)\n",
        "srs_NV_restaurant_biz_id = NV_biz.business_id[srs_bool_NV_restaurant].unique()\n",
        "\n",
        "# Merge all the Nevada restaurants business, reviews and hours datasets\n",
        "NV_restaurant_usr_review_biz_hours = NV_usr_review_biz_hour[NV_usr_review_biz_hour.business_id.isin(srs_NV_restaurant_biz_id)]\n",
        "\n",
        "# Merge all the Nevada restaurants attributes datasets\n",
        "NV_biz_restaurant_attr = NV_biz_attr.loc[NV_biz_attr.business_id.isin(srs_NV_restaurant_biz_id)]\n",
        "NV_biz_restaurant_attr = NV_biz_restaurant_attr.set_index('business_id')\n"
      ],
      "execution_count": 0,
      "outputs": [
        {
          "output_type": "stream",
          "text": [
            "/usr/local/lib/python3.6/dist-packages/pandas/core/strings.py:1954: UserWarning:\n",
            "\n",
            "This pattern has match groups. To actually get the groups, use str.extract.\n",
            "\n"
          ],
          "name": "stderr"
        }
      ]
    },
    {
      "cell_type": "markdown",
      "metadata": {
        "id": "n8IJtocA8qyW",
        "colab_type": "text"
      },
      "source": [
        "#### \"Shape of You\"\n"
      ]
    },
    {
      "cell_type": "markdown",
      "metadata": {
        "id": "Wb2VnRmbWHEc",
        "colab_type": "text"
      },
      "source": [
        "Let's view the shape of our Nevada restaurant dataset. Here we can see it has 1185998 rows and 49 columns."
      ]
    },
    {
      "cell_type": "code",
      "metadata": {
        "id": "QgfwLb9dasNG",
        "colab_type": "code",
        "outputId": "eec984e6-805a-4cb0-9861-00cdcc11b5ca",
        "colab": {
          "base_uri": "https://localhost:8080/",
          "height": 34
        }
      },
      "source": [
        "NV_restaurant_usr_review_biz_hours.shape"
      ],
      "execution_count": 0,
      "outputs": [
        {
          "output_type": "execute_result",
          "data": {
            "text/plain": [
              "(1185998, 49)"
            ]
          },
          "metadata": {
            "tags": []
          },
          "execution_count": 59
        }
      ]
    },
    {
      "cell_type": "markdown",
      "metadata": {
        "id": "24aTLVyL21VI",
        "colab_type": "text"
      },
      "source": [
        "#### Data Cleaning\n",
        "\n",
        "To answer our question of interests, we will use these columns from our datasets, thus we need to make sure there are no null values in columns listed here.\n"
      ]
    },
    {
      "cell_type": "code",
      "metadata": {
        "id": "z6pXQPdY85O5",
        "colab_type": "code",
        "outputId": "14e77dd0-ce83-472d-a17c-e9cc8a560233",
        "colab": {
          "base_uri": "https://localhost:8080/",
          "height": 892
        }
      },
      "source": [
        "# check null values in restaurant business hour data\n",
        "NV_restaurant_usr_review_biz_hours.isnull().sum()"
      ],
      "execution_count": 0,
      "outputs": [
        {
          "output_type": "execute_result",
          "data": {
            "text/plain": [
              "business_id                0\n",
              "name_rvw                   0\n",
              "neighborhood          194762\n",
              "address                    0\n",
              "city                       0\n",
              "state                      0\n",
              "postal_code              430\n",
              "latitude                   0\n",
              "longitude                  0\n",
              "stars_biz                  0\n",
              "review_count_rvw           0\n",
              "is_open                    0\n",
              "categories                 0\n",
              "review_id                  0\n",
              "user_id                    0\n",
              "stars_rvw                  0\n",
              "date                       0\n",
              "text                       0\n",
              "useful_rvw                 0\n",
              "funny_rvw                  0\n",
              "cool_rvw                   0\n",
              "name_usr                 142\n",
              "review_count_usr           0\n",
              "yelping_since              0\n",
              "friends                    0\n",
              "useful_usr                 0\n",
              "funny_usr                  0\n",
              "cool_usr                   0\n",
              "fans                       0\n",
              "elite                      0\n",
              "average_stars              0\n",
              "compliment_hot             0\n",
              "compliment_more            0\n",
              "compliment_profile         0\n",
              "compliment_cute            0\n",
              "compliment_list            0\n",
              "compliment_note            0\n",
              "compliment_plain           0\n",
              "compliment_cool            0\n",
              "compliment_funny           0\n",
              "compliment_writer          0\n",
              "compliment_photos          0\n",
              "monday                     0\n",
              "tuesday                    0\n",
              "wednesday                  0\n",
              "thursday                   0\n",
              "friday                     0\n",
              "saturday                   0\n",
              "sunday                     0\n",
              "dtype: int64"
            ]
          },
          "metadata": {
            "tags": []
          },
          "execution_count": 60
        }
      ]
    },
    {
      "cell_type": "markdown",
      "metadata": {
        "id": "lMl769J59Haw",
        "colab_type": "text"
      },
      "source": [
        "Here we find that although there are null values in \"neighborhood\", \"postal_code\", and \"name_usr\" column, it will not affect our analysis. There are no null values in the columns we need."
      ]
    },
    {
      "cell_type": "markdown",
      "metadata": {
        "colab_type": "text",
        "id": "pJ5m60CkJ5O5"
      },
      "source": [
        "---"
      ]
    },
    {
      "cell_type": "markdown",
      "metadata": {
        "id": "cGbr-xHLJv5p",
        "colab_type": "text"
      },
      "source": [
        "## Data Analysis"
      ]
    },
    {
      "cell_type": "markdown",
      "metadata": {
        "id": "NDt0vLhl8gDC",
        "colab_type": "text"
      },
      "source": [
        "### a. Central User Impact Analysis\n"
      ]
    },
    {
      "cell_type": "markdown",
      "metadata": {
        "id": "poHgtdeepjOT",
        "colab_type": "text"
      },
      "source": [
        "Certain reviewers have more friends who are also active on the review platform, so we define them as “central users”. We want to know how accurate the average rating given by central users is in predicting the true restaurant average rating? (In other words, are these users’ ratings close to average restaurant stars?) "
      ]
    },
    {
      "cell_type": "code",
      "metadata": {
        "id": "-x6DiN0h0qD-",
        "colab_type": "code",
        "outputId": "e5c16b6d-ea6d-4d59-89f3-9ab8be165274",
        "colab": {
          "base_uri": "https://localhost:8080/",
          "height": 649
        }
      },
      "source": [
        "NV_restaurant_usr_review_biz_hours.head()"
      ],
      "execution_count": 0,
      "outputs": [
        {
          "output_type": "execute_result",
          "data": {
            "text/html": [
              "<div>\n",
              "<style scoped>\n",
              "    .dataframe tbody tr th:only-of-type {\n",
              "        vertical-align: middle;\n",
              "    }\n",
              "\n",
              "    .dataframe tbody tr th {\n",
              "        vertical-align: top;\n",
              "    }\n",
              "\n",
              "    .dataframe thead th {\n",
              "        text-align: right;\n",
              "    }\n",
              "</style>\n",
              "<table border=\"1\" class=\"dataframe\">\n",
              "  <thead>\n",
              "    <tr style=\"text-align: right;\">\n",
              "      <th></th>\n",
              "      <th>business_id</th>\n",
              "      <th>name_rvw</th>\n",
              "      <th>neighborhood</th>\n",
              "      <th>address</th>\n",
              "      <th>city</th>\n",
              "      <th>state</th>\n",
              "      <th>postal_code</th>\n",
              "      <th>latitude</th>\n",
              "      <th>longitude</th>\n",
              "      <th>stars_biz</th>\n",
              "      <th>review_count_rvw</th>\n",
              "      <th>is_open</th>\n",
              "      <th>categories</th>\n",
              "      <th>review_id</th>\n",
              "      <th>user_id</th>\n",
              "      <th>stars_rvw</th>\n",
              "      <th>date</th>\n",
              "      <th>text</th>\n",
              "      <th>useful_rvw</th>\n",
              "      <th>funny_rvw</th>\n",
              "      <th>cool_rvw</th>\n",
              "      <th>name_usr</th>\n",
              "      <th>review_count_usr</th>\n",
              "      <th>yelping_since</th>\n",
              "      <th>friends</th>\n",
              "      <th>useful_usr</th>\n",
              "      <th>funny_usr</th>\n",
              "      <th>cool_usr</th>\n",
              "      <th>fans</th>\n",
              "      <th>elite</th>\n",
              "      <th>average_stars</th>\n",
              "      <th>compliment_hot</th>\n",
              "      <th>compliment_more</th>\n",
              "      <th>compliment_profile</th>\n",
              "      <th>compliment_cute</th>\n",
              "      <th>compliment_list</th>\n",
              "      <th>compliment_note</th>\n",
              "      <th>compliment_plain</th>\n",
              "      <th>compliment_cool</th>\n",
              "      <th>compliment_funny</th>\n",
              "      <th>compliment_writer</th>\n",
              "      <th>compliment_photos</th>\n",
              "      <th>monday</th>\n",
              "      <th>tuesday</th>\n",
              "      <th>wednesday</th>\n",
              "      <th>thursday</th>\n",
              "      <th>friday</th>\n",
              "      <th>saturday</th>\n",
              "      <th>sunday</th>\n",
              "    </tr>\n",
              "  </thead>\n",
              "  <tbody>\n",
              "    <tr>\n",
              "      <th>305</th>\n",
              "      <td>Pd52CjgyEU3Rb8co6QfTPw</td>\n",
              "      <td>\"Flight Deck Bar &amp; Grill\"</td>\n",
              "      <td>Southeast</td>\n",
              "      <td>\"6730 S Las Vegas Blvd\"</td>\n",
              "      <td>Las Vegas</td>\n",
              "      <td>NV</td>\n",
              "      <td>89119</td>\n",
              "      <td>36.066914</td>\n",
              "      <td>-115.170848</td>\n",
              "      <td>4.0</td>\n",
              "      <td>13.0</td>\n",
              "      <td>1.0</td>\n",
              "      <td>Nightlife;Bars;Barbeque;Sports Bars;American (...</td>\n",
              "      <td>aG4aEOW86hut943oqL_DOg</td>\n",
              "      <td>9kV4tmBcE-l5tJqzgKjZRA</td>\n",
              "      <td>4.0</td>\n",
              "      <td>2017-03-27</td>\n",
              "      <td>Nice, open bar with great views of the strip a...</td>\n",
              "      <td>0</td>\n",
              "      <td>0</td>\n",
              "      <td>1</td>\n",
              "      <td>Lenore</td>\n",
              "      <td>20.0</td>\n",
              "      <td>2010-09-17</td>\n",
              "      <td>ucAN8VJoiA-_ysMCgZev1w</td>\n",
              "      <td>2.0</td>\n",
              "      <td>1.0</td>\n",
              "      <td>1.0</td>\n",
              "      <td>0.0</td>\n",
              "      <td>None</td>\n",
              "      <td>3.00</td>\n",
              "      <td>0.0</td>\n",
              "      <td>0.0</td>\n",
              "      <td>0.0</td>\n",
              "      <td>0.0</td>\n",
              "      <td>0.0</td>\n",
              "      <td>0.0</td>\n",
              "      <td>2.0</td>\n",
              "      <td>1.0</td>\n",
              "      <td>1.0</td>\n",
              "      <td>0.0</td>\n",
              "      <td>0.0</td>\n",
              "      <td>8:30-22:30</td>\n",
              "      <td>8:30-22:30</td>\n",
              "      <td>8:30-22:30</td>\n",
              "      <td>8:30-22:30</td>\n",
              "      <td>8:30-22:30</td>\n",
              "      <td>8:30-22:30</td>\n",
              "      <td>8:30-22:30</td>\n",
              "    </tr>\n",
              "    <tr>\n",
              "      <th>306</th>\n",
              "      <td>Pd52CjgyEU3Rb8co6QfTPw</td>\n",
              "      <td>\"Flight Deck Bar &amp; Grill\"</td>\n",
              "      <td>Southeast</td>\n",
              "      <td>\"6730 S Las Vegas Blvd\"</td>\n",
              "      <td>Las Vegas</td>\n",
              "      <td>NV</td>\n",
              "      <td>89119</td>\n",
              "      <td>36.066914</td>\n",
              "      <td>-115.170848</td>\n",
              "      <td>4.0</td>\n",
              "      <td>13.0</td>\n",
              "      <td>1.0</td>\n",
              "      <td>Nightlife;Bars;Barbeque;Sports Bars;American (...</td>\n",
              "      <td>fQpivmd02GA4eZJRZGgDQQ</td>\n",
              "      <td>i7Z7iiDSbWq-npAYHQUeew</td>\n",
              "      <td>5.0</td>\n",
              "      <td>2016-08-27</td>\n",
              "      <td>We usually stop here after using the driving r...</td>\n",
              "      <td>0</td>\n",
              "      <td>0</td>\n",
              "      <td>0</td>\n",
              "      <td>Neil</td>\n",
              "      <td>3.0</td>\n",
              "      <td>2015-05-21</td>\n",
              "      <td>None</td>\n",
              "      <td>0.0</td>\n",
              "      <td>0.0</td>\n",
              "      <td>0.0</td>\n",
              "      <td>0.0</td>\n",
              "      <td>None</td>\n",
              "      <td>3.67</td>\n",
              "      <td>0.0</td>\n",
              "      <td>0.0</td>\n",
              "      <td>0.0</td>\n",
              "      <td>0.0</td>\n",
              "      <td>0.0</td>\n",
              "      <td>0.0</td>\n",
              "      <td>0.0</td>\n",
              "      <td>0.0</td>\n",
              "      <td>0.0</td>\n",
              "      <td>0.0</td>\n",
              "      <td>0.0</td>\n",
              "      <td>8:30-22:30</td>\n",
              "      <td>8:30-22:30</td>\n",
              "      <td>8:30-22:30</td>\n",
              "      <td>8:30-22:30</td>\n",
              "      <td>8:30-22:30</td>\n",
              "      <td>8:30-22:30</td>\n",
              "      <td>8:30-22:30</td>\n",
              "    </tr>\n",
              "    <tr>\n",
              "      <th>307</th>\n",
              "      <td>Pd52CjgyEU3Rb8co6QfTPw</td>\n",
              "      <td>\"Flight Deck Bar &amp; Grill\"</td>\n",
              "      <td>Southeast</td>\n",
              "      <td>\"6730 S Las Vegas Blvd\"</td>\n",
              "      <td>Las Vegas</td>\n",
              "      <td>NV</td>\n",
              "      <td>89119</td>\n",
              "      <td>36.066914</td>\n",
              "      <td>-115.170848</td>\n",
              "      <td>4.0</td>\n",
              "      <td>13.0</td>\n",
              "      <td>1.0</td>\n",
              "      <td>Nightlife;Bars;Barbeque;Sports Bars;American (...</td>\n",
              "      <td>3recIhisA9vC4wnQOMCj7g</td>\n",
              "      <td>7Iga45IMB_VKyPZnbhSE2w</td>\n",
              "      <td>1.0</td>\n",
              "      <td>2016-01-09</td>\n",
              "      <td>The first time we ate here everything was good...</td>\n",
              "      <td>1</td>\n",
              "      <td>1</td>\n",
              "      <td>0</td>\n",
              "      <td>Christina</td>\n",
              "      <td>4.0</td>\n",
              "      <td>2013-12-13</td>\n",
              "      <td>AxgDcQmNZal6QtlvgZDtrA, oKyFY5g_xQQKcid6g1BYig</td>\n",
              "      <td>0.0</td>\n",
              "      <td>0.0</td>\n",
              "      <td>0.0</td>\n",
              "      <td>0.0</td>\n",
              "      <td>None</td>\n",
              "      <td>4.00</td>\n",
              "      <td>0.0</td>\n",
              "      <td>0.0</td>\n",
              "      <td>0.0</td>\n",
              "      <td>0.0</td>\n",
              "      <td>0.0</td>\n",
              "      <td>0.0</td>\n",
              "      <td>0.0</td>\n",
              "      <td>0.0</td>\n",
              "      <td>0.0</td>\n",
              "      <td>0.0</td>\n",
              "      <td>0.0</td>\n",
              "      <td>8:30-22:30</td>\n",
              "      <td>8:30-22:30</td>\n",
              "      <td>8:30-22:30</td>\n",
              "      <td>8:30-22:30</td>\n",
              "      <td>8:30-22:30</td>\n",
              "      <td>8:30-22:30</td>\n",
              "      <td>8:30-22:30</td>\n",
              "    </tr>\n",
              "    <tr>\n",
              "      <th>308</th>\n",
              "      <td>Pd52CjgyEU3Rb8co6QfTPw</td>\n",
              "      <td>\"Flight Deck Bar &amp; Grill\"</td>\n",
              "      <td>Southeast</td>\n",
              "      <td>\"6730 S Las Vegas Blvd\"</td>\n",
              "      <td>Las Vegas</td>\n",
              "      <td>NV</td>\n",
              "      <td>89119</td>\n",
              "      <td>36.066914</td>\n",
              "      <td>-115.170848</td>\n",
              "      <td>4.0</td>\n",
              "      <td>13.0</td>\n",
              "      <td>1.0</td>\n",
              "      <td>Nightlife;Bars;Barbeque;Sports Bars;American (...</td>\n",
              "      <td>18i3YtCuEGMxYSS7fQdR8Q</td>\n",
              "      <td>IvBzaJeCcuChLuKGq3xhxA</td>\n",
              "      <td>2.0</td>\n",
              "      <td>2016-08-22</td>\n",
              "      <td>So I took my daughter there for breakfast and ...</td>\n",
              "      <td>1</td>\n",
              "      <td>0</td>\n",
              "      <td>0</td>\n",
              "      <td>Sean</td>\n",
              "      <td>9.0</td>\n",
              "      <td>2013-07-22</td>\n",
              "      <td>hmGjr-xUW1IDK_m3ZT9aCg</td>\n",
              "      <td>20.0</td>\n",
              "      <td>0.0</td>\n",
              "      <td>2.0</td>\n",
              "      <td>1.0</td>\n",
              "      <td>None</td>\n",
              "      <td>4.00</td>\n",
              "      <td>0.0</td>\n",
              "      <td>0.0</td>\n",
              "      <td>0.0</td>\n",
              "      <td>0.0</td>\n",
              "      <td>0.0</td>\n",
              "      <td>0.0</td>\n",
              "      <td>0.0</td>\n",
              "      <td>0.0</td>\n",
              "      <td>0.0</td>\n",
              "      <td>1.0</td>\n",
              "      <td>0.0</td>\n",
              "      <td>8:30-22:30</td>\n",
              "      <td>8:30-22:30</td>\n",
              "      <td>8:30-22:30</td>\n",
              "      <td>8:30-22:30</td>\n",
              "      <td>8:30-22:30</td>\n",
              "      <td>8:30-22:30</td>\n",
              "      <td>8:30-22:30</td>\n",
              "    </tr>\n",
              "    <tr>\n",
              "      <th>309</th>\n",
              "      <td>Pd52CjgyEU3Rb8co6QfTPw</td>\n",
              "      <td>\"Flight Deck Bar &amp; Grill\"</td>\n",
              "      <td>Southeast</td>\n",
              "      <td>\"6730 S Las Vegas Blvd\"</td>\n",
              "      <td>Las Vegas</td>\n",
              "      <td>NV</td>\n",
              "      <td>89119</td>\n",
              "      <td>36.066914</td>\n",
              "      <td>-115.170848</td>\n",
              "      <td>4.0</td>\n",
              "      <td>13.0</td>\n",
              "      <td>1.0</td>\n",
              "      <td>Nightlife;Bars;Barbeque;Sports Bars;American (...</td>\n",
              "      <td>brbrSd8nHkAEoN56ADEl9A</td>\n",
              "      <td>nIV1-sMoRFrnEtO1TUfLZQ</td>\n",
              "      <td>1.0</td>\n",
              "      <td>2015-10-28</td>\n",
              "      <td>This restaurant has a new name it used to be c...</td>\n",
              "      <td>1</td>\n",
              "      <td>0</td>\n",
              "      <td>0</td>\n",
              "      <td>Mike</td>\n",
              "      <td>13.0</td>\n",
              "      <td>2015-10-28</td>\n",
              "      <td>None</td>\n",
              "      <td>6.0</td>\n",
              "      <td>0.0</td>\n",
              "      <td>0.0</td>\n",
              "      <td>0.0</td>\n",
              "      <td>None</td>\n",
              "      <td>3.54</td>\n",
              "      <td>0.0</td>\n",
              "      <td>0.0</td>\n",
              "      <td>0.0</td>\n",
              "      <td>0.0</td>\n",
              "      <td>0.0</td>\n",
              "      <td>0.0</td>\n",
              "      <td>0.0</td>\n",
              "      <td>0.0</td>\n",
              "      <td>0.0</td>\n",
              "      <td>0.0</td>\n",
              "      <td>0.0</td>\n",
              "      <td>8:30-22:30</td>\n",
              "      <td>8:30-22:30</td>\n",
              "      <td>8:30-22:30</td>\n",
              "      <td>8:30-22:30</td>\n",
              "      <td>8:30-22:30</td>\n",
              "      <td>8:30-22:30</td>\n",
              "      <td>8:30-22:30</td>\n",
              "    </tr>\n",
              "  </tbody>\n",
              "</table>\n",
              "</div>"
            ],
            "text/plain": [
              "                business_id                   name_rvw  ...    saturday      sunday\n",
              "305  Pd52CjgyEU3Rb8co6QfTPw  \"Flight Deck Bar & Grill\"  ...  8:30-22:30  8:30-22:30\n",
              "306  Pd52CjgyEU3Rb8co6QfTPw  \"Flight Deck Bar & Grill\"  ...  8:30-22:30  8:30-22:30\n",
              "307  Pd52CjgyEU3Rb8co6QfTPw  \"Flight Deck Bar & Grill\"  ...  8:30-22:30  8:30-22:30\n",
              "308  Pd52CjgyEU3Rb8co6QfTPw  \"Flight Deck Bar & Grill\"  ...  8:30-22:30  8:30-22:30\n",
              "309  Pd52CjgyEU3Rb8co6QfTPw  \"Flight Deck Bar & Grill\"  ...  8:30-22:30  8:30-22:30\n",
              "\n",
              "[5 rows x 49 columns]"
            ]
          },
          "metadata": {
            "tags": []
          },
          "execution_count": 61
        }
      ]
    },
    {
      "cell_type": "code",
      "metadata": {
        "id": "PmSFWF98rhJa",
        "colab_type": "code",
        "colab": {}
      },
      "source": [
        "#10% lenghth of the dataset\n",
        "L=round(len(NV_restaurant_usr_review_biz_hours)*0.1)"
      ],
      "execution_count": 0,
      "outputs": []
    },
    {
      "cell_type": "markdown",
      "metadata": {
        "colab_type": "text",
        "id": "5zIhT8vR-zB9"
      },
      "source": [
        "We will select the top 10% of the users who have the most fans on Yelp as central users. We decide to delete the first user because the number of its fans is over 7000, which is too high. Based on this, we assume this user is an outlier and do not consider this piece of data."
      ]
    },
    {
      "cell_type": "code",
      "metadata": {
        "id": "FMgQx6r9CQLN",
        "colab_type": "code",
        "outputId": "d06aa4a1-648f-472e-9baf-04e78a31b3fe",
        "colab": {
          "base_uri": "https://localhost:8080/",
          "height": 819
        }
      },
      "source": [
        "# Get first 10% of the sorted user data\n",
        "\n",
        "yelp_central_user=NV_restaurant_usr_review_biz_hours.sort_values(by=['fans'],ascending=False)[2:L]\n",
        "yelp_central_user.head()"
      ],
      "execution_count": 0,
      "outputs": [
        {
          "output_type": "execute_result",
          "data": {
            "text/html": [
              "<div>\n",
              "<style scoped>\n",
              "    .dataframe tbody tr th:only-of-type {\n",
              "        vertical-align: middle;\n",
              "    }\n",
              "\n",
              "    .dataframe tbody tr th {\n",
              "        vertical-align: top;\n",
              "    }\n",
              "\n",
              "    .dataframe thead th {\n",
              "        text-align: right;\n",
              "    }\n",
              "</style>\n",
              "<table border=\"1\" class=\"dataframe\">\n",
              "  <thead>\n",
              "    <tr style=\"text-align: right;\">\n",
              "      <th></th>\n",
              "      <th>business_id</th>\n",
              "      <th>name_rvw</th>\n",
              "      <th>neighborhood</th>\n",
              "      <th>address</th>\n",
              "      <th>city</th>\n",
              "      <th>state</th>\n",
              "      <th>postal_code</th>\n",
              "      <th>latitude</th>\n",
              "      <th>longitude</th>\n",
              "      <th>stars_biz</th>\n",
              "      <th>review_count_rvw</th>\n",
              "      <th>is_open</th>\n",
              "      <th>categories</th>\n",
              "      <th>review_id</th>\n",
              "      <th>user_id</th>\n",
              "      <th>stars_rvw</th>\n",
              "      <th>date</th>\n",
              "      <th>text</th>\n",
              "      <th>useful_rvw</th>\n",
              "      <th>funny_rvw</th>\n",
              "      <th>cool_rvw</th>\n",
              "      <th>name_usr</th>\n",
              "      <th>review_count_usr</th>\n",
              "      <th>yelping_since</th>\n",
              "      <th>friends</th>\n",
              "      <th>useful_usr</th>\n",
              "      <th>funny_usr</th>\n",
              "      <th>cool_usr</th>\n",
              "      <th>fans</th>\n",
              "      <th>elite</th>\n",
              "      <th>average_stars</th>\n",
              "      <th>compliment_hot</th>\n",
              "      <th>compliment_more</th>\n",
              "      <th>compliment_profile</th>\n",
              "      <th>compliment_cute</th>\n",
              "      <th>compliment_list</th>\n",
              "      <th>compliment_note</th>\n",
              "      <th>compliment_plain</th>\n",
              "      <th>compliment_cool</th>\n",
              "      <th>compliment_funny</th>\n",
              "      <th>compliment_writer</th>\n",
              "      <th>compliment_photos</th>\n",
              "      <th>monday</th>\n",
              "      <th>tuesday</th>\n",
              "      <th>wednesday</th>\n",
              "      <th>thursday</th>\n",
              "      <th>friday</th>\n",
              "      <th>saturday</th>\n",
              "      <th>sunday</th>\n",
              "    </tr>\n",
              "  </thead>\n",
              "  <tbody>\n",
              "    <tr>\n",
              "      <th>666670</th>\n",
              "      <td>X8c23dur0ll2D9XTu-I8Qg</td>\n",
              "      <td>\"Hakkasan Nightclub\"</td>\n",
              "      <td>The Strip</td>\n",
              "      <td>\"Mgm Grand Hotel And Casino, 3799 Las Vegas Bl...</td>\n",
              "      <td>Las Vegas</td>\n",
              "      <td>NV</td>\n",
              "      <td>89109</td>\n",
              "      <td>36.101375</td>\n",
              "      <td>-115.172452</td>\n",
              "      <td>2.5</td>\n",
              "      <td>1607.0</td>\n",
              "      <td>1.0</td>\n",
              "      <td>Cantonese;Dance Clubs;Nightlife;Chinese;Lounge...</td>\n",
              "      <td>aOucJzms8tnuPj0zsAF7sQ</td>\n",
              "      <td>hizGc5W1tBHPghM5YKCAtg</td>\n",
              "      <td>1.0</td>\n",
              "      <td>2013-08-29</td>\n",
              "      <td>Ladiessssssss....hold tight to those purses!\\n...</td>\n",
              "      <td>119</td>\n",
              "      <td>33</td>\n",
              "      <td>25</td>\n",
              "      <td>Katie</td>\n",
              "      <td>1324.0</td>\n",
              "      <td>2009-05-22</td>\n",
              "      <td>FVeD1j9SeczVz-jZyPxBJg, FOAzasqfYPOD2bWcuuyGDg...</td>\n",
              "      <td>13279.0</td>\n",
              "      <td>1317.0</td>\n",
              "      <td>9491.0</td>\n",
              "      <td>2499.0</td>\n",
              "      <td>2014, 2013, 2010, 2015, 2016, 2009, 2012, 2017...</td>\n",
              "      <td>4.19</td>\n",
              "      <td>6184.0</td>\n",
              "      <td>403.0</td>\n",
              "      <td>398.0</td>\n",
              "      <td>360.0</td>\n",
              "      <td>251.0</td>\n",
              "      <td>2804.0</td>\n",
              "      <td>13638.0</td>\n",
              "      <td>7032.0</td>\n",
              "      <td>7032.0</td>\n",
              "      <td>2410.0</td>\n",
              "      <td>1358.0</td>\n",
              "      <td>None</td>\n",
              "      <td>None</td>\n",
              "      <td>None</td>\n",
              "      <td>22:30-4:0</td>\n",
              "      <td>22:30-4:0</td>\n",
              "      <td>22:30-4:0</td>\n",
              "      <td>22:30-4:0</td>\n",
              "    </tr>\n",
              "    <tr>\n",
              "      <th>921513</th>\n",
              "      <td>lIDgEB1HnKAq03H1fpjzLQ</td>\n",
              "      <td>\"Bad Owl Coffee\"</td>\n",
              "      <td>Anthem</td>\n",
              "      <td>\"10575 S Eastern Ave, Ste 160\"</td>\n",
              "      <td>Henderson</td>\n",
              "      <td>NV</td>\n",
              "      <td>89052</td>\n",
              "      <td>35.999184</td>\n",
              "      <td>-115.106076</td>\n",
              "      <td>4.0</td>\n",
              "      <td>594.0</td>\n",
              "      <td>1.0</td>\n",
              "      <td>Restaurants;Coffee &amp; Tea;Beer;Wine &amp; Spirits;D...</td>\n",
              "      <td>3_0irIhVOziLTDvmf7-QKg</td>\n",
              "      <td>hizGc5W1tBHPghM5YKCAtg</td>\n",
              "      <td>4.0</td>\n",
              "      <td>2016-10-21</td>\n",
              "      <td>Was actually turned off when I realized it was...</td>\n",
              "      <td>36</td>\n",
              "      <td>24</td>\n",
              "      <td>35</td>\n",
              "      <td>Katie</td>\n",
              "      <td>1324.0</td>\n",
              "      <td>2009-05-22</td>\n",
              "      <td>FVeD1j9SeczVz-jZyPxBJg, FOAzasqfYPOD2bWcuuyGDg...</td>\n",
              "      <td>13279.0</td>\n",
              "      <td>1317.0</td>\n",
              "      <td>9491.0</td>\n",
              "      <td>2499.0</td>\n",
              "      <td>2014, 2013, 2010, 2015, 2016, 2009, 2012, 2017...</td>\n",
              "      <td>4.19</td>\n",
              "      <td>6184.0</td>\n",
              "      <td>403.0</td>\n",
              "      <td>398.0</td>\n",
              "      <td>360.0</td>\n",
              "      <td>251.0</td>\n",
              "      <td>2804.0</td>\n",
              "      <td>13638.0</td>\n",
              "      <td>7032.0</td>\n",
              "      <td>7032.0</td>\n",
              "      <td>2410.0</td>\n",
              "      <td>1358.0</td>\n",
              "      <td>7:0-19:0</td>\n",
              "      <td>7:0-19:0</td>\n",
              "      <td>7:0-19:0</td>\n",
              "      <td>7:0-19:0</td>\n",
              "      <td>7:0-20:0</td>\n",
              "      <td>7:0-20:0</td>\n",
              "      <td>7:0-19:0</td>\n",
              "    </tr>\n",
              "    <tr>\n",
              "      <th>462013</th>\n",
              "      <td>mU3vlAVzTxgmZUu6F4XixA</td>\n",
              "      <td>\"Momofuku Las Vegas\"</td>\n",
              "      <td>The Strip</td>\n",
              "      <td>\"3708 S Las Vegas Blvd, Level 2\"</td>\n",
              "      <td>Las Vegas</td>\n",
              "      <td>NV</td>\n",
              "      <td>89109</td>\n",
              "      <td>36.109755</td>\n",
              "      <td>-115.173877</td>\n",
              "      <td>4.0</td>\n",
              "      <td>750.0</td>\n",
              "      <td>1.0</td>\n",
              "      <td>Restaurants;American (New)</td>\n",
              "      <td>8XOKBnUSmabSMMSd0g1Yuw</td>\n",
              "      <td>hizGc5W1tBHPghM5YKCAtg</td>\n",
              "      <td>5.0</td>\n",
              "      <td>2017-09-18</td>\n",
              "      <td>Was treated to a really lovely dinner here wit...</td>\n",
              "      <td>33</td>\n",
              "      <td>26</td>\n",
              "      <td>30</td>\n",
              "      <td>Katie</td>\n",
              "      <td>1324.0</td>\n",
              "      <td>2009-05-22</td>\n",
              "      <td>FVeD1j9SeczVz-jZyPxBJg, FOAzasqfYPOD2bWcuuyGDg...</td>\n",
              "      <td>13279.0</td>\n",
              "      <td>1317.0</td>\n",
              "      <td>9491.0</td>\n",
              "      <td>2499.0</td>\n",
              "      <td>2014, 2013, 2010, 2015, 2016, 2009, 2012, 2017...</td>\n",
              "      <td>4.19</td>\n",
              "      <td>6184.0</td>\n",
              "      <td>403.0</td>\n",
              "      <td>398.0</td>\n",
              "      <td>360.0</td>\n",
              "      <td>251.0</td>\n",
              "      <td>2804.0</td>\n",
              "      <td>13638.0</td>\n",
              "      <td>7032.0</td>\n",
              "      <td>7032.0</td>\n",
              "      <td>2410.0</td>\n",
              "      <td>1358.0</td>\n",
              "      <td>11:0-0:0</td>\n",
              "      <td>11:0-0:0</td>\n",
              "      <td>11:0-0:0</td>\n",
              "      <td>11:0-0:0</td>\n",
              "      <td>11:0-1:0</td>\n",
              "      <td>11:0-1:0</td>\n",
              "      <td>11:0-0:0</td>\n",
              "    </tr>\n",
              "    <tr>\n",
              "      <th>279120</th>\n",
              "      <td>iCQpiavjjPzJ5_3gPD5Ebg</td>\n",
              "      <td>\"Secret Pizza\"</td>\n",
              "      <td>The Strip</td>\n",
              "      <td>\"The Cosmopolitan Of Las Vegas, 3708 Las Vegas...</td>\n",
              "      <td>Las Vegas</td>\n",
              "      <td>NV</td>\n",
              "      <td>89109</td>\n",
              "      <td>36.112372</td>\n",
              "      <td>-115.173064</td>\n",
              "      <td>4.0</td>\n",
              "      <td>3741.0</td>\n",
              "      <td>1.0</td>\n",
              "      <td>Pizza;Restaurants</td>\n",
              "      <td>C-nM5G44V8ftfzN7wazSeg</td>\n",
              "      <td>hizGc5W1tBHPghM5YKCAtg</td>\n",
              "      <td>5.0</td>\n",
              "      <td>2012-05-23</td>\n",
              "      <td>Secret pizza is the shit. Sober or drunk, it's...</td>\n",
              "      <td>49</td>\n",
              "      <td>44</td>\n",
              "      <td>40</td>\n",
              "      <td>Katie</td>\n",
              "      <td>1324.0</td>\n",
              "      <td>2009-05-22</td>\n",
              "      <td>FVeD1j9SeczVz-jZyPxBJg, FOAzasqfYPOD2bWcuuyGDg...</td>\n",
              "      <td>13279.0</td>\n",
              "      <td>1317.0</td>\n",
              "      <td>9491.0</td>\n",
              "      <td>2499.0</td>\n",
              "      <td>2014, 2013, 2010, 2015, 2016, 2009, 2012, 2017...</td>\n",
              "      <td>4.19</td>\n",
              "      <td>6184.0</td>\n",
              "      <td>403.0</td>\n",
              "      <td>398.0</td>\n",
              "      <td>360.0</td>\n",
              "      <td>251.0</td>\n",
              "      <td>2804.0</td>\n",
              "      <td>13638.0</td>\n",
              "      <td>7032.0</td>\n",
              "      <td>7032.0</td>\n",
              "      <td>2410.0</td>\n",
              "      <td>1358.0</td>\n",
              "      <td>11:0-5:0</td>\n",
              "      <td>11:0-4:0</td>\n",
              "      <td>11:0-4:0</td>\n",
              "      <td>11:0-4:0</td>\n",
              "      <td>11:0-5:0</td>\n",
              "      <td>11:0-5:0</td>\n",
              "      <td>11:0-5:0</td>\n",
              "    </tr>\n",
              "    <tr>\n",
              "      <th>97744</th>\n",
              "      <td>gOOfBSBZlffCkQ7dr7cpdw</td>\n",
              "      <td>\"Chica\"</td>\n",
              "      <td>The Strip</td>\n",
              "      <td>\"3355 South Las Vegas Blvd, Ste 106\"</td>\n",
              "      <td>Las Vegas</td>\n",
              "      <td>NV</td>\n",
              "      <td>89109</td>\n",
              "      <td>36.122690</td>\n",
              "      <td>-115.170194</td>\n",
              "      <td>4.5</td>\n",
              "      <td>264.0</td>\n",
              "      <td>1.0</td>\n",
              "      <td>Restaurants;Wine Bars;Mexican;Bars;Nightlife;L...</td>\n",
              "      <td>1pCC8v5wZhnt5Zbd8VIqlw</td>\n",
              "      <td>hizGc5W1tBHPghM5YKCAtg</td>\n",
              "      <td>3.0</td>\n",
              "      <td>2017-09-22</td>\n",
              "      <td>For a group of 20ish people, we had a $40\\/per...</td>\n",
              "      <td>24</td>\n",
              "      <td>14</td>\n",
              "      <td>14</td>\n",
              "      <td>Katie</td>\n",
              "      <td>1324.0</td>\n",
              "      <td>2009-05-22</td>\n",
              "      <td>FVeD1j9SeczVz-jZyPxBJg, FOAzasqfYPOD2bWcuuyGDg...</td>\n",
              "      <td>13279.0</td>\n",
              "      <td>1317.0</td>\n",
              "      <td>9491.0</td>\n",
              "      <td>2499.0</td>\n",
              "      <td>2014, 2013, 2010, 2015, 2016, 2009, 2012, 2017...</td>\n",
              "      <td>4.19</td>\n",
              "      <td>6184.0</td>\n",
              "      <td>403.0</td>\n",
              "      <td>398.0</td>\n",
              "      <td>360.0</td>\n",
              "      <td>251.0</td>\n",
              "      <td>2804.0</td>\n",
              "      <td>13638.0</td>\n",
              "      <td>7032.0</td>\n",
              "      <td>7032.0</td>\n",
              "      <td>2410.0</td>\n",
              "      <td>1358.0</td>\n",
              "      <td>8:0-23:0</td>\n",
              "      <td>8:0-23:0</td>\n",
              "      <td>8:0-23:0</td>\n",
              "      <td>8:0-23:0</td>\n",
              "      <td>8:0-23:0</td>\n",
              "      <td>10:0-23:0</td>\n",
              "      <td>10:0-23:0</td>\n",
              "    </tr>\n",
              "  </tbody>\n",
              "</table>\n",
              "</div>"
            ],
            "text/plain": [
              "                   business_id              name_rvw  ...   saturday     sunday\n",
              "666670  X8c23dur0ll2D9XTu-I8Qg  \"Hakkasan Nightclub\"  ...  22:30-4:0  22:30-4:0\n",
              "921513  lIDgEB1HnKAq03H1fpjzLQ      \"Bad Owl Coffee\"  ...   7:0-20:0   7:0-19:0\n",
              "462013  mU3vlAVzTxgmZUu6F4XixA  \"Momofuku Las Vegas\"  ...   11:0-1:0   11:0-0:0\n",
              "279120  iCQpiavjjPzJ5_3gPD5Ebg        \"Secret Pizza\"  ...   11:0-5:0   11:0-5:0\n",
              "97744   gOOfBSBZlffCkQ7dr7cpdw               \"Chica\"  ...  10:0-23:0  10:0-23:0\n",
              "\n",
              "[5 rows x 49 columns]"
            ]
          },
          "metadata": {
            "tags": []
          },
          "execution_count": 63
        }
      ]
    },
    {
      "cell_type": "markdown",
      "metadata": {
        "id": "zJvcDA4JsjM2",
        "colab_type": "text"
      },
      "source": [
        "Let's describe the data according to its statistics."
      ]
    },
    {
      "cell_type": "code",
      "metadata": {
        "id": "7I0YwhGHsl0i",
        "colab_type": "code",
        "outputId": "cf9c2c69-6a85-4b7b-ce56-42254665d898",
        "colab": {
          "base_uri": "https://localhost:8080/",
          "height": 174
        }
      },
      "source": [
        "yelp_central_user['stars_biz'].describe()"
      ],
      "execution_count": 0,
      "outputs": [
        {
          "output_type": "execute_result",
          "data": {
            "text/plain": [
              "count    118598.00000\n",
              "mean          3.71118\n",
              "std           0.58892\n",
              "min           1.00000\n",
              "25%           3.50000\n",
              "50%           4.00000\n",
              "75%           4.00000\n",
              "max           5.00000\n",
              "Name: stars_biz, dtype: float64"
            ]
          },
          "metadata": {
            "tags": []
          },
          "execution_count": 66
        }
      ]
    },
    {
      "cell_type": "code",
      "metadata": {
        "id": "01kjsH2uf8wY",
        "colab_type": "code",
        "outputId": "72b6dd26-cbd8-4345-f217-5c46b9322206",
        "colab": {
          "base_uri": "https://localhost:8080/",
          "height": 174
        }
      },
      "source": [
        "yelp_central_user['stars_rvw'].astype(float).describe()"
      ],
      "execution_count": 0,
      "outputs": [
        {
          "output_type": "execute_result",
          "data": {
            "text/plain": [
              "count    118598.000000\n",
              "mean          3.709498\n",
              "std           1.041028\n",
              "min           1.000000\n",
              "25%           3.000000\n",
              "50%           4.000000\n",
              "75%           4.000000\n",
              "max           5.000000\n",
              "Name: stars_rvw, dtype: float64"
            ]
          },
          "metadata": {
            "tags": []
          },
          "execution_count": 67
        }
      ]
    },
    {
      "cell_type": "markdown",
      "metadata": {
        "id": "fnsb4p10ssxU",
        "colab_type": "text"
      },
      "source": [
        "We can see that the values of their statistics are very close to each other.This tells us that there is no big difference between the values of average ratings given by our central yelp users and the average ratings of the businesses."
      ]
    },
    {
      "cell_type": "markdown",
      "metadata": {
        "id": "Zyv_wzFXsx6d",
        "colab_type": "text"
      },
      "source": [
        "Let's extract the data for the first 300 central users, and plot their ratings versus the average business ratings to get a general sense of the comparisons between them."
      ]
    },
    {
      "cell_type": "code",
      "metadata": {
        "id": "kCuOIR7UsvPj",
        "colab_type": "code",
        "outputId": "38478561-823c-4450-a0f4-0648f20ff512",
        "colab": {
          "base_uri": "https://localhost:8080/",
          "height": 542
        }
      },
      "source": [
        "# create plots\n",
        "# Grouped bar chart\n",
        "import plotly.offline as py\n",
        "import plotly.graph_objs as go\n",
        "trace0 = go.Bar(\n",
        "    x=yelp_central_user['name_rvw'][1:300],\n",
        "    y=yelp_central_user['stars_rvw'][1:300],\n",
        "    name = 'central_user_rating')\n",
        "\n",
        "trace1 = go.Bar(\n",
        "    x=yelp_central_user['name_rvw'][1:300],\n",
        "    y=yelp_central_user['stars_biz'][1:300],\n",
        "    name = 'average business rating'\n",
        ")\n",
        "\n",
        "data = [trace0, trace1]\n",
        "layout = go.Layout(\n",
        "    yaxis_title=\"Ratings\",\n",
        "    title='Central-Users Ratings Vs Average Business Ratings for Restaurant/Bar'\n",
        ")\n",
        "\n",
        "fig = go.Figure(data=data, layout=layout)\n",
        "py.iplot(fig, filename='color-bar')"
      ],
      "execution_count": 0,
      "outputs": [
        {
          "output_type": "display_data",
          "data": {
            "text/html": [
              "<html>\n",
              "<head><meta charset=\"utf-8\" /></head>\n",
              "<body>\n",
              "    <div>\n",
              "            <script src=\"https://cdnjs.cloudflare.com/ajax/libs/mathjax/2.7.5/MathJax.js?config=TeX-AMS-MML_SVG\"></script><script type=\"text/javascript\">if (window.MathJax) {MathJax.Hub.Config({SVG: {font: \"STIX-Web\"}});}</script>\n",
              "                <script type=\"text/javascript\">window.PlotlyConfig = {MathJaxConfig: 'local'};</script>\n",
              "        <script src=\"https://cdn.plot.ly/plotly-latest.min.js\"></script>    \n",
              "            <div id=\"376aef61-b998-4e24-8dfe-badb5d138c78\" class=\"plotly-graph-div\" style=\"height:525px; width:100%;\"></div>\n",
              "            <script type=\"text/javascript\">\n",
              "                \n",
              "                    window.PLOTLYENV=window.PLOTLYENV || {};\n",
              "                    \n",
              "                if (document.getElementById(\"376aef61-b998-4e24-8dfe-badb5d138c78\")) {\n",
              "                    Plotly.newPlot(\n",
              "                        '376aef61-b998-4e24-8dfe-badb5d138c78',\n",
              "                        [{\"name\": \"central_user_rating\", \"type\": \"bar\", \"x\": [\"\\\"Bad Owl Coffee\\\"\", \"\\\"Momofuku Las Vegas\\\"\", \"\\\"Secret Pizza\\\"\", \"\\\"Chica\\\"\", \"\\\"Atomic Liquors\\\"\", \"\\\"Hooters Casino Hotel Las Vegas\\\"\", \"\\\"Tao Nightclub\\\"\", \"\\\"Cocolini's\\\"\", \"\\\"Pho Kim Long\\\"\", \"\\\"Crown Bakery\\\"\", \"\\\"Country Club\\\"\", \"\\\"Strip House Steak House\\\"\", \"\\\"Del Frisco's Double Eagle Steak House\\\"\", \"\\\"First Food & Bar\\\"\", \"\\\"Zine Noodles Dim Sum\\\"\", \"\\\"Tom Colicchio's Craftsteak\\\"\", \"\\\"Sweet Surrender\\\"\", \"\\\"Bouchon at the Venezia Tower\\\"\", \"\\\"Dakao Sandwiches\\\"\", \"\\\"Okada\\\"\", \"\\\"Pho at The Coffee Shop\\\"\", \"\\\"Ichiza\\\"\", \"\\\"Canaletto\\\"\", \"\\\"Grand Lux Cafe\\\"\", \"\\\"Delmonico Steakhouse\\\"\", \"\\\"Raku\\\"\", \"\\\"Mon Ami Gabi\\\"\", \"\\\"LAVO Italian Restaurant & Lounge\\\"\", \"\\\"SW Steakhouse\\\"\", \"\\\"Ping Pang Pong\\\"\", \"\\\"Tableau\\\"\", \"\\\"Noodle Asia\\\"\", \"\\\"Social House\\\"\", \"\\\"CUT by Wolfgang Puck\\\"\", \"\\\"Poukei\\\"\", \"\\\"The D Casino Hotel\\\"\", \"\\\"Grand Lux Cafe\\\"\", \"\\\"Romaine Empire\\\"\", \"\\\"ABC Stores\\\"\", \"\\\"Di Fara Pizza\\\"\", \"\\\"ABC Store\\\"\", \"\\\"Giada\\\"\", \"\\\"Luke's Lobster Las Vegas\\\"\", \"\\\"Le Cirque\\\"\", \"\\\"Tao Nightclub\\\"\", \"\\\"Estiatorio Milos\\\"\", \"\\\"Botero\\\"\", \"\\\"Parasol Up / Parasol Down\\\"\", \"\\\"Terrace Pointe Cafe\\\"\", \"\\\"Bouchon at the Venezia Tower\\\"\", \"\\\"Capriotti's Sandwich Shop\\\"\", \"\\\"Whole Foods Market\\\"\", \"\\\"Scarpetta\\\"\", \"\\\"In-N-Out Burger\\\"\", \"\\\"MIX\\\"\", \"\\\"Ghostbar\\\"\", \"\\\"Blush Boutique Nightclub\\\"\", \"\\\"Tao Nightclub\\\"\", \"\\\"Okada\\\"\", \"\\\"Encore Beach Club\\\"\", \"\\\"Jean Philippe Patisserie\\\"\", \"\\\"LAVO Italian Restaurant & Lounge\\\"\", \"\\\"Stack Restaurant & Bar\\\"\", \"\\\"Okada\\\"\", \"\\\"Andrea's\\\"\", \"\\\"Grand Lux Cafe\\\"\", \"\\\"Hofbr\\u00e4uhaus Las Vegas\\\"\", \"\\\"SUSHISAMBA - Las Vegas\\\"\", \"\\\"Hakkasan Restaurant\\\"\", \"\\\"TAO Asian Bistro\\\"\", \"\\\"Estiatorio Milos\\\"\", \"\\\"Costa di Mare\\\"\", \"\\\"Bouchon at the Venezia Tower\\\"\", \"\\\"Society Cafe Encore\\\"\", \"\\\"Picasso\\\"\", \"\\\"Todd English P.U.B.\\\"\", \"\\\"China Poblano\\\"\", \"\\\"Tableau\\\"\", \"\\\"Sweet Chill\\\"\", \"\\\"Victorian Cafe\\\"\", \"\\\"Mermaid's Casino\\\"\", \"\\\"The Buffet at Bellagio\\\"\", \"\\\"Beijing Noodle No. 9\\\"\", \"\\\"Nacho Daddy Downtown\\\"\", \"\\\"La Creperie\\\"\", \"\\\"Cafe Belle Madeleine\\\"\", \"\\\"Naked City Pizza On Paradise\\\"\", \"\\\"Fremont Street Experience\\\"\", \"\\\"Pink's Hot Dogs\\\"\", \"\\\"Egg & I\\\"\", \"\\\"Citizens Kitchen and Bar\\\"\", \"\\\"Rosemary's Restaurant\\\"\", \"\\\"Jamms Restaurant\\\"\", \"\\\"Nathan's Famous\\\"\", \"\\\"Noodles\\\"\", \"\\\"Greenberg's Deli\\\"\", \"\\\"Crossroads Restaurant & Bar - Las Vegas\\\"\", \"\\\"Burger Palace\\\"\", \"\\\"Cypress Street Marketplace\\\"\", \"\\\"Neon Museum\\\"\", \"\\\"Serendipity 3\\\"\", \"\\\"WaffleS Cafe\\\"\", \"\\\"Haagen Dazs Shop\\\"\", \"\\\"Japonais\\\"\", \"\\\"Earl of Sandwich\\\"\", \"\\\"Hoover Dam Lookout Gift Shop\\\"\", \"\\\"Encore Beach Club\\\"\", \"\\\"El Segundo Sol\\\"\", \"\\\"Sensi\\\"\", \"\\\"Vosges Haut-Chocolat\\\"\", \"\\\"The Buffet at Bellagio\\\"\", \"\\\"Espressamente illy\\\"\", \"\\\"L'Atelier de Jo\\u00ebl Robuchon\\\"\", \"\\\"Encore Lobby Bar\\\"\", \"\\\"MIX\\\"\", \"\\\"Tao Nightclub\\\"\", \"\\\"SUSHISAMBA - Las Vegas\\\"\", \"\\\"The Barrymore\\\"\", \"\\\"Ghostbar\\\"\", \"\\\"Blush Boutique Nightclub\\\"\", \"\\\"LAVO Italian Restaurant & Lounge\\\"\", \"\\\"The Bank\\\"\", \"\\\"First Food & Bar\\\"\", \"\\\"Wicked Spoon\\\"\", \"\\\"Wet Republic Ultra Pool\\\"\", \"\\\"Cucina by Wolfgang Puck\\\"\", \"\\\"TAO Beach\\\"\", \"\\\"Koi Restaurant\\\"\", \"\\\"Okada\\\"\", \"\\\"Society Cafe Encore\\\"\", \"\\\"The Buffet\\\"\", \"\\\"Yonaka Modern Japanese\\\"\", \"\\\"Chateau Nightclub & Rooftop\\\"\", \"\\\"Firefly\\\"\", \"\\\"Grand Lux Cafe\\\"\", \"\\\"Encore Beach Club\\\"\", \"\\\"Paris Eiffel Tower\\\"\", \"\\\"Bachi Burger\\\"\", \"\\\"Napoleon's Piano Bar\\\"\", \"\\\"Earl of Sandwich\\\"\", \"\\\"Sweets Raku\\\"\", \"\\\"Cafe Belle Madeleine\\\"\", \"\\\"Secret Pizza\\\"\", \"\\\"The Buffet\\\"\", \"\\\"The Buffet at Bellagio\\\"\", \"\\\"Crazy Horse Too\\\"\", \"\\\"Hard Rock Hotel & Casino\\\"\", \"\\\"Alan Albert's\\\"\", \"\\\"TAO Asian Bistro\\\"\", \"\\\"M&M's World\\\"\", \"\\\"Metro Pizza\\\"\", \"\\\"Feast Buffet\\\"\", \"\\\"Carnival World Buffet\\\"\", \"\\\"Bond\\\"\", \"\\\"Benihana\\\"\", \"\\\"Hank's Fine Steaks\\\"\", \"\\\"Makino Sushi & Seafood Buffet\\\"\", \"\\\"Ghostbar\\\"\", \"\\\"Body English\\\"\", \"\\\"Mr. Lucky's 24-7\\\"\", \"\\\"Delmonico Steakhouse\\\"\", \"\\\"Starbucks\\\"\", \"\\\"Crimson Nightclub\\\"\", \"\\\"Drop Bar\\\"\", \"\\\"Tropical Breeze Cafe\\\"\", \"\\\"Mr Mamas\\\"\", \"\\\"Bayside Buffet at Mandalay Bay\\\"\", \"\\\"Bradley Ogden\\\"\", \"\\\"Terrible's Hotel & Casino\\\"\", \"\\\"Food Express Chinese Restaurant\\\"\", \"\\\"Fatburger\\\"\", \"\\\"Parasol Up / Parasol Down\\\"\", \"\\\"In-N-Out Burger\\\"\", \"\\\"VooDoo Rooftop Nightclub & Lounge\\\"\", \"\\\"Carson Street Cafe\\\"\", \"\\\"Chang's Hong Kong Cuisine\\\"\", \"\\\"888 Noodle Bar\\\"\", \"\\\"Winchell's Pub & Grill\\\"\", \"\\\"Le Central\\\"\", \"\\\"Simon Kitchen and Bar\\\"\", \"\\\"Don Alejandro's Texan Grill\\\"\", \"\\\"Grotto Ristorante\\\"\", \"\\\"Rehab Beach Club\\\"\", \"\\\"Lee's Sandwiches\\\"\", \"\\\"Grand Caf\\u00e9\\\"\", \"\\\"Fremont Street Experience\\\"\", \"\\\"In-N-Out Burger\\\"\", \"\\\"Todai Restaurant\\\"\", \"\\\"Paris Eiffel Tower\\\"\", \"\\\"Tao Nightclub\\\"\", \"\\\"Earl of Sandwich\\\"\", \"\\\"V Bar\\\"\", \"\\\"LVH - Las Vegas Hotel & Casino\\\"\", \"\\\"Terrace Pointe Cafe\\\"\", \"\\\"Mesa Grill\\\"\", \"\\\"Secret Pizza\\\"\", \"\\\"Paradise Garden Buffet\\\"\", \"\\\"Tacos El Gordo\\\"\", \"\\\"Fusia\\\"\", \"\\\"Raku\\\"\", \"\\\"Pepe's Tacos\\\"\", \"\\\"Fatburger\\\"\", \"\\\"Zeffirino\\\"\", \"\\\"The Buffet at Bellagio\\\"\", \"\\\"Gold Diggers\\\"\", \"\\\"The Buffet\\\"\", \"\\\"Tournament of Kings\\\"\", \"\\\"Pyramid Cafe\\\"\", \"\\\"Sushi + Sake\\\"\", \"\\\"Pink Taco\\\"\", \"\\\"Roberto's Taco Shop\\\"\", \"\\\"The Salt Lick Bar-BQ\\\"\", \"\\\"Eyecandy\\\"\", \"\\\"Le Cafe Ile St. Louis\\\"\", \"\\\"Whiskey Bar\\\"\", \"\\\"Yard House\\\"\", \"\\\"The Chandelier\\\"\", \"\\\"Top of the World\\\"\", \"\\\"Pharoah's Pheast Buffet\\\"\", \"\\\"Riviera Hotel & Casino\\\"\", \"\\\"KoMex Fusion\\\"\", \"\\\"Buffet Roundtable\\\"\", \"\\\"Grand Cafe\\\"\", \"\\\"Viet My Asian Market\\\"\", \"\\\"The Lady Silvia\\\"\", \"\\\"Freakin' Frog\\\"\", \"\\\"Double Down Saloon\\\"\", \"\\\"Egg Works\\\"\", \"\\\"Settebello Pizzeria Napoletana\\\"\", \"\\\"CRAFTkitchen\\\"\", \"\\\"Seven Magic Mountains\\\"\", \"\\\"Table 34\\\"\", \"\\\"Sammy's Beach Bar & Grill\\\"\", \"\\\"Chophouse & Brewery\\\"\", \"\\\"Raku\\\"\", \"\\\"Estiatorio Milos\\\"\", \"\\\"SLS Las Vegas Hotel & Casino\\\"\", \"\\\"Commonwealth\\\"\", \"\\\"chow.\\\"\", \"\\\"Omelet House\\\"\", \"\\\"The Cookie Bar\\\"\", \"\\\"Comme \\u00c7a\\\"\", \"\\\"The Griffin\\\"\", \"\\\"Bottiglia Cucina & Enoteca\\\"\", \"\\\"Life is Beautiful Festival\\\"\", \"\\\"Neon Museum\\\"\", \"\\\"Eat.\\\"\", \"\\\"Shake Shack\\\"\", \"\\\"Fat Choy\\\"\", \"\\\"Fukuburger Truck\\\"\", \"\\\"Sin City Cupcakes\\\"\", \"\\\"Tiabi Coffee & Waffle\\\"\", \"\\\"Frankie's Tiki Room\\\"\", \"\\\"Momofuku Las Vegas\\\"\", \"\\\"Sage\\\"\", \"\\\"Lola's A Louisana Kitchen\\\"\", \"\\\"The Chandelier\\\"\", \"\\\"Beijing Noodle No. 9\\\"\", \"\\\"Bar+Bistro @ The Arts Factory\\\"\", \"\\\"Velveteen Rabbit\\\"\", \"\\\"Grand Lux Cafe\\\"\", \"\\\"PublicUs\\\"\", \"\\\"John Mull's Meats & Road Kill Grill\\\"\", \"\\\"Echo & Rig\\\"\", \"\\\"Fatburger\\\"\", \"\\\"Real Donuts\\\"\", \"\\\"Atomic Liquors\\\"\", \"\\\"Hobak Korean BBQ\\\"\", \"\\\"Layers Bakery Cafe\\\"\", \"\\\"Steak 'n Shake\\\"\", \"\\\"O Face Doughnuts\\\"\", \"\\\"The Golden Tiki\\\"\", \"\\\"Yanni's Gyros\\\"\", \"\\\"Ronald's Donuts\\\"\", \"\\\"Nacho Daddy\\\"\", \"\\\"Rose. Rabbit. Lie\\\"\", \"\\\"Squeeze\\\"\", \"\\\"Hyde Bellagio\\\"\", \"\\\"Elements At Aria\\\"\", \"\\\"Margaritaville\\\"\", \"\\\"Forte European Tapas Bar and Bistro\\\"\", \"\\\"Sambalatte\\\"\", \"\\\"The Sparklings\\\"\", \"\\\"No. 1 Boba Tea\\\"\", \"\\\"Black Bear Diner\\\"\", \"\\\"Bachi Burger\\\"\", \"\\\"7-Eleven\\\"\", \"\\\"Serenade\\\"\", \"\\\"The Perfect Scoop & Boba Tea\\\"\", \"\\\"Starbucks\\\"\", \"\\\"Baguette Cafe\\\"\", \"\\\"Drago Sisters Bakery\\\"\", \"\\\"Caff\\u00e8 Bottega\\\"\", \"\\\"Mr Mamas\\\"\", \"\\\"Donut Mania\\\"\", \"\\\"Japaneiro\\\"\", \"\\\"Billy's BBQ\\\"\", \"\\\"Soho Japanese Restaurant\\\"\", \"\\\"Egg Works\\\"\"], \"y\": [4.0, 5.0, 5.0, 3.0, 4.0, 3.0, 3.0, 5.0, 4.0, 4.0, 4.0, 5.0, 5.0, 4.0, 1.0, 5.0, 4.0, 3.0, 2.0, 4.0, 4.0, 4.0, 3.0, 2.0, 5.0, 5.0, 5.0, 2.0, 2.0, 4.0, 4.0, 3.0, 4.0, 5.0, 3.0, 3.0, 3.0, 3.0, 4.0, 4.0, 4.0, 3.0, 3.0, 4.0, 2.0, 4.0, 4.0, 2.0, 3.0, 4.0, 4.0, 5.0, 5.0, 5.0, 5.0, 4.0, 4.0, 2.0, 5.0, 2.0, 5.0, 5.0, 5.0, 3.0, 4.0, 2.0, 3.0, 4.0, 5.0, 5.0, 5.0, 5.0, 4.0, 4.0, 5.0, 3.0, 5.0, 3.0, 4.0, 3.0, 4.0, 3.0, 2.0, 3.0, 3.0, 4.0, 5.0, 4.0, 3.0, 2.0, 3.0, 4.0, 4.0, 2.0, 4.0, 3.0, 3.0, 2.0, 2.0, 4.0, 3.0, 3.0, 4.0, 4.0, 2.0, 3.0, 5.0, 4.0, 3.0, 4.0, 4.0, 4.0, 3.0, 4.0, 5.0, 4.0, 4.0, 5.0, 4.0, 4.0, 4.0, 4.0, 5.0, 5.0, 5.0, 4.0, 3.0, 3.0, 5.0, 4.0, 4.0, 5.0, 2.0, 5.0, 5.0, 5.0, 4.0, 3.0, 5.0, 5.0, 5.0, 4.0, 5.0, 4.0, 5.0, 1.0, 5.0, 4.0, 3.0, 4.0, 4.0, 4.0, 3.0, 4.0, 3.0, 5.0, 4.0, 4.0, 4.0, 4.0, 3.0, 3.0, 4.0, 2.0, 3.0, 5.0, 4.0, 5.0, 1.0, 3.0, 5.0, 5.0, 5.0, 2.0, 3.0, 3.0, 1.0, 3.0, 3.0, 4.0, 3.0, 4.0, 5.0, 3.0, 2.0, 3.0, 5.0, 2.0, 4.0, 3.0, 5.0, 4.0, 2.0, 4.0, 3.0, 4.0, 2.0, 5.0, 3.0, 5.0, 5.0, 2.0, 4.0, 4.0, 3.0, 4.0, 2.0, 3.0, 4.0, 3.0, 4.0, 2.0, 1.0, 3.0, 4.0, 4.0, 5.0, 4.0, 3.0, 2.0, 5.0, 3.0, 2.0, 2.0, 4.0, 4.0, 5.0, 4.0, 5.0, 4.0, 4.0, 2.0, 2.0, 3.0, 5.0, 5.0, 4.0, 5.0, 4.0, 3.0, 5.0, 4.0, 4.0, 4.0, 5.0, 5.0, 4.0, 3.0, 4.0, 4.0, 4.0, 5.0, 5.0, 4.0, 4.0, 4.0, 4.0, 4.0, 4.0, 5.0, 4.0, 5.0, 4.0, 4.0, 4.0, 4.0, 5.0, 4.0, 4.0, 3.0, 5.0, 4.0, 4.0, 5.0, 3.0, 5.0, 3.0, 2.0, 4.0, 3.0, 4.0, 4.0, 3.0, 5.0, 4.0, 4.0, 4.0, 4.0, 4.0, 3.0, 5.0, 5.0, 3.0, 4.0, 4.0, 3.0, 3.0, 4.0, 3.0]}, {\"name\": \"average business rating\", \"type\": \"bar\", \"x\": [\"\\\"Bad Owl Coffee\\\"\", \"\\\"Momofuku Las Vegas\\\"\", \"\\\"Secret Pizza\\\"\", \"\\\"Chica\\\"\", \"\\\"Atomic Liquors\\\"\", \"\\\"Hooters Casino Hotel Las Vegas\\\"\", \"\\\"Tao Nightclub\\\"\", \"\\\"Cocolini's\\\"\", \"\\\"Pho Kim Long\\\"\", \"\\\"Crown Bakery\\\"\", \"\\\"Country Club\\\"\", \"\\\"Strip House Steak House\\\"\", \"\\\"Del Frisco's Double Eagle Steak House\\\"\", \"\\\"First Food & Bar\\\"\", \"\\\"Zine Noodles Dim Sum\\\"\", \"\\\"Tom Colicchio's Craftsteak\\\"\", \"\\\"Sweet Surrender\\\"\", \"\\\"Bouchon at the Venezia Tower\\\"\", \"\\\"Dakao Sandwiches\\\"\", \"\\\"Okada\\\"\", \"\\\"Pho at The Coffee Shop\\\"\", \"\\\"Ichiza\\\"\", \"\\\"Canaletto\\\"\", \"\\\"Grand Lux Cafe\\\"\", \"\\\"Delmonico Steakhouse\\\"\", \"\\\"Raku\\\"\", \"\\\"Mon Ami Gabi\\\"\", \"\\\"LAVO Italian Restaurant & Lounge\\\"\", \"\\\"SW Steakhouse\\\"\", \"\\\"Ping Pang Pong\\\"\", \"\\\"Tableau\\\"\", \"\\\"Noodle Asia\\\"\", \"\\\"Social House\\\"\", \"\\\"CUT by Wolfgang Puck\\\"\", \"\\\"Poukei\\\"\", \"\\\"The D Casino Hotel\\\"\", \"\\\"Grand Lux Cafe\\\"\", \"\\\"Romaine Empire\\\"\", \"\\\"ABC Stores\\\"\", \"\\\"Di Fara Pizza\\\"\", \"\\\"ABC Store\\\"\", \"\\\"Giada\\\"\", \"\\\"Luke's Lobster Las Vegas\\\"\", \"\\\"Le Cirque\\\"\", \"\\\"Tao Nightclub\\\"\", \"\\\"Estiatorio Milos\\\"\", \"\\\"Botero\\\"\", \"\\\"Parasol Up / Parasol Down\\\"\", \"\\\"Terrace Pointe Cafe\\\"\", \"\\\"Bouchon at the Venezia Tower\\\"\", \"\\\"Capriotti's Sandwich Shop\\\"\", \"\\\"Whole Foods Market\\\"\", \"\\\"Scarpetta\\\"\", \"\\\"In-N-Out Burger\\\"\", \"\\\"MIX\\\"\", \"\\\"Ghostbar\\\"\", \"\\\"Blush Boutique Nightclub\\\"\", \"\\\"Tao Nightclub\\\"\", \"\\\"Okada\\\"\", \"\\\"Encore Beach Club\\\"\", \"\\\"Jean Philippe Patisserie\\\"\", \"\\\"LAVO Italian Restaurant & Lounge\\\"\", \"\\\"Stack Restaurant & Bar\\\"\", \"\\\"Okada\\\"\", \"\\\"Andrea's\\\"\", \"\\\"Grand Lux Cafe\\\"\", \"\\\"Hofbr\\u00e4uhaus Las Vegas\\\"\", \"\\\"SUSHISAMBA - Las Vegas\\\"\", \"\\\"Hakkasan Restaurant\\\"\", \"\\\"TAO Asian Bistro\\\"\", \"\\\"Estiatorio Milos\\\"\", \"\\\"Costa di Mare\\\"\", \"\\\"Bouchon at the Venezia Tower\\\"\", \"\\\"Society Cafe Encore\\\"\", \"\\\"Picasso\\\"\", \"\\\"Todd English P.U.B.\\\"\", \"\\\"China Poblano\\\"\", \"\\\"Tableau\\\"\", \"\\\"Sweet Chill\\\"\", \"\\\"Victorian Cafe\\\"\", \"\\\"Mermaid's Casino\\\"\", \"\\\"The Buffet at Bellagio\\\"\", \"\\\"Beijing Noodle No. 9\\\"\", \"\\\"Nacho Daddy Downtown\\\"\", \"\\\"La Creperie\\\"\", \"\\\"Cafe Belle Madeleine\\\"\", \"\\\"Naked City Pizza On Paradise\\\"\", \"\\\"Fremont Street Experience\\\"\", \"\\\"Pink's Hot Dogs\\\"\", \"\\\"Egg & I\\\"\", \"\\\"Citizens Kitchen and Bar\\\"\", \"\\\"Rosemary's Restaurant\\\"\", \"\\\"Jamms Restaurant\\\"\", \"\\\"Nathan's Famous\\\"\", \"\\\"Noodles\\\"\", \"\\\"Greenberg's Deli\\\"\", \"\\\"Crossroads Restaurant & Bar - Las Vegas\\\"\", \"\\\"Burger Palace\\\"\", \"\\\"Cypress Street Marketplace\\\"\", \"\\\"Neon Museum\\\"\", \"\\\"Serendipity 3\\\"\", \"\\\"WaffleS Cafe\\\"\", \"\\\"Haagen Dazs Shop\\\"\", \"\\\"Japonais\\\"\", \"\\\"Earl of Sandwich\\\"\", \"\\\"Hoover Dam Lookout Gift Shop\\\"\", \"\\\"Encore Beach Club\\\"\", \"\\\"El Segundo Sol\\\"\", \"\\\"Sensi\\\"\", \"\\\"Vosges Haut-Chocolat\\\"\", \"\\\"The Buffet at Bellagio\\\"\", \"\\\"Espressamente illy\\\"\", \"\\\"L'Atelier de Jo\\u00ebl Robuchon\\\"\", \"\\\"Encore Lobby Bar\\\"\", \"\\\"MIX\\\"\", \"\\\"Tao Nightclub\\\"\", \"\\\"SUSHISAMBA - Las Vegas\\\"\", \"\\\"The Barrymore\\\"\", \"\\\"Ghostbar\\\"\", \"\\\"Blush Boutique Nightclub\\\"\", \"\\\"LAVO Italian Restaurant & Lounge\\\"\", \"\\\"The Bank\\\"\", \"\\\"First Food & Bar\\\"\", \"\\\"Wicked Spoon\\\"\", \"\\\"Wet Republic Ultra Pool\\\"\", \"\\\"Cucina by Wolfgang Puck\\\"\", \"\\\"TAO Beach\\\"\", \"\\\"Koi Restaurant\\\"\", \"\\\"Okada\\\"\", \"\\\"Society Cafe Encore\\\"\", \"\\\"The Buffet\\\"\", \"\\\"Yonaka Modern Japanese\\\"\", \"\\\"Chateau Nightclub & Rooftop\\\"\", \"\\\"Firefly\\\"\", \"\\\"Grand Lux Cafe\\\"\", \"\\\"Encore Beach Club\\\"\", \"\\\"Paris Eiffel Tower\\\"\", \"\\\"Bachi Burger\\\"\", \"\\\"Napoleon's Piano Bar\\\"\", \"\\\"Earl of Sandwich\\\"\", \"\\\"Sweets Raku\\\"\", \"\\\"Cafe Belle Madeleine\\\"\", \"\\\"Secret Pizza\\\"\", \"\\\"The Buffet\\\"\", \"\\\"The Buffet at Bellagio\\\"\", \"\\\"Crazy Horse Too\\\"\", \"\\\"Hard Rock Hotel & Casino\\\"\", \"\\\"Alan Albert's\\\"\", \"\\\"TAO Asian Bistro\\\"\", \"\\\"M&M's World\\\"\", \"\\\"Metro Pizza\\\"\", \"\\\"Feast Buffet\\\"\", \"\\\"Carnival World Buffet\\\"\", \"\\\"Bond\\\"\", \"\\\"Benihana\\\"\", \"\\\"Hank's Fine Steaks\\\"\", \"\\\"Makino Sushi & Seafood Buffet\\\"\", \"\\\"Ghostbar\\\"\", \"\\\"Body English\\\"\", \"\\\"Mr. Lucky's 24-7\\\"\", \"\\\"Delmonico Steakhouse\\\"\", \"\\\"Starbucks\\\"\", \"\\\"Crimson Nightclub\\\"\", \"\\\"Drop Bar\\\"\", \"\\\"Tropical Breeze Cafe\\\"\", \"\\\"Mr Mamas\\\"\", \"\\\"Bayside Buffet at Mandalay Bay\\\"\", \"\\\"Bradley Ogden\\\"\", \"\\\"Terrible's Hotel & Casino\\\"\", \"\\\"Food Express Chinese Restaurant\\\"\", \"\\\"Fatburger\\\"\", \"\\\"Parasol Up / Parasol Down\\\"\", \"\\\"In-N-Out Burger\\\"\", \"\\\"VooDoo Rooftop Nightclub & Lounge\\\"\", \"\\\"Carson Street Cafe\\\"\", \"\\\"Chang's Hong Kong Cuisine\\\"\", \"\\\"888 Noodle Bar\\\"\", \"\\\"Winchell's Pub & Grill\\\"\", \"\\\"Le Central\\\"\", \"\\\"Simon Kitchen and Bar\\\"\", \"\\\"Don Alejandro's Texan Grill\\\"\", \"\\\"Grotto Ristorante\\\"\", \"\\\"Rehab Beach Club\\\"\", \"\\\"Lee's Sandwiches\\\"\", \"\\\"Grand Caf\\u00e9\\\"\", \"\\\"Fremont Street Experience\\\"\", \"\\\"In-N-Out Burger\\\"\", \"\\\"Todai Restaurant\\\"\", \"\\\"Paris Eiffel Tower\\\"\", \"\\\"Tao Nightclub\\\"\", \"\\\"Earl of Sandwich\\\"\", \"\\\"V Bar\\\"\", \"\\\"LVH - Las Vegas Hotel & Casino\\\"\", \"\\\"Terrace Pointe Cafe\\\"\", \"\\\"Mesa Grill\\\"\", \"\\\"Secret Pizza\\\"\", \"\\\"Paradise Garden Buffet\\\"\", \"\\\"Tacos El Gordo\\\"\", \"\\\"Fusia\\\"\", \"\\\"Raku\\\"\", \"\\\"Pepe's Tacos\\\"\", \"\\\"Fatburger\\\"\", \"\\\"Zeffirino\\\"\", \"\\\"The Buffet at Bellagio\\\"\", \"\\\"Gold Diggers\\\"\", \"\\\"The Buffet\\\"\", \"\\\"Tournament of Kings\\\"\", \"\\\"Pyramid Cafe\\\"\", \"\\\"Sushi + Sake\\\"\", \"\\\"Pink Taco\\\"\", \"\\\"Roberto's Taco Shop\\\"\", \"\\\"The Salt Lick Bar-BQ\\\"\", \"\\\"Eyecandy\\\"\", \"\\\"Le Cafe Ile St. Louis\\\"\", \"\\\"Whiskey Bar\\\"\", \"\\\"Yard House\\\"\", \"\\\"The Chandelier\\\"\", \"\\\"Top of the World\\\"\", \"\\\"Pharoah's Pheast Buffet\\\"\", \"\\\"Riviera Hotel & Casino\\\"\", \"\\\"KoMex Fusion\\\"\", \"\\\"Buffet Roundtable\\\"\", \"\\\"Grand Cafe\\\"\", \"\\\"Viet My Asian Market\\\"\", \"\\\"The Lady Silvia\\\"\", \"\\\"Freakin' Frog\\\"\", \"\\\"Double Down Saloon\\\"\", \"\\\"Egg Works\\\"\", \"\\\"Settebello Pizzeria Napoletana\\\"\", \"\\\"CRAFTkitchen\\\"\", \"\\\"Seven Magic Mountains\\\"\", \"\\\"Table 34\\\"\", \"\\\"Sammy's Beach Bar & Grill\\\"\", \"\\\"Chophouse & Brewery\\\"\", \"\\\"Raku\\\"\", \"\\\"Estiatorio Milos\\\"\", \"\\\"SLS Las Vegas Hotel & Casino\\\"\", \"\\\"Commonwealth\\\"\", \"\\\"chow.\\\"\", \"\\\"Omelet House\\\"\", \"\\\"The Cookie Bar\\\"\", \"\\\"Comme \\u00c7a\\\"\", \"\\\"The Griffin\\\"\", \"\\\"Bottiglia Cucina & Enoteca\\\"\", \"\\\"Life is Beautiful Festival\\\"\", \"\\\"Neon Museum\\\"\", \"\\\"Eat.\\\"\", \"\\\"Shake Shack\\\"\", \"\\\"Fat Choy\\\"\", \"\\\"Fukuburger Truck\\\"\", \"\\\"Sin City Cupcakes\\\"\", \"\\\"Tiabi Coffee & Waffle\\\"\", \"\\\"Frankie's Tiki Room\\\"\", \"\\\"Momofuku Las Vegas\\\"\", \"\\\"Sage\\\"\", \"\\\"Lola's A Louisana Kitchen\\\"\", \"\\\"The Chandelier\\\"\", \"\\\"Beijing Noodle No. 9\\\"\", \"\\\"Bar+Bistro @ The Arts Factory\\\"\", \"\\\"Velveteen Rabbit\\\"\", \"\\\"Grand Lux Cafe\\\"\", \"\\\"PublicUs\\\"\", \"\\\"John Mull's Meats & Road Kill Grill\\\"\", \"\\\"Echo & Rig\\\"\", \"\\\"Fatburger\\\"\", \"\\\"Real Donuts\\\"\", \"\\\"Atomic Liquors\\\"\", \"\\\"Hobak Korean BBQ\\\"\", \"\\\"Layers Bakery Cafe\\\"\", \"\\\"Steak 'n Shake\\\"\", \"\\\"O Face Doughnuts\\\"\", \"\\\"The Golden Tiki\\\"\", \"\\\"Yanni's Gyros\\\"\", \"\\\"Ronald's Donuts\\\"\", \"\\\"Nacho Daddy\\\"\", \"\\\"Rose. Rabbit. Lie\\\"\", \"\\\"Squeeze\\\"\", \"\\\"Hyde Bellagio\\\"\", \"\\\"Elements At Aria\\\"\", \"\\\"Margaritaville\\\"\", \"\\\"Forte European Tapas Bar and Bistro\\\"\", \"\\\"Sambalatte\\\"\", \"\\\"The Sparklings\\\"\", \"\\\"No. 1 Boba Tea\\\"\", \"\\\"Black Bear Diner\\\"\", \"\\\"Bachi Burger\\\"\", \"\\\"7-Eleven\\\"\", \"\\\"Serenade\\\"\", \"\\\"The Perfect Scoop & Boba Tea\\\"\", \"\\\"Starbucks\\\"\", \"\\\"Baguette Cafe\\\"\", \"\\\"Drago Sisters Bakery\\\"\", \"\\\"Caff\\u00e8 Bottega\\\"\", \"\\\"Mr Mamas\\\"\", \"\\\"Donut Mania\\\"\", \"\\\"Japaneiro\\\"\", \"\\\"Billy's BBQ\\\"\", \"\\\"Soho Japanese Restaurant\\\"\", \"\\\"Egg Works\\\"\"], \"y\": [4.0, 4.0, 4.0, 4.5, 4.5, 2.5, 3.0, 3.0, 3.5, 4.0, 4.0, 4.0, 4.5, 3.5, 3.0, 4.0, 3.0, 4.0, 4.0, 4.0, 2.5, 4.0, 3.5, 4.0, 4.0, 4.5, 4.0, 3.5, 4.0, 3.5, 4.0, 3.5, 4.0, 4.0, 3.0, 3.0, 4.0, 3.5, 4.5, 2.5, 4.0, 3.5, 4.5, 4.5, 3.0, 4.0, 4.0, 4.0, 4.0, 4.0, 4.0, 4.0, 4.0, 4.5, 4.0, 3.5, 3.5, 3.0, 4.0, 4.0, 4.0, 3.5, 4.0, 4.0, 4.0, 4.0, 3.5, 4.0, 4.0, 3.5, 4.0, 3.5, 4.0, 4.0, 4.5, 3.5, 3.5, 4.0, 3.5, 3.0, 3.5, 3.5, 2.5, 4.0, 3.5, 3.5, 3.5, 3.5, 3.0, 4.5, 3.0, 4.5, 4.5, 3.0, 3.0, 4.0, 3.5, 2.0, 3.0, 4.5, 3.0, 4.0, 4.5, 3.5, 4.5, 2.5, 4.0, 4.0, 4.0, 4.5, 3.5, 3.5, 4.5, 4.0, 4.0, 3.0, 4.0, 4.0, 3.5, 3.5, 3.5, 3.0, 3.5, 3.5, 3.5, 4.0, 3.5, 3.5, 4.0, 4.0, 3.5, 4.5, 3.0, 4.5, 4.0, 4.0, 4.0, 4.0, 4.0, 4.5, 4.5, 3.5, 4.0, 3.5, 3.5, 3.0, 3.0, 4.0, 3.5, 4.0, 4.0, 3.5, 3.5, 4.0, 3.5, 4.0, 3.5, 3.5, 3.5, 3.5, 4.0, 2.5, 3.5, 3.5, 2.5, 4.5, 3.0, 4.0, 3.0, 4.0, 3.5, 4.0, 4.0, 3.5, 2.5, 3.5, 3.0, 4.0, 3.5, 4.0, 1.5, 4.0, 3.5, 3.0, 2.5, 3.5, 4.5, 3.5, 4.0, 3.0, 4.5, 3.5, 2.5, 4.0, 4.0, 4.0, 2.5, 4.0, 3.5, 4.5, 3.5, 3.0, 3.5, 3.5, 3.5, 3.5, 4.0, 3.0, 3.5, 3.5, 3.5, 3.0, 3.5, 3.0, 4.0, 4.0, 4.0, 4.0, 2.0, 2.5, 4.5, 2.0, 2.5, 1.5, 4.0, 4.0, 4.5, 4.5, 4.5, 4.0, 4.5, 4.0, 2.5, 3.0, 4.5, 4.0, 3.0, 3.5, 4.0, 4.5, 4.5, 3.5, 4.0, 4.0, 4.5, 4.5, 4.0, 3.5, 4.0, 4.0, 4.5, 4.5, 4.5, 4.0, 4.0, 4.0, 4.0, 2.5, 3.5, 4.5, 4.0, 4.5, 4.5, 4.5, 2.5, 4.5, 4.5, 4.5, 4.0, 3.5, 4.0, 4.5, 4.0, 4.5, 4.0, 4.0, 4.5, 3.5, 3.5, 3.5, 4.0, 4.0, 4.0, 4.5, 4.0, 3.5, 3.5, 4.0, 3.5, 2.5, 4.5, 4.5, 4.0, 4.5, 4.5, 4.5, 4.0, 4.5, 4.5]}],\n",
              "                        {\"template\": {\"data\": {\"bar\": [{\"error_x\": {\"color\": \"#2a3f5f\"}, \"error_y\": {\"color\": \"#2a3f5f\"}, \"marker\": {\"line\": {\"color\": \"#E5ECF6\", \"width\": 0.5}}, \"type\": \"bar\"}], \"barpolar\": [{\"marker\": {\"line\": {\"color\": \"#E5ECF6\", \"width\": 0.5}}, \"type\": \"barpolar\"}], \"carpet\": [{\"aaxis\": {\"endlinecolor\": \"#2a3f5f\", \"gridcolor\": \"white\", \"linecolor\": \"white\", \"minorgridcolor\": \"white\", \"startlinecolor\": \"#2a3f5f\"}, \"baxis\": {\"endlinecolor\": \"#2a3f5f\", \"gridcolor\": \"white\", \"linecolor\": \"white\", \"minorgridcolor\": \"white\", \"startlinecolor\": \"#2a3f5f\"}, \"type\": \"carpet\"}], \"choropleth\": [{\"colorbar\": {\"outlinewidth\": 0, \"ticks\": \"\"}, \"type\": \"choropleth\"}], \"contour\": [{\"colorbar\": {\"outlinewidth\": 0, \"ticks\": \"\"}, \"colorscale\": [[0.0, \"#0d0887\"], [0.1111111111111111, \"#46039f\"], [0.2222222222222222, \"#7201a8\"], [0.3333333333333333, \"#9c179e\"], [0.4444444444444444, \"#bd3786\"], [0.5555555555555556, \"#d8576b\"], [0.6666666666666666, \"#ed7953\"], [0.7777777777777778, \"#fb9f3a\"], [0.8888888888888888, \"#fdca26\"], [1.0, \"#f0f921\"]], \"type\": \"contour\"}], \"contourcarpet\": [{\"colorbar\": {\"outlinewidth\": 0, \"ticks\": \"\"}, \"type\": \"contourcarpet\"}], \"heatmap\": [{\"colorbar\": {\"outlinewidth\": 0, \"ticks\": \"\"}, \"colorscale\": [[0.0, \"#0d0887\"], [0.1111111111111111, \"#46039f\"], [0.2222222222222222, \"#7201a8\"], [0.3333333333333333, \"#9c179e\"], [0.4444444444444444, \"#bd3786\"], [0.5555555555555556, \"#d8576b\"], [0.6666666666666666, \"#ed7953\"], [0.7777777777777778, \"#fb9f3a\"], [0.8888888888888888, \"#fdca26\"], [1.0, \"#f0f921\"]], \"type\": \"heatmap\"}], \"heatmapgl\": [{\"colorbar\": {\"outlinewidth\": 0, \"ticks\": \"\"}, \"colorscale\": [[0.0, \"#0d0887\"], [0.1111111111111111, \"#46039f\"], [0.2222222222222222, \"#7201a8\"], [0.3333333333333333, \"#9c179e\"], [0.4444444444444444, \"#bd3786\"], [0.5555555555555556, \"#d8576b\"], [0.6666666666666666, \"#ed7953\"], [0.7777777777777778, \"#fb9f3a\"], [0.8888888888888888, \"#fdca26\"], [1.0, \"#f0f921\"]], \"type\": \"heatmapgl\"}], \"histogram\": [{\"marker\": {\"colorbar\": {\"outlinewidth\": 0, \"ticks\": \"\"}}, \"type\": \"histogram\"}], \"histogram2d\": [{\"colorbar\": {\"outlinewidth\": 0, \"ticks\": \"\"}, \"colorscale\": [[0.0, \"#0d0887\"], [0.1111111111111111, \"#46039f\"], [0.2222222222222222, \"#7201a8\"], [0.3333333333333333, \"#9c179e\"], [0.4444444444444444, \"#bd3786\"], [0.5555555555555556, \"#d8576b\"], [0.6666666666666666, \"#ed7953\"], [0.7777777777777778, \"#fb9f3a\"], [0.8888888888888888, \"#fdca26\"], [1.0, \"#f0f921\"]], \"type\": \"histogram2d\"}], \"histogram2dcontour\": [{\"colorbar\": {\"outlinewidth\": 0, \"ticks\": \"\"}, \"colorscale\": [[0.0, \"#0d0887\"], [0.1111111111111111, \"#46039f\"], [0.2222222222222222, \"#7201a8\"], [0.3333333333333333, \"#9c179e\"], [0.4444444444444444, \"#bd3786\"], [0.5555555555555556, \"#d8576b\"], [0.6666666666666666, \"#ed7953\"], [0.7777777777777778, \"#fb9f3a\"], [0.8888888888888888, \"#fdca26\"], [1.0, \"#f0f921\"]], \"type\": \"histogram2dcontour\"}], \"mesh3d\": [{\"colorbar\": {\"outlinewidth\": 0, \"ticks\": \"\"}, \"type\": \"mesh3d\"}], \"parcoords\": [{\"line\": {\"colorbar\": {\"outlinewidth\": 0, \"ticks\": \"\"}}, \"type\": \"parcoords\"}], \"pie\": [{\"automargin\": true, \"type\": \"pie\"}], \"scatter\": [{\"marker\": {\"colorbar\": {\"outlinewidth\": 0, \"ticks\": \"\"}}, \"type\": \"scatter\"}], \"scatter3d\": [{\"line\": {\"colorbar\": {\"outlinewidth\": 0, \"ticks\": \"\"}}, \"marker\": {\"colorbar\": {\"outlinewidth\": 0, \"ticks\": \"\"}}, \"type\": \"scatter3d\"}], \"scattercarpet\": [{\"marker\": {\"colorbar\": {\"outlinewidth\": 0, \"ticks\": \"\"}}, \"type\": \"scattercarpet\"}], \"scattergeo\": [{\"marker\": {\"colorbar\": {\"outlinewidth\": 0, \"ticks\": \"\"}}, \"type\": \"scattergeo\"}], \"scattergl\": [{\"marker\": {\"colorbar\": {\"outlinewidth\": 0, \"ticks\": \"\"}}, \"type\": \"scattergl\"}], \"scattermapbox\": [{\"marker\": {\"colorbar\": {\"outlinewidth\": 0, \"ticks\": \"\"}}, \"type\": \"scattermapbox\"}], \"scatterpolar\": [{\"marker\": {\"colorbar\": {\"outlinewidth\": 0, \"ticks\": \"\"}}, \"type\": \"scatterpolar\"}], \"scatterpolargl\": [{\"marker\": {\"colorbar\": {\"outlinewidth\": 0, \"ticks\": \"\"}}, \"type\": \"scatterpolargl\"}], \"scatterternary\": [{\"marker\": {\"colorbar\": {\"outlinewidth\": 0, \"ticks\": \"\"}}, \"type\": \"scatterternary\"}], \"surface\": [{\"colorbar\": {\"outlinewidth\": 0, \"ticks\": \"\"}, \"colorscale\": [[0.0, \"#0d0887\"], [0.1111111111111111, \"#46039f\"], [0.2222222222222222, \"#7201a8\"], [0.3333333333333333, \"#9c179e\"], [0.4444444444444444, \"#bd3786\"], [0.5555555555555556, \"#d8576b\"], [0.6666666666666666, \"#ed7953\"], [0.7777777777777778, \"#fb9f3a\"], [0.8888888888888888, \"#fdca26\"], [1.0, \"#f0f921\"]], \"type\": \"surface\"}], \"table\": [{\"cells\": {\"fill\": {\"color\": \"#EBF0F8\"}, \"line\": {\"color\": \"white\"}}, \"header\": {\"fill\": {\"color\": \"#C8D4E3\"}, \"line\": {\"color\": \"white\"}}, \"type\": \"table\"}]}, \"layout\": {\"annotationdefaults\": {\"arrowcolor\": \"#2a3f5f\", \"arrowhead\": 0, \"arrowwidth\": 1}, \"coloraxis\": {\"colorbar\": {\"outlinewidth\": 0, \"ticks\": \"\"}}, \"colorscale\": {\"diverging\": [[0, \"#8e0152\"], [0.1, \"#c51b7d\"], [0.2, \"#de77ae\"], [0.3, \"#f1b6da\"], [0.4, \"#fde0ef\"], [0.5, \"#f7f7f7\"], [0.6, \"#e6f5d0\"], [0.7, \"#b8e186\"], [0.8, \"#7fbc41\"], [0.9, \"#4d9221\"], [1, \"#276419\"]], \"sequential\": [[0.0, \"#0d0887\"], [0.1111111111111111, \"#46039f\"], [0.2222222222222222, \"#7201a8\"], [0.3333333333333333, \"#9c179e\"], [0.4444444444444444, \"#bd3786\"], [0.5555555555555556, \"#d8576b\"], [0.6666666666666666, \"#ed7953\"], [0.7777777777777778, \"#fb9f3a\"], [0.8888888888888888, \"#fdca26\"], [1.0, \"#f0f921\"]], \"sequentialminus\": [[0.0, \"#0d0887\"], [0.1111111111111111, \"#46039f\"], [0.2222222222222222, \"#7201a8\"], [0.3333333333333333, \"#9c179e\"], [0.4444444444444444, \"#bd3786\"], [0.5555555555555556, \"#d8576b\"], [0.6666666666666666, \"#ed7953\"], [0.7777777777777778, \"#fb9f3a\"], [0.8888888888888888, \"#fdca26\"], [1.0, \"#f0f921\"]]}, \"colorway\": [\"#636efa\", \"#EF553B\", \"#00cc96\", \"#ab63fa\", \"#FFA15A\", \"#19d3f3\", \"#FF6692\", \"#B6E880\", \"#FF97FF\", \"#FECB52\"], \"font\": {\"color\": \"#2a3f5f\"}, \"geo\": {\"bgcolor\": \"white\", \"lakecolor\": \"white\", \"landcolor\": \"#E5ECF6\", \"showlakes\": true, \"showland\": true, \"subunitcolor\": \"white\"}, \"hoverlabel\": {\"align\": \"left\"}, \"hovermode\": \"closest\", \"mapbox\": {\"style\": \"light\"}, \"paper_bgcolor\": \"white\", \"plot_bgcolor\": \"#E5ECF6\", \"polar\": {\"angularaxis\": {\"gridcolor\": \"white\", \"linecolor\": \"white\", \"ticks\": \"\"}, \"bgcolor\": \"#E5ECF6\", \"radialaxis\": {\"gridcolor\": \"white\", \"linecolor\": \"white\", \"ticks\": \"\"}}, \"scene\": {\"xaxis\": {\"backgroundcolor\": \"#E5ECF6\", \"gridcolor\": \"white\", \"gridwidth\": 2, \"linecolor\": \"white\", \"showbackground\": true, \"ticks\": \"\", \"zerolinecolor\": \"white\"}, \"yaxis\": {\"backgroundcolor\": \"#E5ECF6\", \"gridcolor\": \"white\", \"gridwidth\": 2, \"linecolor\": \"white\", \"showbackground\": true, \"ticks\": \"\", \"zerolinecolor\": \"white\"}, \"zaxis\": {\"backgroundcolor\": \"#E5ECF6\", \"gridcolor\": \"white\", \"gridwidth\": 2, \"linecolor\": \"white\", \"showbackground\": true, \"ticks\": \"\", \"zerolinecolor\": \"white\"}}, \"shapedefaults\": {\"line\": {\"color\": \"#2a3f5f\"}}, \"ternary\": {\"aaxis\": {\"gridcolor\": \"white\", \"linecolor\": \"white\", \"ticks\": \"\"}, \"baxis\": {\"gridcolor\": \"white\", \"linecolor\": \"white\", \"ticks\": \"\"}, \"bgcolor\": \"#E5ECF6\", \"caxis\": {\"gridcolor\": \"white\", \"linecolor\": \"white\", \"ticks\": \"\"}}, \"title\": {\"x\": 0.05}, \"xaxis\": {\"automargin\": true, \"gridcolor\": \"white\", \"linecolor\": \"white\", \"ticks\": \"\", \"title\": {\"standoff\": 15}, \"zerolinecolor\": \"white\", \"zerolinewidth\": 2}, \"yaxis\": {\"automargin\": true, \"gridcolor\": \"white\", \"linecolor\": \"white\", \"ticks\": \"\", \"title\": {\"standoff\": 15}, \"zerolinecolor\": \"white\", \"zerolinewidth\": 2}}}, \"title\": {\"text\": \"Central-Users Ratings Vs Average Business Ratings for Restaurant/Bar\"}, \"yaxis\": {\"title\": {\"text\": \"Ratings\"}}},\n",
              "                        {\"responsive\": true}\n",
              "                    ).then(function(){\n",
              "                            \n",
              "var gd = document.getElementById('376aef61-b998-4e24-8dfe-badb5d138c78');\n",
              "var x = new MutationObserver(function (mutations, observer) {{\n",
              "        var display = window.getComputedStyle(gd).display;\n",
              "        if (!display || display === 'none') {{\n",
              "            console.log([gd, 'removed!']);\n",
              "            Plotly.purge(gd);\n",
              "            observer.disconnect();\n",
              "        }}\n",
              "}});\n",
              "\n",
              "// Listen for the removal of the full notebook cells\n",
              "var notebookContainer = gd.closest('#notebook-container');\n",
              "if (notebookContainer) {{\n",
              "    x.observe(notebookContainer, {childList: true});\n",
              "}}\n",
              "\n",
              "// Listen for the clearing of the current output cell\n",
              "var outputEl = gd.closest('.output');\n",
              "if (outputEl) {{\n",
              "    x.observe(outputEl, {childList: true});\n",
              "}}\n",
              "\n",
              "                        })\n",
              "                };\n",
              "                \n",
              "            </script>\n",
              "        </div>\n",
              "</body>\n",
              "</html>"
            ]
          },
          "metadata": {
            "tags": []
          }
        }
      ]
    },
    {
      "cell_type": "markdown",
      "metadata": {
        "id": "bX84QfkBs-IJ",
        "colab_type": "text"
      },
      "source": [
        "For this sample - we can see the average ratings given by our central yelp users are very close to the average ratings of the businesses in most cases. This supports the fact that their statistics values are very close to each other and satisfy our prior expectations.\n",
        "\n",
        "This means it will be very accurate for us to use the average rating given by central users to predict the true restaurant average rating. And the impact of ratings from central users on restaurants is very large.\n",
        "\n",
        "Besides, the ratings of central users are slightly higher than average business rating. Those people might overrate the restaurants, and since they have more fans, they have larger influences on potential customers. Knowing that the central users have the tendency to overrate the restaurants, when the customers are reading their reviews, they need to be cautious whether their reviews are genuine.  "
      ]
    },
    {
      "cell_type": "markdown",
      "metadata": {
        "id": "8VlCH-SCSPbQ",
        "colab_type": "text"
      },
      "source": [
        "### b. Major Attributes Impact Analysis"
      ]
    },
    {
      "cell_type": "markdown",
      "metadata": {
        "id": "gCCvFMXkKZi4",
        "colab_type": "text"
      },
      "source": [
        "What are the features that restaurants with high ratings have? We expect that restaurants with features like free WiFi, high review counts, and serving alcohol will have higher ratings."
      ]
    },
    {
      "cell_type": "code",
      "metadata": {
        "id": "CfYrOunmjJUo",
        "colab_type": "code",
        "colab": {}
      },
      "source": [
        "# Attributes that are shown lots of times and this can indicate these attributes might be very important.\n",
        "# Extract all the attributes and normalize them\n",
        "NV_biz_restaurant_attr_c = NV_biz_restaurant_attr.iloc[:,12:]\n",
        "attr_columns = NV_biz_restaurant_attr_c.columns\n",
        "for i in range(0, len(attr_columns)):\n",
        "  NV_biz_restaurant_attr_c.iloc[:, i] = NV_biz_restaurant_attr_c.iloc[:, i].apply(lambda x: 1 if x == 'True' else 0)"
      ],
      "execution_count": 0,
      "outputs": []
    },
    {
      "cell_type": "code",
      "metadata": {
        "id": "Q4mJ4Ad2jUBV",
        "colab_type": "code",
        "outputId": "ec8ab686-3f96-4c00-d803-de7420791c7c",
        "colab": {
          "base_uri": "https://localhost:8080/",
          "height": 209
        }
      },
      "source": [
        "# Find the most common attributes\n",
        "NV_biz_restaurant_attr_c.sum().sort_values(ascending = False).head(10)"
      ],
      "execution_count": 0,
      "outputs": [
        {
          "output_type": "execute_result",
          "data": {
            "text/plain": [
              "BikeParking                   3256\n",
              "BusinessParking_valet         2803\n",
              "WheelchairAccessible          1592\n",
              "BusinessParking_street         721\n",
              "HappyHour                      632\n",
              "DogsAllowed                    528\n",
              "HairSpecializesIn_coloring     321\n",
              "GoodForMeal_dinner             319\n",
              "GoodForMeal_breakfast          318\n",
              "BusinessParking_validated      281\n",
              "dtype: int64"
            ]
          },
          "metadata": {
            "tags": []
          },
          "execution_count": 70
        }
      ]
    },
    {
      "cell_type": "markdown",
      "metadata": {
        "id": "9pjRQ_d6vLh8",
        "colab_type": "text"
      },
      "source": [
        "The most common attributes mentioned more than 500 times for a restaurant in NV are: \"bike parking\", \"business parking valet\", \"wheel chair accessible\", \"business parking street\", \"happy hour\" and \"dogs allowed\"."
      ]
    },
    {
      "cell_type": "code",
      "metadata": {
        "id": "q_rD5Jaajaoy",
        "colab_type": "code",
        "colab": {}
      },
      "source": [
        "# Set those variables as \"common attributes\"\n",
        "common_attr = ['BikeParking', 'BusinessParking_valet', 'WheelchairAccessible',\n",
        "               'BusinessParking_street', 'HappyHour', 'DogsAllowed']               "
      ],
      "execution_count": 0,
      "outputs": []
    },
    {
      "cell_type": "code",
      "metadata": {
        "id": "Vqa-u6Qdjalb",
        "colab_type": "code",
        "outputId": "44bc1f9f-79a5-4fd9-8545-3beced291fb0",
        "colab": {
          "base_uri": "https://localhost:8080/",
          "height": 487
        }
      },
      "source": [
        "# Put other variables in 'OtherAll' columns\n",
        "count = 1\n",
        "cols = []\n",
        "for column in NV_biz_restaurant_attr_c.columns:\n",
        "    if column not in common_attr:\n",
        "        cols.append(f'Other')\n",
        "        count+=1\n",
        "        continue\n",
        "    cols.append(column)\n",
        "NV_biz_restaurant_attr_c.columns = cols\n",
        "\n",
        "NV_biz_restaurant_attr_c = NV_biz_restaurant_attr_c[['BikeParking',\n",
        "                                                     'BusinessParking_valet',\n",
        "                                                     'WheelchairAccessible',\n",
        "                                                     'BusinessParking_street',\n",
        "                                                     'HappyHour',\n",
        "                                                     'DogsAllowed',\n",
        "                                                     'Other']]\n",
        "NV_biz_restaurant_attr_c['OtherAll'] = NV_biz_restaurant_attr_c.iloc[:, 6:].sum(axis=1).apply(\n",
        "    lambda x: 0 if x == 0 else 1\n",
        ")\n",
        "NV_biz_restaurant_attr_c = NV_biz_restaurant_attr_c.iloc[:,~NV_biz_restaurant_attr_c.columns.duplicated()].drop(columns = 'Other')\n",
        "NV_biz_restaurant_attr_c['stars'] = NV_biz_restaurant_attr['stars']\n",
        "NV_biz_restaurant_attr_c             "
      ],
      "execution_count": 0,
      "outputs": [
        {
          "output_type": "execute_result",
          "data": {
            "text/html": [
              "<div>\n",
              "<style scoped>\n",
              "    .dataframe tbody tr th:only-of-type {\n",
              "        vertical-align: middle;\n",
              "    }\n",
              "\n",
              "    .dataframe tbody tr th {\n",
              "        vertical-align: top;\n",
              "    }\n",
              "\n",
              "    .dataframe thead th {\n",
              "        text-align: right;\n",
              "    }\n",
              "</style>\n",
              "<table border=\"1\" class=\"dataframe\">\n",
              "  <thead>\n",
              "    <tr style=\"text-align: right;\">\n",
              "      <th></th>\n",
              "      <th>BikeParking</th>\n",
              "      <th>BusinessParking_valet</th>\n",
              "      <th>WheelchairAccessible</th>\n",
              "      <th>BusinessParking_street</th>\n",
              "      <th>HappyHour</th>\n",
              "      <th>DogsAllowed</th>\n",
              "      <th>OtherAll</th>\n",
              "      <th>stars</th>\n",
              "    </tr>\n",
              "    <tr>\n",
              "      <th>business_id</th>\n",
              "      <th></th>\n",
              "      <th></th>\n",
              "      <th></th>\n",
              "      <th></th>\n",
              "      <th></th>\n",
              "      <th></th>\n",
              "      <th></th>\n",
              "      <th></th>\n",
              "    </tr>\n",
              "  </thead>\n",
              "  <tbody>\n",
              "    <tr>\n",
              "      <th>Pd52CjgyEU3Rb8co6QfTPw</th>\n",
              "      <td>1</td>\n",
              "      <td>0</td>\n",
              "      <td>0</td>\n",
              "      <td>0</td>\n",
              "      <td>0</td>\n",
              "      <td>0</td>\n",
              "      <td>0</td>\n",
              "      <td>4.0</td>\n",
              "    </tr>\n",
              "    <tr>\n",
              "      <th>4srfPk1s8nlm1YusyDUbjg</th>\n",
              "      <td>0</td>\n",
              "      <td>0</td>\n",
              "      <td>0</td>\n",
              "      <td>0</td>\n",
              "      <td>0</td>\n",
              "      <td>0</td>\n",
              "      <td>0</td>\n",
              "      <td>2.5</td>\n",
              "    </tr>\n",
              "    <tr>\n",
              "      <th>n7V4cD-KqqE3OXk0irJTyA</th>\n",
              "      <td>0</td>\n",
              "      <td>1</td>\n",
              "      <td>1</td>\n",
              "      <td>1</td>\n",
              "      <td>0</td>\n",
              "      <td>0</td>\n",
              "      <td>0</td>\n",
              "      <td>3.0</td>\n",
              "    </tr>\n",
              "    <tr>\n",
              "      <th>MmR06_kNAbmOPK-0pKvGtA</th>\n",
              "      <td>0</td>\n",
              "      <td>0</td>\n",
              "      <td>0</td>\n",
              "      <td>0</td>\n",
              "      <td>0</td>\n",
              "      <td>0</td>\n",
              "      <td>0</td>\n",
              "      <td>4.0</td>\n",
              "    </tr>\n",
              "    <tr>\n",
              "      <th>F0fEKpTk7gAmuSFI0KW1eQ</th>\n",
              "      <td>0</td>\n",
              "      <td>0</td>\n",
              "      <td>0</td>\n",
              "      <td>0</td>\n",
              "      <td>0</td>\n",
              "      <td>0</td>\n",
              "      <td>0</td>\n",
              "      <td>1.5</td>\n",
              "    </tr>\n",
              "    <tr>\n",
              "      <th>...</th>\n",
              "      <td>...</td>\n",
              "      <td>...</td>\n",
              "      <td>...</td>\n",
              "      <td>...</td>\n",
              "      <td>...</td>\n",
              "      <td>...</td>\n",
              "      <td>...</td>\n",
              "      <td>...</td>\n",
              "    </tr>\n",
              "    <tr>\n",
              "      <th>UpW3jyJ3_kTG7oDSflwnMA</th>\n",
              "      <td>1</td>\n",
              "      <td>1</td>\n",
              "      <td>0</td>\n",
              "      <td>0</td>\n",
              "      <td>0</td>\n",
              "      <td>0</td>\n",
              "      <td>0</td>\n",
              "      <td>4.0</td>\n",
              "    </tr>\n",
              "    <tr>\n",
              "      <th>e2ApirIzYID9xIye0r_gKQ</th>\n",
              "      <td>0</td>\n",
              "      <td>1</td>\n",
              "      <td>0</td>\n",
              "      <td>0</td>\n",
              "      <td>0</td>\n",
              "      <td>1</td>\n",
              "      <td>0</td>\n",
              "      <td>2.5</td>\n",
              "    </tr>\n",
              "    <tr>\n",
              "      <th>Fv4EXwV30rwGD2NzN1ekgA</th>\n",
              "      <td>0</td>\n",
              "      <td>1</td>\n",
              "      <td>0</td>\n",
              "      <td>0</td>\n",
              "      <td>0</td>\n",
              "      <td>0</td>\n",
              "      <td>1</td>\n",
              "      <td>4.5</td>\n",
              "    </tr>\n",
              "    <tr>\n",
              "      <th>6HdzmAatFoB8UDep4n9QIw</th>\n",
              "      <td>0</td>\n",
              "      <td>1</td>\n",
              "      <td>1</td>\n",
              "      <td>0</td>\n",
              "      <td>0</td>\n",
              "      <td>0</td>\n",
              "      <td>0</td>\n",
              "      <td>3.0</td>\n",
              "    </tr>\n",
              "    <tr>\n",
              "      <th>pUhU5ohYv65g8B47dTXAKA</th>\n",
              "      <td>0</td>\n",
              "      <td>0</td>\n",
              "      <td>0</td>\n",
              "      <td>0</td>\n",
              "      <td>1</td>\n",
              "      <td>0</td>\n",
              "      <td>0</td>\n",
              "      <td>2.5</td>\n",
              "    </tr>\n",
              "  </tbody>\n",
              "</table>\n",
              "<p>10163 rows × 8 columns</p>\n",
              "</div>"
            ],
            "text/plain": [
              "                        BikeParking  BusinessParking_valet  ...  OtherAll  stars\n",
              "business_id                                                 ...                 \n",
              "Pd52CjgyEU3Rb8co6QfTPw            1                      0  ...         0    4.0\n",
              "4srfPk1s8nlm1YusyDUbjg            0                      0  ...         0    2.5\n",
              "n7V4cD-KqqE3OXk0irJTyA            0                      1  ...         0    3.0\n",
              "MmR06_kNAbmOPK-0pKvGtA            0                      0  ...         0    4.0\n",
              "F0fEKpTk7gAmuSFI0KW1eQ            0                      0  ...         0    1.5\n",
              "...                             ...                    ...  ...       ...    ...\n",
              "UpW3jyJ3_kTG7oDSflwnMA            1                      1  ...         0    4.0\n",
              "e2ApirIzYID9xIye0r_gKQ            0                      1  ...         0    2.5\n",
              "Fv4EXwV30rwGD2NzN1ekgA            0                      1  ...         1    4.5\n",
              "6HdzmAatFoB8UDep4n9QIw            0                      1  ...         0    3.0\n",
              "pUhU5ohYv65g8B47dTXAKA            0                      0  ...         0    2.5\n",
              "\n",
              "[10163 rows x 8 columns]"
            ]
          },
          "metadata": {
            "tags": []
          },
          "execution_count": 72
        }
      ]
    },
    {
      "cell_type": "code",
      "metadata": {
        "id": "0f0ryUJhApXs",
        "colab_type": "code",
        "outputId": "f24871be-27a0-45bf-ade9-3bdeef7ce588",
        "colab": {
          "base_uri": "https://localhost:8080/",
          "height": 769
        }
      },
      "source": [
        "# Plot the restaurant attributes correlation heatmap\n",
        "fig, ax = plt.subplots(figsize=(12, 10))\n",
        "corr = NV_biz_restaurant_attr_c.corr()\n",
        "hm = sns.heatmap(round(corr,2), annot=True, ax=ax, cmap=\"coolwarm\",fmt='.2f',\n",
        "                 linewidths=.05)\n",
        "fig.subplots_adjust(top=0.93)\n",
        "t= fig.suptitle('Restaurant Attributes Correlation Heatmap', fontsize=14)"
      ],
      "execution_count": 0,
      "outputs": [
        {
          "output_type": "display_data",
          "data": {
            "image/png": "[encoded data removed]",
            "text/plain": [
              "<Figure size 864x720 with 2 Axes>"
            ]
          },
          "metadata": {
            "tags": [],
            "needs_background": "light"
          }
        }
      ]
    },
    {
      "cell_type": "markdown",
      "metadata": {
        "id": "vZJrugTUAts0",
        "colab_type": "text"
      },
      "source": [
        "Among all the correlations between features and stars, \"dogs allowed\" has the largest negative effect on stars, whereas \"bike parking\" has the largest positive effect on stars. When a restaurant with bike parking place and no dog allowed, it might have higher average stars. Among all the features, the correlation between each others is low, so we can go ahead and apply our linear regression model.\n",
        "\n"
      ]
    },
    {
      "cell_type": "code",
      "metadata": {
        "id": "mWKA3ddajaX6",
        "colab_type": "code",
        "colab": {}
      },
      "source": [
        "# Preparation for prediction\n",
        "attribute = NV_biz_restaurant_attr_c.iloc[:,:-1]\n",
        "average_stars = NV_biz_restaurant_attr_c.iloc[:,-1]"
      ],
      "execution_count": 0,
      "outputs": []
    },
    {
      "cell_type": "code",
      "metadata": {
        "id": "q9w-AgwNjyR9",
        "colab_type": "code",
        "colab": {}
      },
      "source": [
        "# Split the train and test data\n",
        "X_train, X_test, y_train, y_test = train_test_split(\n",
        "    attribute, average_stars, test_size=0.3, random_state=0)\n",
        "model = LinearRegression().fit(X_train, y_train)"
      ],
      "execution_count": 0,
      "outputs": []
    },
    {
      "cell_type": "code",
      "metadata": {
        "id": "nWiZlwzSjyKE",
        "colab_type": "code",
        "outputId": "9d011b70-003d-4d60-a7bd-5f29819e584a",
        "colab": {
          "base_uri": "https://localhost:8080/",
          "height": 87
        }
      },
      "source": [
        "# View the parameters of our model\n",
        "print('The R^2 value of this model', model.score(attribute, average_stars))\n",
        "print('The intercept of this model:', model.intercept_)\n",
        "print('The coefficient of each variable:', model.coef_)"
      ],
      "execution_count": 0,
      "outputs": [
        {
          "output_type": "stream",
          "text": [
            "The R^2 value of this model 0.09457112059600037\n",
            "The intercept of this model: 3.4708751033777387\n",
            "The coefficient of each variable: [ 0.1289191   0.13882537 -0.0987604  -0.23041325 -0.11473992 -0.91640152\n",
            "  0.22598524]\n"
          ],
          "name": "stdout"
        }
      ]
    },
    {
      "cell_type": "code",
      "metadata": {
        "id": "6uiB5e6KGMU8",
        "colab_type": "code",
        "outputId": "84a49493-dad2-4ee3-c9ec-28b8d33f4ff1",
        "colab": {
          "base_uri": "https://localhost:8080/",
          "height": 54
        }
      },
      "source": [
        "# View the regression model\n",
        "'stars={:.2f}+{:.2f}*BikeParking+{:.2f}*BusinessParking_valet+{:.2f}*WheelchairAccessible+{:.2f}*BusinessParking_street+{:.2f}*HappyHour+{:.2f}*DogsAllowed+{:.2f}*OtherAll'.format(\n",
        "    model.intercept_, model.coef_[0], model.coef_[1], model.coef_[2], model.coef_[3], model.coef_[4], model.coef_[5], model.coef_[6])"
      ],
      "execution_count": 0,
      "outputs": [
        {
          "output_type": "execute_result",
          "data": {
            "text/plain": [
              "'stars=3.47+0.13*BikeParking+0.14*BusinessParking_valet+-0.10*WheelchairAccessible+-0.23*BusinessParking_street+-0.11*HappyHour+-0.92*DogsAllowed+0.23*OtherAll'"
            ]
          },
          "metadata": {
            "tags": []
          },
          "execution_count": 77
        }
      ]
    },
    {
      "cell_type": "code",
      "metadata": {
        "id": "OHViTpPrjx-j",
        "colab_type": "code",
        "colab": {}
      },
      "source": [
        "# Create predictions\n",
        "y_pred = model.predict(X_test)"
      ],
      "execution_count": 0,
      "outputs": []
    },
    {
      "cell_type": "code",
      "metadata": {
        "id": "syV7_F7nj5aH",
        "colab_type": "code",
        "outputId": "d7e30921-4d0b-4499-f94d-4e4c0b86a28a",
        "colab": {
          "base_uri": "https://localhost:8080/",
          "height": 34
        }
      },
      "source": [
        "# View the MSE\n",
        "print('Mean Squared Error:',\n",
        "      metrics.mean_squared_error(y_test, y_pred)) "
      ],
      "execution_count": 0,
      "outputs": [
        {
          "output_type": "stream",
          "text": [
            "Mean Squared Error: 0.6256658323333104\n"
          ],
          "name": "stdout"
        }
      ]
    },
    {
      "cell_type": "code",
      "metadata": {
        "id": "dXX0spTij5QO",
        "colab_type": "code",
        "outputId": "99ac9ad2-13d9-45d1-d2d8-3de4474563a6",
        "colab": {
          "base_uri": "https://localhost:8080/",
          "height": 390
        }
      },
      "source": [
        "# Compare our prediction and actual value\n",
        "star_predition = pd.DataFrame({'Actual': y_test, 'Predicted': y_pred})\n",
        "star_predition.head(10)"
      ],
      "execution_count": 0,
      "outputs": [
        {
          "output_type": "execute_result",
          "data": {
            "text/html": [
              "<div>\n",
              "<style scoped>\n",
              "    .dataframe tbody tr th:only-of-type {\n",
              "        vertical-align: middle;\n",
              "    }\n",
              "\n",
              "    .dataframe tbody tr th {\n",
              "        vertical-align: top;\n",
              "    }\n",
              "\n",
              "    .dataframe thead th {\n",
              "        text-align: right;\n",
              "    }\n",
              "</style>\n",
              "<table border=\"1\" class=\"dataframe\">\n",
              "  <thead>\n",
              "    <tr style=\"text-align: right;\">\n",
              "      <th></th>\n",
              "      <th>Actual</th>\n",
              "      <th>Predicted</th>\n",
              "    </tr>\n",
              "    <tr>\n",
              "      <th>business_id</th>\n",
              "      <th></th>\n",
              "      <th></th>\n",
              "    </tr>\n",
              "  </thead>\n",
              "  <tbody>\n",
              "    <tr>\n",
              "      <th>WrHu03srbhJAw6bnTIixdw</th>\n",
              "      <td>3.5</td>\n",
              "      <td>3.738620</td>\n",
              "    </tr>\n",
              "    <tr>\n",
              "      <th>vW65SNLam99SyOuVagNuvg</th>\n",
              "      <td>3.5</td>\n",
              "      <td>3.470875</td>\n",
              "    </tr>\n",
              "    <tr>\n",
              "      <th>K_URSTcq_chiWPcMpuo3Qw</th>\n",
              "      <td>3.5</td>\n",
              "      <td>3.734192</td>\n",
              "    </tr>\n",
              "    <tr>\n",
              "      <th>bPh7M1vos_V-g8_s-eHaNA</th>\n",
              "      <td>4.0</td>\n",
              "      <td>3.599794</td>\n",
              "    </tr>\n",
              "    <tr>\n",
              "      <th>l_4oSCuQ6AeMtNK5185xAA</th>\n",
              "      <td>3.5</td>\n",
              "      <td>3.356135</td>\n",
              "    </tr>\n",
              "    <tr>\n",
              "      <th>SMRg_KiTXeUb6xYlB98ocQ</th>\n",
              "      <td>2.5</td>\n",
              "      <td>3.599794</td>\n",
              "    </tr>\n",
              "    <tr>\n",
              "      <th>SzhD5J80IhpyeBftzQ950Q</th>\n",
              "      <td>4.0</td>\n",
              "      <td>2.554474</td>\n",
              "    </tr>\n",
              "    <tr>\n",
              "      <th>Vzax98BCkEM1uYibYCzqPQ</th>\n",
              "      <td>4.5</td>\n",
              "      <td>3.696860</td>\n",
              "    </tr>\n",
              "    <tr>\n",
              "      <th>f6K2ag5tqM_LMIQZbfRVRQ</th>\n",
              "      <td>4.5</td>\n",
              "      <td>3.696860</td>\n",
              "    </tr>\n",
              "    <tr>\n",
              "      <th>Lc31HveLiuaxVEt0cvZO7Q</th>\n",
              "      <td>4.0</td>\n",
              "      <td>3.696860</td>\n",
              "    </tr>\n",
              "  </tbody>\n",
              "</table>\n",
              "</div>"
            ],
            "text/plain": [
              "                        Actual  Predicted\n",
              "business_id                              \n",
              "WrHu03srbhJAw6bnTIixdw     3.5   3.738620\n",
              "vW65SNLam99SyOuVagNuvg     3.5   3.470875\n",
              "K_URSTcq_chiWPcMpuo3Qw     3.5   3.734192\n",
              "bPh7M1vos_V-g8_s-eHaNA     4.0   3.599794\n",
              "l_4oSCuQ6AeMtNK5185xAA     3.5   3.356135\n",
              "SMRg_KiTXeUb6xYlB98ocQ     2.5   3.599794\n",
              "SzhD5J80IhpyeBftzQ950Q     4.0   2.554474\n",
              "Vzax98BCkEM1uYibYCzqPQ     4.5   3.696860\n",
              "f6K2ag5tqM_LMIQZbfRVRQ     4.5   3.696860\n",
              "Lc31HveLiuaxVEt0cvZO7Q     4.0   3.696860"
            ]
          },
          "metadata": {
            "tags": []
          },
          "execution_count": 80
        }
      ]
    },
    {
      "cell_type": "markdown",
      "metadata": {
        "id": "a69DtdSGSggw",
        "colab_type": "text"
      },
      "source": [
        "If we get new information about a restaurant, we can simply use this model to predict its average star. By comparing it to the actual star, we will know this restaurant is over rated or under rated."
      ]
    },
    {
      "cell_type": "markdown",
      "metadata": {
        "id": "gYcZzt_2Siar",
        "colab_type": "text"
      },
      "source": [
        "### c. Famous Cuisine Analysis"
      ]
    },
    {
      "cell_type": "markdown",
      "metadata": {
        "id": "JIrgp_iIp0b6",
        "colab_type": "text"
      },
      "source": [
        "What are the top 5 frequent cuisines in Nevada? What are the top restaurants by star rating for each cuisine? \n",
        "\n",
        "Based on categories we got that are related to food and beverages, we found there are different cuisines, and we are curious about which cuisines are most popular."
      ]
    },
    {
      "cell_type": "code",
      "metadata": {
        "id": "d81BS1Qjjy8r",
        "colab_type": "code",
        "outputId": "738a9b70-f0d4-415a-8dd6-fccf471256a4",
        "colab": {
          "base_uri": "https://localhost:8080/",
          "height": 34
        }
      },
      "source": [
        "# find all the cuisines in the state\n",
        "with open(proj_dir + 'cuisine.txt', 'r', encoding='utf-8') as f:\n",
        "  c_lst = f.read()\n",
        "\n",
        "c_lst = c_lst.replace('\\n\\xa0', '').replace('\\xa0', ' ')\n",
        "restaurant_cuisine = eval(c_lst)\n",
        "restaurant_cuisine[:5]"
      ],
      "execution_count": 0,
      "outputs": [
        {
          "output_type": "execute_result",
          "data": {
            "text/plain": [
              "['American (New)', 'American (Traditional)', 'Afghan', 'African', 'Alsatian']"
            ]
          },
          "metadata": {
            "tags": []
          },
          "execution_count": 81
        }
      ]
    },
    {
      "cell_type": "code",
      "metadata": {
        "id": "WXSjX7e7j1D4",
        "colab_type": "code",
        "outputId": "65436339-fc18-4256-8066-02be117837c4",
        "colab": {
          "base_uri": "https://localhost:8080/",
          "height": 634
        }
      },
      "source": [
        "#filter out all cuisines in the dataframe\n",
        "NV_usr_review_biz_hour2= NV_restaurant_usr_review_biz_hours[NV_restaurant_usr_review_biz_hours['categories'].astype(str).str.contains('|'.join(restaurant_cuisine), regex=True)]\n",
        "NV_usr_review_biz_hour2.head()"
      ],
      "execution_count": 0,
      "outputs": [
        {
          "output_type": "stream",
          "text": [
            "/usr/local/lib/python3.6/dist-packages/pandas/core/strings.py:1954: UserWarning:\n",
            "\n",
            "This pattern has match groups. To actually get the groups, use str.extract.\n",
            "\n"
          ],
          "name": "stderr"
        },
        {
          "output_type": "execute_result",
          "data": {
            "text/html": [
              "<div>\n",
              "<style scoped>\n",
              "    .dataframe tbody tr th:only-of-type {\n",
              "        vertical-align: middle;\n",
              "    }\n",
              "\n",
              "    .dataframe tbody tr th {\n",
              "        vertical-align: top;\n",
              "    }\n",
              "\n",
              "    .dataframe thead th {\n",
              "        text-align: right;\n",
              "    }\n",
              "</style>\n",
              "<table border=\"1\" class=\"dataframe\">\n",
              "  <thead>\n",
              "    <tr style=\"text-align: right;\">\n",
              "      <th></th>\n",
              "      <th>business_id</th>\n",
              "      <th>name_rvw</th>\n",
              "      <th>neighborhood</th>\n",
              "      <th>address</th>\n",
              "      <th>city</th>\n",
              "      <th>state</th>\n",
              "      <th>postal_code</th>\n",
              "      <th>latitude</th>\n",
              "      <th>longitude</th>\n",
              "      <th>stars_biz</th>\n",
              "      <th>review_count_rvw</th>\n",
              "      <th>is_open</th>\n",
              "      <th>categories</th>\n",
              "      <th>review_id</th>\n",
              "      <th>user_id</th>\n",
              "      <th>stars_rvw</th>\n",
              "      <th>date</th>\n",
              "      <th>text</th>\n",
              "      <th>useful_rvw</th>\n",
              "      <th>funny_rvw</th>\n",
              "      <th>cool_rvw</th>\n",
              "      <th>name_usr</th>\n",
              "      <th>review_count_usr</th>\n",
              "      <th>yelping_since</th>\n",
              "      <th>friends</th>\n",
              "      <th>useful_usr</th>\n",
              "      <th>funny_usr</th>\n",
              "      <th>cool_usr</th>\n",
              "      <th>fans</th>\n",
              "      <th>elite</th>\n",
              "      <th>average_stars</th>\n",
              "      <th>compliment_hot</th>\n",
              "      <th>compliment_more</th>\n",
              "      <th>compliment_profile</th>\n",
              "      <th>compliment_cute</th>\n",
              "      <th>compliment_list</th>\n",
              "      <th>compliment_note</th>\n",
              "      <th>compliment_plain</th>\n",
              "      <th>compliment_cool</th>\n",
              "      <th>compliment_funny</th>\n",
              "      <th>compliment_writer</th>\n",
              "      <th>compliment_photos</th>\n",
              "      <th>monday</th>\n",
              "      <th>tuesday</th>\n",
              "      <th>wednesday</th>\n",
              "      <th>thursday</th>\n",
              "      <th>friday</th>\n",
              "      <th>saturday</th>\n",
              "      <th>sunday</th>\n",
              "    </tr>\n",
              "  </thead>\n",
              "  <tbody>\n",
              "    <tr>\n",
              "      <th>767</th>\n",
              "      <td>F0fEKpTk7gAmuSFI0KW1eQ</td>\n",
              "      <td>\"Cafe Mastrioni\"</td>\n",
              "      <td>Spring Valley</td>\n",
              "      <td>\"4250 S Rainbow Blvd, Ste 1007\"</td>\n",
              "      <td>Las Vegas</td>\n",
              "      <td>NV</td>\n",
              "      <td>89103</td>\n",
              "      <td>36.111057</td>\n",
              "      <td>-115.241688</td>\n",
              "      <td>1.5</td>\n",
              "      <td>3.0</td>\n",
              "      <td>0.0</td>\n",
              "      <td>Italian;Restaurants</td>\n",
              "      <td>mCiWtKATncmPwoQmx1FuyA</td>\n",
              "      <td>L8P5OWO1Jh4B2HLa1Fnbng</td>\n",
              "      <td>1.0</td>\n",
              "      <td>2007-10-03</td>\n",
              "      <td>We had dinner reservations which on entry we r...</td>\n",
              "      <td>0</td>\n",
              "      <td>0</td>\n",
              "      <td>0</td>\n",
              "      <td>Westie</td>\n",
              "      <td>1075.0</td>\n",
              "      <td>2007-10-03</td>\n",
              "      <td>tbN2piAg1Yl1URKsSc_KyQ, OIjDsULvzgn6j_ZLfrt5KQ...</td>\n",
              "      <td>40.0</td>\n",
              "      <td>4.0</td>\n",
              "      <td>1.0</td>\n",
              "      <td>31.0</td>\n",
              "      <td>None</td>\n",
              "      <td>3.26</td>\n",
              "      <td>1.0</td>\n",
              "      <td>5.0</td>\n",
              "      <td>1.0</td>\n",
              "      <td>2.0</td>\n",
              "      <td>2.0</td>\n",
              "      <td>15.0</td>\n",
              "      <td>12.0</td>\n",
              "      <td>6.0</td>\n",
              "      <td>6.0</td>\n",
              "      <td>13.0</td>\n",
              "      <td>35.0</td>\n",
              "      <td>None</td>\n",
              "      <td>None</td>\n",
              "      <td>None</td>\n",
              "      <td>None</td>\n",
              "      <td>None</td>\n",
              "      <td>None</td>\n",
              "      <td>None</td>\n",
              "    </tr>\n",
              "    <tr>\n",
              "      <th>768</th>\n",
              "      <td>F0fEKpTk7gAmuSFI0KW1eQ</td>\n",
              "      <td>\"Cafe Mastrioni\"</td>\n",
              "      <td>Spring Valley</td>\n",
              "      <td>\"4250 S Rainbow Blvd, Ste 1007\"</td>\n",
              "      <td>Las Vegas</td>\n",
              "      <td>NV</td>\n",
              "      <td>89103</td>\n",
              "      <td>36.111057</td>\n",
              "      <td>-115.241688</td>\n",
              "      <td>1.5</td>\n",
              "      <td>3.0</td>\n",
              "      <td>0.0</td>\n",
              "      <td>Italian;Restaurants</td>\n",
              "      <td>GsZmm19yVeCah77sygn3hA</td>\n",
              "      <td>tyPhJy0OMJqf9k9Xzck3uA</td>\n",
              "      <td>3.0</td>\n",
              "      <td>2009-07-27</td>\n",
              "      <td>Dropped my fork at new location on Hualapai Wa...</td>\n",
              "      <td>0</td>\n",
              "      <td>0</td>\n",
              "      <td>0</td>\n",
              "      <td>Fork</td>\n",
              "      <td>13.0</td>\n",
              "      <td>2009-07-27</td>\n",
              "      <td>r5ggPC6OccLk6dDl5yqsJQ, H-QtPvPgVNUcuPKq8yAyCQ...</td>\n",
              "      <td>0.0</td>\n",
              "      <td>0.0</td>\n",
              "      <td>0.0</td>\n",
              "      <td>1.0</td>\n",
              "      <td>None</td>\n",
              "      <td>4.08</td>\n",
              "      <td>1.0</td>\n",
              "      <td>0.0</td>\n",
              "      <td>0.0</td>\n",
              "      <td>0.0</td>\n",
              "      <td>0.0</td>\n",
              "      <td>0.0</td>\n",
              "      <td>0.0</td>\n",
              "      <td>1.0</td>\n",
              "      <td>1.0</td>\n",
              "      <td>1.0</td>\n",
              "      <td>0.0</td>\n",
              "      <td>None</td>\n",
              "      <td>None</td>\n",
              "      <td>None</td>\n",
              "      <td>None</td>\n",
              "      <td>None</td>\n",
              "      <td>None</td>\n",
              "      <td>None</td>\n",
              "    </tr>\n",
              "    <tr>\n",
              "      <th>769</th>\n",
              "      <td>F0fEKpTk7gAmuSFI0KW1eQ</td>\n",
              "      <td>\"Cafe Mastrioni\"</td>\n",
              "      <td>Spring Valley</td>\n",
              "      <td>\"4250 S Rainbow Blvd, Ste 1007\"</td>\n",
              "      <td>Las Vegas</td>\n",
              "      <td>NV</td>\n",
              "      <td>89103</td>\n",
              "      <td>36.111057</td>\n",
              "      <td>-115.241688</td>\n",
              "      <td>1.5</td>\n",
              "      <td>3.0</td>\n",
              "      <td>0.0</td>\n",
              "      <td>Italian;Restaurants</td>\n",
              "      <td>x76DI5bVEGR1ssxmI8Fa9A</td>\n",
              "      <td>Ihs18fFErRmbCGYYkr0e4A</td>\n",
              "      <td>1.0</td>\n",
              "      <td>2012-02-13</td>\n",
              "      <td>Location @ Hualapai :  Over booked or incompet...</td>\n",
              "      <td>0</td>\n",
              "      <td>0</td>\n",
              "      <td>0</td>\n",
              "      <td>John</td>\n",
              "      <td>1.0</td>\n",
              "      <td>2012-02-13</td>\n",
              "      <td>None</td>\n",
              "      <td>0.0</td>\n",
              "      <td>0.0</td>\n",
              "      <td>0.0</td>\n",
              "      <td>0.0</td>\n",
              "      <td>None</td>\n",
              "      <td>1.00</td>\n",
              "      <td>0.0</td>\n",
              "      <td>0.0</td>\n",
              "      <td>0.0</td>\n",
              "      <td>0.0</td>\n",
              "      <td>0.0</td>\n",
              "      <td>0.0</td>\n",
              "      <td>0.0</td>\n",
              "      <td>0.0</td>\n",
              "      <td>0.0</td>\n",
              "      <td>0.0</td>\n",
              "      <td>0.0</td>\n",
              "      <td>None</td>\n",
              "      <td>None</td>\n",
              "      <td>None</td>\n",
              "      <td>None</td>\n",
              "      <td>None</td>\n",
              "      <td>None</td>\n",
              "      <td>None</td>\n",
              "    </tr>\n",
              "    <tr>\n",
              "      <th>1435</th>\n",
              "      <td>dPxZI9lrKTl5dvFfnb1_Ig</td>\n",
              "      <td>\"Trattoria Italia\"</td>\n",
              "      <td>Anthem</td>\n",
              "      <td>\"9905 S Eastern Ave, Ste 140\"</td>\n",
              "      <td>Las Vegas</td>\n",
              "      <td>NV</td>\n",
              "      <td>89183</td>\n",
              "      <td>36.010086</td>\n",
              "      <td>-115.118656</td>\n",
              "      <td>4.5</td>\n",
              "      <td>210.0</td>\n",
              "      <td>1.0</td>\n",
              "      <td>Seafood;Italian;Pizza;Restaurants</td>\n",
              "      <td>g8yoM5RkDL2HTpk07jkYCg</td>\n",
              "      <td>oFyOUOeGTRZhFPF9uTqrTQ</td>\n",
              "      <td>5.0</td>\n",
              "      <td>2016-12-13</td>\n",
              "      <td>Went in for the first time tonight and within ...</td>\n",
              "      <td>0</td>\n",
              "      <td>0</td>\n",
              "      <td>1</td>\n",
              "      <td>Tamara</td>\n",
              "      <td>128.0</td>\n",
              "      <td>2013-02-22</td>\n",
              "      <td>0O0_JKppOrB3IAGgUpgQPg, VrxeT8zX--k58eGM2IWeUg...</td>\n",
              "      <td>228.0</td>\n",
              "      <td>20.0</td>\n",
              "      <td>36.0</td>\n",
              "      <td>2.0</td>\n",
              "      <td>2016, 2017</td>\n",
              "      <td>4.13</td>\n",
              "      <td>2.0</td>\n",
              "      <td>2.0</td>\n",
              "      <td>0.0</td>\n",
              "      <td>0.0</td>\n",
              "      <td>0.0</td>\n",
              "      <td>2.0</td>\n",
              "      <td>3.0</td>\n",
              "      <td>2.0</td>\n",
              "      <td>2.0</td>\n",
              "      <td>0.0</td>\n",
              "      <td>0.0</td>\n",
              "      <td>11:0-21:0</td>\n",
              "      <td>11:0-21:0</td>\n",
              "      <td>11:0-21:0</td>\n",
              "      <td>11:0-21:0</td>\n",
              "      <td>11:0-22:0</td>\n",
              "      <td>11:0-22:0</td>\n",
              "      <td>11:0-21:0</td>\n",
              "    </tr>\n",
              "    <tr>\n",
              "      <th>1436</th>\n",
              "      <td>dPxZI9lrKTl5dvFfnb1_Ig</td>\n",
              "      <td>\"Trattoria Italia\"</td>\n",
              "      <td>Anthem</td>\n",
              "      <td>\"9905 S Eastern Ave, Ste 140\"</td>\n",
              "      <td>Las Vegas</td>\n",
              "      <td>NV</td>\n",
              "      <td>89183</td>\n",
              "      <td>36.010086</td>\n",
              "      <td>-115.118656</td>\n",
              "      <td>4.5</td>\n",
              "      <td>210.0</td>\n",
              "      <td>1.0</td>\n",
              "      <td>Seafood;Italian;Pizza;Restaurants</td>\n",
              "      <td>2-lACtC5w76LRGXlE3c-UQ</td>\n",
              "      <td>RSLTG7N0wYJhRTW5CGEm5Q</td>\n",
              "      <td>5.0</td>\n",
              "      <td>2017-09-22</td>\n",
              "      <td>Hands down this is Las Vegas best mom and pop ...</td>\n",
              "      <td>2</td>\n",
              "      <td>1</td>\n",
              "      <td>1</td>\n",
              "      <td>Pete</td>\n",
              "      <td>145.0</td>\n",
              "      <td>2011-05-19</td>\n",
              "      <td>r7-85LF1NaGicPbdE_jorA, bBzdrwVyGrdRwk4izd2rKg...</td>\n",
              "      <td>62.0</td>\n",
              "      <td>23.0</td>\n",
              "      <td>22.0</td>\n",
              "      <td>10.0</td>\n",
              "      <td>2012, 2013</td>\n",
              "      <td>4.37</td>\n",
              "      <td>4.0</td>\n",
              "      <td>0.0</td>\n",
              "      <td>2.0</td>\n",
              "      <td>0.0</td>\n",
              "      <td>2.0</td>\n",
              "      <td>4.0</td>\n",
              "      <td>8.0</td>\n",
              "      <td>10.0</td>\n",
              "      <td>10.0</td>\n",
              "      <td>2.0</td>\n",
              "      <td>1.0</td>\n",
              "      <td>11:0-21:0</td>\n",
              "      <td>11:0-21:0</td>\n",
              "      <td>11:0-21:0</td>\n",
              "      <td>11:0-21:0</td>\n",
              "      <td>11:0-22:0</td>\n",
              "      <td>11:0-22:0</td>\n",
              "      <td>11:0-21:0</td>\n",
              "    </tr>\n",
              "  </tbody>\n",
              "</table>\n",
              "</div>"
            ],
            "text/plain": [
              "                 business_id            name_rvw  ...   saturday     sunday\n",
              "767   F0fEKpTk7gAmuSFI0KW1eQ    \"Cafe Mastrioni\"  ...       None       None\n",
              "768   F0fEKpTk7gAmuSFI0KW1eQ    \"Cafe Mastrioni\"  ...       None       None\n",
              "769   F0fEKpTk7gAmuSFI0KW1eQ    \"Cafe Mastrioni\"  ...       None       None\n",
              "1435  dPxZI9lrKTl5dvFfnb1_Ig  \"Trattoria Italia\"  ...  11:0-22:0  11:0-21:0\n",
              "1436  dPxZI9lrKTl5dvFfnb1_Ig  \"Trattoria Italia\"  ...  11:0-22:0  11:0-21:0\n",
              "\n",
              "[5 rows x 49 columns]"
            ]
          },
          "metadata": {
            "tags": []
          },
          "execution_count": 82
        }
      ]
    },
    {
      "cell_type": "code",
      "metadata": {
        "id": "9vuLsBJNp9bJ",
        "colab_type": "code",
        "outputId": "6c99aaa8-ceba-4f97-abcf-f5ec0c7f13d4",
        "colab": {
          "base_uri": "https://localhost:8080/",
          "height": 227
        }
      },
      "source": [
        "#explode column \"category\"\n",
        "all_cuisines = NV_usr_review_biz_hour2.categories.str.split(';').explode().sort_values(ascending=False)"
      ],
      "execution_count": 0,
      "outputs": [
        {
          "output_type": "execute_result",
          "data": {
            "text/plain": [
              "807224          Wraps\n",
              "807165          Wraps\n",
              "807158          Wraps\n",
              "1563987         Wraps\n",
              "807159          Wraps\n",
              "              ...    \n",
              "415267     Acai Bowls\n",
              "415266     Acai Bowls\n",
              "415265     Acai Bowls\n",
              "415264     Acai Bowls\n",
              "415174     Acai Bowls\n",
              "Name: categories, Length: 2170925, dtype: object"
            ]
          },
          "metadata": {
            "tags": []
          },
          "execution_count": 83
        }
      ]
    },
    {
      "cell_type": "code",
      "metadata": {
        "id": "8tRF9YO0p9iu",
        "colab_type": "code",
        "outputId": "5740fe28-193e-424c-ec6b-c13ad2a0e4df",
        "colab": {
          "base_uri": "https://localhost:8080/",
          "height": 279
        }
      },
      "source": [
        "#filter out all cuisines in the column \"category\"\n",
        "all_cuisines2=all_cuisines.str.contains('|'.join(restaurant_cuisine), regex=True)\n",
        "all_cuisines[all_cuisines2].value_counts().head(10)"
      ],
      "execution_count": 0,
      "outputs": [
        {
          "output_type": "stream",
          "text": [
            "/usr/local/lib/python3.6/dist-packages/pandas/core/strings.py:1954: UserWarning:\n",
            "\n",
            "This pattern has match groups. To actually get the groups, use str.extract.\n",
            "\n"
          ],
          "name": "stderr"
        },
        {
          "output_type": "execute_result",
          "data": {
            "text/plain": [
              "Thai              33720\n",
              "French            32530\n",
              "Korean            24964\n",
              "Hawaiian          21124\n",
              "Vietnamese        18836\n",
              "Southern          16221\n",
              "Greek             12249\n",
              "Tex-Mex           10653\n",
              "Middle Eastern     9454\n",
              "Spanish            9030\n",
              "Name: categories, dtype: int64"
            ]
          },
          "metadata": {
            "tags": []
          },
          "execution_count": 84
        }
      ]
    },
    {
      "cell_type": "markdown",
      "metadata": {
        "id": "GVOOjHGUqE_r",
        "colab_type": "text"
      },
      "source": [
        "From the dataset, we can see the top five most popular cuisines are Thai, French, Korean, Hawaiian, and Vietnamese. Based on this, Let's find what the top restaurants are for each cuisine by star rating."
      ]
    },
    {
      "cell_type": "code",
      "metadata": {
        "id": "r6BV49cuuCwa",
        "colab_type": "code",
        "colab": {}
      },
      "source": [
        "#filter out all the Thai restaurants\n",
        "Thai= NV_usr_review_biz_hour2[NV_usr_review_biz_hour2['categories'].astype(str).str.contains('Thai')]\n",
        "Thai=Thai.sort_values(by='stars_biz',ascending=False).head(10)"
      ],
      "execution_count": 0,
      "outputs": []
    },
    {
      "cell_type": "code",
      "metadata": {
        "id": "VLQG3RIvt7JK",
        "colab_type": "code",
        "outputId": "c85d5e59-2c12-471b-f642-e32f38527998",
        "colab": {
          "base_uri": "https://localhost:8080/",
          "height": 69
        }
      },
      "source": [
        "#find top restaurants\n",
        "Thai=Thai.drop_duplicates(subset='name_rvw')\n",
        "Thai['name_rvw']"
      ],
      "execution_count": 0,
      "outputs": [
        {
          "output_type": "execute_result",
          "data": {
            "text/plain": [
              "245223          \"Mr. Bangkok\"\n",
              "483227    \"Andrada Muay Thai\"\n",
              "Name: name_rvw, dtype: object"
            ]
          },
          "metadata": {
            "tags": []
          },
          "execution_count": 88
        }
      ]
    },
    {
      "cell_type": "code",
      "metadata": {
        "id": "4tVV2SmRp9g9",
        "colab_type": "code",
        "colab": {}
      },
      "source": [
        "#filter out all the French restaurants\n",
        "French= NV_usr_review_biz_hour2[NV_usr_review_biz_hour2['categories'].astype(str).str.contains('French')]\n",
        "French=French.sort_values(by='stars_biz',ascending=False).head(10)"
      ],
      "execution_count": 0,
      "outputs": []
    },
    {
      "cell_type": "code",
      "metadata": {
        "id": "Ay_Mjt-EqHtO",
        "colab_type": "code",
        "outputId": "f033794c-7ac8-44fa-ae8a-73abcf1ffdcd",
        "colab": {
          "base_uri": "https://localhost:8080/",
          "height": 69
        }
      },
      "source": [
        "#find top restaurants\n",
        "French=French.drop_duplicates(subset='name_rvw')\n",
        "French['name_rvw']"
      ],
      "execution_count": 0,
      "outputs": [
        {
          "output_type": "execute_result",
          "data": {
            "text/plain": [
              "73296     \"Yanni's Bistro\"\n",
              "908535    \"Bonjour Bistro\"\n",
              "Name: name_rvw, dtype: object"
            ]
          },
          "metadata": {
            "tags": []
          },
          "execution_count": 90
        }
      ]
    },
    {
      "cell_type": "code",
      "metadata": {
        "id": "90IBQl5wqHzl",
        "colab_type": "code",
        "colab": {}
      },
      "source": [
        "#filter out all the Korean restaurants\n",
        "Korean= NV_usr_review_biz_hour2[NV_usr_review_biz_hour2['categories'].astype(str).str.contains('Korean')]\n",
        "Korean=Korean.sort_values(by='stars_biz',ascending=False).head(10)"
      ],
      "execution_count": 0,
      "outputs": []
    },
    {
      "cell_type": "code",
      "metadata": {
        "id": "DiaOPU7uqH38",
        "colab_type": "code",
        "outputId": "2faf7edb-ac94-4bb6-ce18-ee9ef8d15823",
        "colab": {
          "base_uri": "https://localhost:8080/",
          "height": 69
        }
      },
      "source": [
        "#find top restaurants\n",
        "Korean=Korean.drop_duplicates(subset='name_rvw')\n",
        "Korean['name_rvw']"
      ],
      "execution_count": 0,
      "outputs": [
        {
          "output_type": "execute_result",
          "data": {
            "text/plain": [
              "1529136         \"Hon Pocha\"\n",
              "1805249    \"Island Style 2\"\n",
              "Name: name_rvw, dtype: object"
            ]
          },
          "metadata": {
            "tags": []
          },
          "execution_count": 92
        }
      ]
    },
    {
      "cell_type": "code",
      "metadata": {
        "id": "gP4dGuVPqHyA",
        "colab_type": "code",
        "colab": {}
      },
      "source": [
        "#filter out all the Hawaiian restaurants\n",
        "Hawaiian= NV_usr_review_biz_hour2[NV_usr_review_biz_hour2['categories'].astype(str).str.contains('Hawaiian')]\n",
        "Hawaiian=Hawaiian.sort_values(by='stars_biz',ascending=False).head(10)"
      ],
      "execution_count": 0,
      "outputs": []
    },
    {
      "cell_type": "code",
      "metadata": {
        "id": "MauNJDGot6Lu",
        "colab_type": "code",
        "outputId": "9597d6cd-a8e5-4dd9-f1ee-1b9463989050",
        "colab": {
          "base_uri": "https://localhost:8080/",
          "height": 52
        }
      },
      "source": [
        "#find top restaurants\n",
        "Hawaiian=Hawaiian.drop_duplicates(subset='name_rvw')\n",
        "Hawaiian['name_rvw']"
      ],
      "execution_count": 0,
      "outputs": [
        {
          "output_type": "execute_result",
          "data": {
            "text/plain": [
              "1610116    \"Poke Express\"\n",
              "Name: name_rvw, dtype: object"
            ]
          },
          "metadata": {
            "tags": []
          },
          "execution_count": 94
        }
      ]
    },
    {
      "cell_type": "code",
      "metadata": {
        "id": "2BwymArEt7An",
        "colab_type": "code",
        "colab": {}
      },
      "source": [
        "#filter out all the Vietnamese restaurants\n",
        "Vietnamese= NV_usr_review_biz_hour2[NV_usr_review_biz_hour2['categories'].astype(str).str.contains('Vietnamese')]\n",
        "Vietnamese=Vietnamese.sort_values(by='stars_biz',ascending=False).head(10)"
      ],
      "execution_count": 0,
      "outputs": []
    },
    {
      "cell_type": "code",
      "metadata": {
        "id": "BWrwYDM0uCmW",
        "colab_type": "code",
        "outputId": "d4410c88-2ca1-4ce5-fcfa-45071ce568f1",
        "colab": {
          "base_uri": "https://localhost:8080/",
          "height": 52
        }
      },
      "source": [
        "#find top restaurants\n",
        "Vietnamese=Vietnamese.drop_duplicates(subset='name_rvw')\n",
        "Vietnamese['name_rvw']"
      ],
      "execution_count": 0,
      "outputs": [
        {
          "output_type": "execute_result",
          "data": {
            "text/plain": [
              "1131022    \"Bosa Boba Cafe\"\n",
              "Name: name_rvw, dtype: object"
            ]
          },
          "metadata": {
            "tags": []
          },
          "execution_count": 96
        }
      ]
    },
    {
      "cell_type": "markdown",
      "metadata": {
        "id": "NdhhOWwPuP6v",
        "colab_type": "text"
      },
      "source": [
        "From the result we can see that \"Yanni's Bistro\" and \"Bonjour Bistro\" have highest review ratings for French Food.\n",
        "\"Hon Pocha\" and \"Island Style 2\" have highest review ratings for Korean Food. \"Poke Express\" has highest review ratings for Hawaiian Food. \"Bosa Boba Cafe\" has highest review ratings for Vietnamese Food. Finally, \"Mr. Bangkok\" and \"Andrada Muay Thai\" have highest review ratings for Thai Food."
      ]
    },
    {
      "cell_type": "markdown",
      "metadata": {
        "id": "eia0E-tt_dnv",
        "colab_type": "text"
      },
      "source": [
        "Let's create a map and see where these restaurants are located. Are they close to each other? What can we learn from it?"
      ]
    },
    {
      "cell_type": "code",
      "metadata": {
        "id": "3PHq0TXD_hag",
        "colab_type": "code",
        "colab": {}
      },
      "source": [
        "# Enter the OWN mapbox token\n",
        "mapbox_access_token =  'pk.eyJ1IjoiZXZhemhvdTExNyIsImEiOiJjazlnNjFkbXkwY284M2tvMnN1NWNreG5xIn0.q3Q1pKC8fZcAPrjaoGNyyg'"
      ],
      "execution_count": 0,
      "outputs": []
    },
    {
      "cell_type": "code",
      "metadata": {
        "id": "JeGpIzZW_jUY",
        "colab_type": "code",
        "outputId": "45996137-a5ea-4e48-d0a4-d861f8cf0c88",
        "colab": {
          "base_uri": "https://localhost:8080/",
          "height": 542
        }
      },
      "source": [
        "#create a map\n",
        "import plotly.graph_objects as go\n",
        "fig = go.Figure()\n",
        "fig.add_trace(go.Scattermapbox(\n",
        "        \n",
        "        text = French['name_rvw'],\n",
        "        lon = French['longitude'],\n",
        "        lat = French['latitude'],\n",
        "        hoverinfo='text',\n",
        "        mode = 'markers',\n",
        "        name='French',\n",
        "        marker = dict(\n",
        "                    color = 'green',\n",
        "                    symbol = 'circle',\n",
        "                    size=8\n",
        "                )\n",
        "    ))\n",
        "\n",
        "fig.add_trace(go.Scattermapbox(\n",
        "        text = Hawaiian['name_rvw'],\n",
        "        lon = Hawaiian['longitude'],\n",
        "        lat = Hawaiian['latitude'],\n",
        "        mode = 'markers',\n",
        "        name='Hawaiian',\n",
        "        marker = dict(\n",
        "                    color = 'red',\n",
        "                    size=8          \n",
        "                )\n",
        "\n",
        "    ))\n",
        "fig.add_trace(go.Scattermapbox(\n",
        "        text = ['name_rvw'],\n",
        "        lon = Korean['longitude'],\n",
        "        lat = Korean['latitude'],\n",
        "        mode = 'markers',\n",
        "        name='Korean',\n",
        "        marker = dict(\n",
        "                    color = 'blue',\n",
        "                    size=8          \n",
        "                )\n",
        "\n",
        "    ))\n",
        "\n",
        "fig.add_trace(go.Scattermapbox(\n",
        "        text = Vietnamese['name_rvw'],\n",
        "        lon = Vietnamese['longitude'],\n",
        "        lat = Vietnamese['latitude'],\n",
        "        mode = 'markers',\n",
        "        name='Vietnamese',\n",
        "        marker = dict(\n",
        "                    color = 'orange',\n",
        "                    size=8          \n",
        "                )\n",
        "\n",
        "    ))\n",
        "\n",
        "fig.add_trace(go.Scattermapbox(\n",
        "        text = Thai['name_rvw'],\n",
        "        lon = Thai['longitude'],\n",
        "        lat = Thai['latitude'],\n",
        "        mode = 'markers',\n",
        "        name='Thai',\n",
        "        marker = dict(\n",
        "                    color = 'yellow',\n",
        "                    size=8          \n",
        "                )\n",
        "\n",
        "    ))\n",
        "\n",
        "fig.update_layout(\n",
        "        title = 'Top Restaurantstop for each cuisine',\n",
        "        mapbox=go.layout.Mapbox(\n",
        "            accesstoken=mapbox_access_token,\n",
        "            zoom=1\n",
        "        )\n",
        "    )\n",
        "\n",
        "fig.show()"
      ],
      "execution_count": 0,
      "outputs": [
        {
          "output_type": "display_data",
          "data": {
            "text/html": [
              "<html>\n",
              "<head><meta charset=\"utf-8\" /></head>\n",
              "<body>\n",
              "    <div>\n",
              "            <script src=\"https://cdnjs.cloudflare.com/ajax/libs/mathjax/2.7.5/MathJax.js?config=TeX-AMS-MML_SVG\"></script><script type=\"text/javascript\">if (window.MathJax) {MathJax.Hub.Config({SVG: {font: \"STIX-Web\"}});}</script>\n",
              "                <script type=\"text/javascript\">window.PlotlyConfig = {MathJaxConfig: 'local'};</script>\n",
              "        <script src=\"https://cdn.plot.ly/plotly-latest.min.js\"></script>    \n",
              "            <div id=\"f548bd4a-2532-4c6f-89e7-0ba00531a126\" class=\"plotly-graph-div\" style=\"height:525px; width:100%;\"></div>\n",
              "            <script type=\"text/javascript\">\n",
              "                \n",
              "                    window.PLOTLYENV=window.PLOTLYENV || {};\n",
              "                    \n",
              "                if (document.getElementById(\"f548bd4a-2532-4c6f-89e7-0ba00531a126\")) {\n",
              "                    Plotly.newPlot(\n",
              "                        'f548bd4a-2532-4c6f-89e7-0ba00531a126',\n",
              "                        [{\"hoverinfo\": \"text\", \"lat\": [36.0012878935, 36.025359], \"lon\": [-115.109671105, -115.119197], \"marker\": {\"color\": \"green\", \"size\": 8, \"symbol\": \"circle\"}, \"mode\": \"markers\", \"name\": \"French\", \"text\": [\"\\\"Yanni's Bistro\\\"\", \"\\\"Bonjour Bistro\\\"\"], \"type\": \"scattermapbox\"}, {\"lat\": [36.238245974899996], \"lon\": [-115.150921382], \"marker\": {\"color\": \"red\", \"size\": 8}, \"mode\": \"markers\", \"name\": \"Hawaiian\", \"text\": [\"\\\"Poke Express\\\"\"], \"type\": \"scattermapbox\"}, {\"lat\": [36.131529, 36.1269755434], \"lon\": [-115.20772439999999, -115.2414608], \"marker\": {\"color\": \"blue\", \"size\": 8}, \"mode\": \"markers\", \"name\": \"Korean\", \"text\": [\"name_rvw\"], \"type\": \"scattermapbox\"}, {\"lat\": [36.1259599], \"lon\": [-115.1848457], \"marker\": {\"color\": \"orange\", \"size\": 8}, \"mode\": \"markers\", \"name\": \"Vietnamese\", \"text\": [\"\\\"Bosa Boba Cafe\\\"\"], \"type\": \"scattermapbox\"}, {\"lat\": [36.050351, 36.136370311], \"lon\": [-115.17156399999999, -115.24363026], \"marker\": {\"color\": \"yellow\", \"size\": 8}, \"mode\": \"markers\", \"name\": \"Thai\", \"text\": [\"\\\"Mr. Bangkok\\\"\", \"\\\"Andrada Muay Thai\\\"\"], \"type\": \"scattermapbox\"}],\n",
              "                        {\"mapbox\": {\"accesstoken\": \"pk.eyJ1IjoiZXZhemhvdTExNyIsImEiOiJjazlnNjFkbXkwY284M2tvMnN1NWNreG5xIn0.q3Q1pKC8fZcAPrjaoGNyyg\", \"zoom\": 1}, \"template\": {\"data\": {\"bar\": [{\"error_x\": {\"color\": \"#2a3f5f\"}, \"error_y\": {\"color\": \"#2a3f5f\"}, \"marker\": {\"line\": {\"color\": \"#E5ECF6\", \"width\": 0.5}}, \"type\": \"bar\"}], \"barpolar\": [{\"marker\": {\"line\": {\"color\": \"#E5ECF6\", \"width\": 0.5}}, \"type\": \"barpolar\"}], \"carpet\": [{\"aaxis\": {\"endlinecolor\": \"#2a3f5f\", \"gridcolor\": \"white\", \"linecolor\": \"white\", \"minorgridcolor\": \"white\", \"startlinecolor\": \"#2a3f5f\"}, \"baxis\": {\"endlinecolor\": \"#2a3f5f\", \"gridcolor\": \"white\", \"linecolor\": \"white\", \"minorgridcolor\": \"white\", \"startlinecolor\": \"#2a3f5f\"}, \"type\": \"carpet\"}], \"choropleth\": [{\"colorbar\": {\"outlinewidth\": 0, \"ticks\": \"\"}, \"type\": \"choropleth\"}], \"contour\": [{\"colorbar\": {\"outlinewidth\": 0, \"ticks\": \"\"}, \"colorscale\": [[0.0, \"#0d0887\"], [0.1111111111111111, \"#46039f\"], [0.2222222222222222, \"#7201a8\"], [0.3333333333333333, \"#9c179e\"], [0.4444444444444444, \"#bd3786\"], [0.5555555555555556, \"#d8576b\"], [0.6666666666666666, \"#ed7953\"], [0.7777777777777778, \"#fb9f3a\"], [0.8888888888888888, \"#fdca26\"], [1.0, \"#f0f921\"]], \"type\": \"contour\"}], \"contourcarpet\": [{\"colorbar\": {\"outlinewidth\": 0, \"ticks\": \"\"}, \"type\": \"contourcarpet\"}], \"heatmap\": [{\"colorbar\": {\"outlinewidth\": 0, \"ticks\": \"\"}, \"colorscale\": [[0.0, \"#0d0887\"], [0.1111111111111111, \"#46039f\"], [0.2222222222222222, \"#7201a8\"], [0.3333333333333333, \"#9c179e\"], [0.4444444444444444, \"#bd3786\"], [0.5555555555555556, \"#d8576b\"], [0.6666666666666666, \"#ed7953\"], [0.7777777777777778, \"#fb9f3a\"], [0.8888888888888888, \"#fdca26\"], [1.0, \"#f0f921\"]], \"type\": \"heatmap\"}], \"heatmapgl\": [{\"colorbar\": {\"outlinewidth\": 0, \"ticks\": \"\"}, \"colorscale\": [[0.0, \"#0d0887\"], [0.1111111111111111, \"#46039f\"], [0.2222222222222222, \"#7201a8\"], [0.3333333333333333, \"#9c179e\"], [0.4444444444444444, \"#bd3786\"], [0.5555555555555556, \"#d8576b\"], [0.6666666666666666, \"#ed7953\"], [0.7777777777777778, \"#fb9f3a\"], [0.8888888888888888, \"#fdca26\"], [1.0, \"#f0f921\"]], \"type\": \"heatmapgl\"}], \"histogram\": [{\"marker\": {\"colorbar\": {\"outlinewidth\": 0, \"ticks\": \"\"}}, \"type\": \"histogram\"}], \"histogram2d\": [{\"colorbar\": {\"outlinewidth\": 0, \"ticks\": \"\"}, \"colorscale\": [[0.0, \"#0d0887\"], [0.1111111111111111, \"#46039f\"], [0.2222222222222222, \"#7201a8\"], [0.3333333333333333, \"#9c179e\"], [0.4444444444444444, \"#bd3786\"], [0.5555555555555556, \"#d8576b\"], [0.6666666666666666, \"#ed7953\"], [0.7777777777777778, \"#fb9f3a\"], [0.8888888888888888, \"#fdca26\"], [1.0, \"#f0f921\"]], \"type\": \"histogram2d\"}], \"histogram2dcontour\": [{\"colorbar\": {\"outlinewidth\": 0, \"ticks\": \"\"}, \"colorscale\": [[0.0, \"#0d0887\"], [0.1111111111111111, \"#46039f\"], [0.2222222222222222, \"#7201a8\"], [0.3333333333333333, \"#9c179e\"], [0.4444444444444444, \"#bd3786\"], [0.5555555555555556, \"#d8576b\"], [0.6666666666666666, \"#ed7953\"], [0.7777777777777778, \"#fb9f3a\"], [0.8888888888888888, \"#fdca26\"], [1.0, \"#f0f921\"]], \"type\": \"histogram2dcontour\"}], \"mesh3d\": [{\"colorbar\": {\"outlinewidth\": 0, \"ticks\": \"\"}, \"type\": \"mesh3d\"}], \"parcoords\": [{\"line\": {\"colorbar\": {\"outlinewidth\": 0, \"ticks\": \"\"}}, \"type\": \"parcoords\"}], \"pie\": [{\"automargin\": true, \"type\": \"pie\"}], \"scatter\": [{\"marker\": {\"colorbar\": {\"outlinewidth\": 0, \"ticks\": \"\"}}, \"type\": \"scatter\"}], \"scatter3d\": [{\"line\": {\"colorbar\": {\"outlinewidth\": 0, \"ticks\": \"\"}}, \"marker\": {\"colorbar\": {\"outlinewidth\": 0, \"ticks\": \"\"}}, \"type\": \"scatter3d\"}], \"scattercarpet\": [{\"marker\": {\"colorbar\": {\"outlinewidth\": 0, \"ticks\": \"\"}}, \"type\": \"scattercarpet\"}], \"scattergeo\": [{\"marker\": {\"colorbar\": {\"outlinewidth\": 0, \"ticks\": \"\"}}, \"type\": \"scattergeo\"}], \"scattergl\": [{\"marker\": {\"colorbar\": {\"outlinewidth\": 0, \"ticks\": \"\"}}, \"type\": \"scattergl\"}], \"scattermapbox\": [{\"marker\": {\"colorbar\": {\"outlinewidth\": 0, \"ticks\": \"\"}}, \"type\": \"scattermapbox\"}], \"scatterpolar\": [{\"marker\": {\"colorbar\": {\"outlinewidth\": 0, \"ticks\": \"\"}}, \"type\": \"scatterpolar\"}], \"scatterpolargl\": [{\"marker\": {\"colorbar\": {\"outlinewidth\": 0, \"ticks\": \"\"}}, \"type\": \"scatterpolargl\"}], \"scatterternary\": [{\"marker\": {\"colorbar\": {\"outlinewidth\": 0, \"ticks\": \"\"}}, \"type\": \"scatterternary\"}], \"surface\": [{\"colorbar\": {\"outlinewidth\": 0, \"ticks\": \"\"}, \"colorscale\": [[0.0, \"#0d0887\"], [0.1111111111111111, \"#46039f\"], [0.2222222222222222, \"#7201a8\"], [0.3333333333333333, \"#9c179e\"], [0.4444444444444444, \"#bd3786\"], [0.5555555555555556, \"#d8576b\"], [0.6666666666666666, \"#ed7953\"], [0.7777777777777778, \"#fb9f3a\"], [0.8888888888888888, \"#fdca26\"], [1.0, \"#f0f921\"]], \"type\": \"surface\"}], \"table\": [{\"cells\": {\"fill\": {\"color\": \"#EBF0F8\"}, \"line\": {\"color\": \"white\"}}, \"header\": {\"fill\": {\"color\": \"#C8D4E3\"}, \"line\": {\"color\": \"white\"}}, \"type\": \"table\"}]}, \"layout\": {\"annotationdefaults\": {\"arrowcolor\": \"#2a3f5f\", \"arrowhead\": 0, \"arrowwidth\": 1}, \"coloraxis\": {\"colorbar\": {\"outlinewidth\": 0, \"ticks\": \"\"}}, \"colorscale\": {\"diverging\": [[0, \"#8e0152\"], [0.1, \"#c51b7d\"], [0.2, \"#de77ae\"], [0.3, \"#f1b6da\"], [0.4, \"#fde0ef\"], [0.5, \"#f7f7f7\"], [0.6, \"#e6f5d0\"], [0.7, \"#b8e186\"], [0.8, \"#7fbc41\"], [0.9, \"#4d9221\"], [1, \"#276419\"]], \"sequential\": [[0.0, \"#0d0887\"], [0.1111111111111111, \"#46039f\"], [0.2222222222222222, \"#7201a8\"], [0.3333333333333333, \"#9c179e\"], [0.4444444444444444, \"#bd3786\"], [0.5555555555555556, \"#d8576b\"], [0.6666666666666666, \"#ed7953\"], [0.7777777777777778, \"#fb9f3a\"], [0.8888888888888888, \"#fdca26\"], [1.0, \"#f0f921\"]], \"sequentialminus\": [[0.0, \"#0d0887\"], [0.1111111111111111, \"#46039f\"], [0.2222222222222222, \"#7201a8\"], [0.3333333333333333, \"#9c179e\"], [0.4444444444444444, \"#bd3786\"], [0.5555555555555556, \"#d8576b\"], [0.6666666666666666, \"#ed7953\"], [0.7777777777777778, \"#fb9f3a\"], [0.8888888888888888, \"#fdca26\"], [1.0, \"#f0f921\"]]}, \"colorway\": [\"#636efa\", \"#EF553B\", \"#00cc96\", \"#ab63fa\", \"#FFA15A\", \"#19d3f3\", \"#FF6692\", \"#B6E880\", \"#FF97FF\", \"#FECB52\"], \"font\": {\"color\": \"#2a3f5f\"}, \"geo\": {\"bgcolor\": \"white\", \"lakecolor\": \"white\", \"landcolor\": \"#E5ECF6\", \"showlakes\": true, \"showland\": true, \"subunitcolor\": \"white\"}, \"hoverlabel\": {\"align\": \"left\"}, \"hovermode\": \"closest\", \"mapbox\": {\"style\": \"light\"}, \"paper_bgcolor\": \"white\", \"plot_bgcolor\": \"#E5ECF6\", \"polar\": {\"angularaxis\": {\"gridcolor\": \"white\", \"linecolor\": \"white\", \"ticks\": \"\"}, \"bgcolor\": \"#E5ECF6\", \"radialaxis\": {\"gridcolor\": \"white\", \"linecolor\": \"white\", \"ticks\": \"\"}}, \"scene\": {\"xaxis\": {\"backgroundcolor\": \"#E5ECF6\", \"gridcolor\": \"white\", \"gridwidth\": 2, \"linecolor\": \"white\", \"showbackground\": true, \"ticks\": \"\", \"zerolinecolor\": \"white\"}, \"yaxis\": {\"backgroundcolor\": \"#E5ECF6\", \"gridcolor\": \"white\", \"gridwidth\": 2, \"linecolor\": \"white\", \"showbackground\": true, \"ticks\": \"\", \"zerolinecolor\": \"white\"}, \"zaxis\": {\"backgroundcolor\": \"#E5ECF6\", \"gridcolor\": \"white\", \"gridwidth\": 2, \"linecolor\": \"white\", \"showbackground\": true, \"ticks\": \"\", \"zerolinecolor\": \"white\"}}, \"shapedefaults\": {\"line\": {\"color\": \"#2a3f5f\"}}, \"ternary\": {\"aaxis\": {\"gridcolor\": \"white\", \"linecolor\": \"white\", \"ticks\": \"\"}, \"baxis\": {\"gridcolor\": \"white\", \"linecolor\": \"white\", \"ticks\": \"\"}, \"bgcolor\": \"#E5ECF6\", \"caxis\": {\"gridcolor\": \"white\", \"linecolor\": \"white\", \"ticks\": \"\"}}, \"title\": {\"x\": 0.05}, \"xaxis\": {\"automargin\": true, \"gridcolor\": \"white\", \"linecolor\": \"white\", \"ticks\": \"\", \"title\": {\"standoff\": 15}, \"zerolinecolor\": \"white\", \"zerolinewidth\": 2}, \"yaxis\": {\"automargin\": true, \"gridcolor\": \"white\", \"linecolor\": \"white\", \"ticks\": \"\", \"title\": {\"standoff\": 15}, \"zerolinecolor\": \"white\", \"zerolinewidth\": 2}}}, \"title\": {\"text\": \"Top Restaurantstop for each cuisine\"}},\n",
              "                        {\"responsive\": true}\n",
              "                    ).then(function(){\n",
              "                            \n",
              "var gd = document.getElementById('f548bd4a-2532-4c6f-89e7-0ba00531a126');\n",
              "var x = new MutationObserver(function (mutations, observer) {{\n",
              "        var display = window.getComputedStyle(gd).display;\n",
              "        if (!display || display === 'none') {{\n",
              "            console.log([gd, 'removed!']);\n",
              "            Plotly.purge(gd);\n",
              "            observer.disconnect();\n",
              "        }}\n",
              "}});\n",
              "\n",
              "// Listen for the removal of the full notebook cells\n",
              "var notebookContainer = gd.closest('#notebook-container');\n",
              "if (notebookContainer) {{\n",
              "    x.observe(notebookContainer, {childList: true});\n",
              "}}\n",
              "\n",
              "// Listen for the clearing of the current output cell\n",
              "var outputEl = gd.closest('.output');\n",
              "if (outputEl) {{\n",
              "    x.observe(outputEl, {childList: true});\n",
              "}}\n",
              "\n",
              "                        })\n",
              "                };\n",
              "                \n",
              "            </script>\n",
              "        </div>\n",
              "</body>\n",
              "</html>"
            ]
          },
          "metadata": {
            "tags": []
          }
        }
      ]
    },
    {
      "cell_type": "markdown",
      "metadata": {
        "id": "AaVlp2yd_uSB",
        "colab_type": "text"
      },
      "source": [
        "We can see most of these popular restaurants are located in Las Vegas, and they are very spread out. \n",
        "\n",
        "There might be two reasons: \n",
        "\n",
        "First, Las Vegas is one of the most popular cities for travelling in America, so it has a lot of Foreign tourists coming in every day. Most foreign tourists tend to choose their home food, which results in the popularity of restaurants that provide foreign cuisines. \n",
        "\n",
        "Second, the population in Las Vegas is relatively large compared to other cities, so the dining market is more competitive, so the possibility that Las Vegas has better restaurants is much higher because of the competition."
      ]
    },
    {
      "cell_type": "markdown",
      "metadata": {
        "colab_type": "text",
        "id": "QY83goElqltD"
      },
      "source": [
        "### d. Operation Recommendation Analysis"
      ]
    },
    {
      "cell_type": "markdown",
      "metadata": {
        "id": "Z6-_NTT5DsGm",
        "colab_type": "text"
      },
      "source": [
        "What is the relation between restaurants opening time and their review stars? We expect that restaurants with opening time during meal time (lunch and dinner) will have higher review stars."
      ]
    },
    {
      "cell_type": "markdown",
      "metadata": {
        "id": "scTMEBTSDxF9",
        "colab_type": "text"
      },
      "source": [
        "To solve this question, we first need to filter out null values of the Monday operating hours. Then extract the Monday opening hour and transform it to date format. Finally, we plot the time series line chart to see the results."
      ]
    },
    {
      "cell_type": "code",
      "metadata": {
        "id": "-M4GicGmq5Qa",
        "colab_type": "code",
        "colab": {}
      },
      "source": [
        "#Filter out null values\n",
        "NV_usr_review_biz_hour=NV_restaurant_usr_review_biz_hours[NV_restaurant_usr_review_biz_hours['monday'].notnull()].reset_index()\n",
        "NV_usr_review_biz_hour=NV_restaurant_usr_review_biz_hours[NV_restaurant_usr_review_biz_hours[\"monday\"] != 'None']"
      ],
      "execution_count": 0,
      "outputs": []
    },
    {
      "cell_type": "code",
      "metadata": {
        "id": "52hcicGVKaKR",
        "colab_type": "code",
        "outputId": "e14d4e1a-f33a-4db5-a7bd-c4f4c2d0f762",
        "colab": {
          "base_uri": "https://localhost:8080/",
          "height": 649
        }
      },
      "source": [
        "NV_usr_review_biz_hour.head()"
      ],
      "execution_count": 0,
      "outputs": [
        {
          "output_type": "execute_result",
          "data": {
            "text/html": [
              "<div>\n",
              "<style scoped>\n",
              "    .dataframe tbody tr th:only-of-type {\n",
              "        vertical-align: middle;\n",
              "    }\n",
              "\n",
              "    .dataframe tbody tr th {\n",
              "        vertical-align: top;\n",
              "    }\n",
              "\n",
              "    .dataframe thead th {\n",
              "        text-align: right;\n",
              "    }\n",
              "</style>\n",
              "<table border=\"1\" class=\"dataframe\">\n",
              "  <thead>\n",
              "    <tr style=\"text-align: right;\">\n",
              "      <th></th>\n",
              "      <th>business_id</th>\n",
              "      <th>name_rvw</th>\n",
              "      <th>neighborhood</th>\n",
              "      <th>address</th>\n",
              "      <th>city</th>\n",
              "      <th>state</th>\n",
              "      <th>postal_code</th>\n",
              "      <th>latitude</th>\n",
              "      <th>longitude</th>\n",
              "      <th>stars_biz</th>\n",
              "      <th>review_count_rvw</th>\n",
              "      <th>is_open</th>\n",
              "      <th>categories</th>\n",
              "      <th>review_id</th>\n",
              "      <th>user_id</th>\n",
              "      <th>stars_rvw</th>\n",
              "      <th>date</th>\n",
              "      <th>text</th>\n",
              "      <th>useful_rvw</th>\n",
              "      <th>funny_rvw</th>\n",
              "      <th>cool_rvw</th>\n",
              "      <th>name_usr</th>\n",
              "      <th>review_count_usr</th>\n",
              "      <th>yelping_since</th>\n",
              "      <th>friends</th>\n",
              "      <th>useful_usr</th>\n",
              "      <th>funny_usr</th>\n",
              "      <th>cool_usr</th>\n",
              "      <th>fans</th>\n",
              "      <th>elite</th>\n",
              "      <th>average_stars</th>\n",
              "      <th>compliment_hot</th>\n",
              "      <th>compliment_more</th>\n",
              "      <th>compliment_profile</th>\n",
              "      <th>compliment_cute</th>\n",
              "      <th>compliment_list</th>\n",
              "      <th>compliment_note</th>\n",
              "      <th>compliment_plain</th>\n",
              "      <th>compliment_cool</th>\n",
              "      <th>compliment_funny</th>\n",
              "      <th>compliment_writer</th>\n",
              "      <th>compliment_photos</th>\n",
              "      <th>monday</th>\n",
              "      <th>tuesday</th>\n",
              "      <th>wednesday</th>\n",
              "      <th>thursday</th>\n",
              "      <th>friday</th>\n",
              "      <th>saturday</th>\n",
              "      <th>sunday</th>\n",
              "    </tr>\n",
              "  </thead>\n",
              "  <tbody>\n",
              "    <tr>\n",
              "      <th>305</th>\n",
              "      <td>Pd52CjgyEU3Rb8co6QfTPw</td>\n",
              "      <td>\"Flight Deck Bar &amp; Grill\"</td>\n",
              "      <td>Southeast</td>\n",
              "      <td>\"6730 S Las Vegas Blvd\"</td>\n",
              "      <td>Las Vegas</td>\n",
              "      <td>NV</td>\n",
              "      <td>89119</td>\n",
              "      <td>36.066914</td>\n",
              "      <td>-115.170848</td>\n",
              "      <td>4.0</td>\n",
              "      <td>13.0</td>\n",
              "      <td>1.0</td>\n",
              "      <td>Nightlife;Bars;Barbeque;Sports Bars;American (...</td>\n",
              "      <td>aG4aEOW86hut943oqL_DOg</td>\n",
              "      <td>9kV4tmBcE-l5tJqzgKjZRA</td>\n",
              "      <td>4.0</td>\n",
              "      <td>2017-03-27</td>\n",
              "      <td>Nice, open bar with great views of the strip a...</td>\n",
              "      <td>0</td>\n",
              "      <td>0</td>\n",
              "      <td>1</td>\n",
              "      <td>Lenore</td>\n",
              "      <td>20.0</td>\n",
              "      <td>2010-09-17</td>\n",
              "      <td>ucAN8VJoiA-_ysMCgZev1w</td>\n",
              "      <td>2.0</td>\n",
              "      <td>1.0</td>\n",
              "      <td>1.0</td>\n",
              "      <td>0.0</td>\n",
              "      <td>None</td>\n",
              "      <td>3.00</td>\n",
              "      <td>0.0</td>\n",
              "      <td>0.0</td>\n",
              "      <td>0.0</td>\n",
              "      <td>0.0</td>\n",
              "      <td>0.0</td>\n",
              "      <td>0.0</td>\n",
              "      <td>2.0</td>\n",
              "      <td>1.0</td>\n",
              "      <td>1.0</td>\n",
              "      <td>0.0</td>\n",
              "      <td>0.0</td>\n",
              "      <td>8:30-22:30</td>\n",
              "      <td>8:30-22:30</td>\n",
              "      <td>8:30-22:30</td>\n",
              "      <td>8:30-22:30</td>\n",
              "      <td>8:30-22:30</td>\n",
              "      <td>8:30-22:30</td>\n",
              "      <td>8:30-22:30</td>\n",
              "    </tr>\n",
              "    <tr>\n",
              "      <th>306</th>\n",
              "      <td>Pd52CjgyEU3Rb8co6QfTPw</td>\n",
              "      <td>\"Flight Deck Bar &amp; Grill\"</td>\n",
              "      <td>Southeast</td>\n",
              "      <td>\"6730 S Las Vegas Blvd\"</td>\n",
              "      <td>Las Vegas</td>\n",
              "      <td>NV</td>\n",
              "      <td>89119</td>\n",
              "      <td>36.066914</td>\n",
              "      <td>-115.170848</td>\n",
              "      <td>4.0</td>\n",
              "      <td>13.0</td>\n",
              "      <td>1.0</td>\n",
              "      <td>Nightlife;Bars;Barbeque;Sports Bars;American (...</td>\n",
              "      <td>fQpivmd02GA4eZJRZGgDQQ</td>\n",
              "      <td>i7Z7iiDSbWq-npAYHQUeew</td>\n",
              "      <td>5.0</td>\n",
              "      <td>2016-08-27</td>\n",
              "      <td>We usually stop here after using the driving r...</td>\n",
              "      <td>0</td>\n",
              "      <td>0</td>\n",
              "      <td>0</td>\n",
              "      <td>Neil</td>\n",
              "      <td>3.0</td>\n",
              "      <td>2015-05-21</td>\n",
              "      <td>None</td>\n",
              "      <td>0.0</td>\n",
              "      <td>0.0</td>\n",
              "      <td>0.0</td>\n",
              "      <td>0.0</td>\n",
              "      <td>None</td>\n",
              "      <td>3.67</td>\n",
              "      <td>0.0</td>\n",
              "      <td>0.0</td>\n",
              "      <td>0.0</td>\n",
              "      <td>0.0</td>\n",
              "      <td>0.0</td>\n",
              "      <td>0.0</td>\n",
              "      <td>0.0</td>\n",
              "      <td>0.0</td>\n",
              "      <td>0.0</td>\n",
              "      <td>0.0</td>\n",
              "      <td>0.0</td>\n",
              "      <td>8:30-22:30</td>\n",
              "      <td>8:30-22:30</td>\n",
              "      <td>8:30-22:30</td>\n",
              "      <td>8:30-22:30</td>\n",
              "      <td>8:30-22:30</td>\n",
              "      <td>8:30-22:30</td>\n",
              "      <td>8:30-22:30</td>\n",
              "    </tr>\n",
              "    <tr>\n",
              "      <th>307</th>\n",
              "      <td>Pd52CjgyEU3Rb8co6QfTPw</td>\n",
              "      <td>\"Flight Deck Bar &amp; Grill\"</td>\n",
              "      <td>Southeast</td>\n",
              "      <td>\"6730 S Las Vegas Blvd\"</td>\n",
              "      <td>Las Vegas</td>\n",
              "      <td>NV</td>\n",
              "      <td>89119</td>\n",
              "      <td>36.066914</td>\n",
              "      <td>-115.170848</td>\n",
              "      <td>4.0</td>\n",
              "      <td>13.0</td>\n",
              "      <td>1.0</td>\n",
              "      <td>Nightlife;Bars;Barbeque;Sports Bars;American (...</td>\n",
              "      <td>3recIhisA9vC4wnQOMCj7g</td>\n",
              "      <td>7Iga45IMB_VKyPZnbhSE2w</td>\n",
              "      <td>1.0</td>\n",
              "      <td>2016-01-09</td>\n",
              "      <td>The first time we ate here everything was good...</td>\n",
              "      <td>1</td>\n",
              "      <td>1</td>\n",
              "      <td>0</td>\n",
              "      <td>Christina</td>\n",
              "      <td>4.0</td>\n",
              "      <td>2013-12-13</td>\n",
              "      <td>AxgDcQmNZal6QtlvgZDtrA, oKyFY5g_xQQKcid6g1BYig</td>\n",
              "      <td>0.0</td>\n",
              "      <td>0.0</td>\n",
              "      <td>0.0</td>\n",
              "      <td>0.0</td>\n",
              "      <td>None</td>\n",
              "      <td>4.00</td>\n",
              "      <td>0.0</td>\n",
              "      <td>0.0</td>\n",
              "      <td>0.0</td>\n",
              "      <td>0.0</td>\n",
              "      <td>0.0</td>\n",
              "      <td>0.0</td>\n",
              "      <td>0.0</td>\n",
              "      <td>0.0</td>\n",
              "      <td>0.0</td>\n",
              "      <td>0.0</td>\n",
              "      <td>0.0</td>\n",
              "      <td>8:30-22:30</td>\n",
              "      <td>8:30-22:30</td>\n",
              "      <td>8:30-22:30</td>\n",
              "      <td>8:30-22:30</td>\n",
              "      <td>8:30-22:30</td>\n",
              "      <td>8:30-22:30</td>\n",
              "      <td>8:30-22:30</td>\n",
              "    </tr>\n",
              "    <tr>\n",
              "      <th>308</th>\n",
              "      <td>Pd52CjgyEU3Rb8co6QfTPw</td>\n",
              "      <td>\"Flight Deck Bar &amp; Grill\"</td>\n",
              "      <td>Southeast</td>\n",
              "      <td>\"6730 S Las Vegas Blvd\"</td>\n",
              "      <td>Las Vegas</td>\n",
              "      <td>NV</td>\n",
              "      <td>89119</td>\n",
              "      <td>36.066914</td>\n",
              "      <td>-115.170848</td>\n",
              "      <td>4.0</td>\n",
              "      <td>13.0</td>\n",
              "      <td>1.0</td>\n",
              "      <td>Nightlife;Bars;Barbeque;Sports Bars;American (...</td>\n",
              "      <td>18i3YtCuEGMxYSS7fQdR8Q</td>\n",
              "      <td>IvBzaJeCcuChLuKGq3xhxA</td>\n",
              "      <td>2.0</td>\n",
              "      <td>2016-08-22</td>\n",
              "      <td>So I took my daughter there for breakfast and ...</td>\n",
              "      <td>1</td>\n",
              "      <td>0</td>\n",
              "      <td>0</td>\n",
              "      <td>Sean</td>\n",
              "      <td>9.0</td>\n",
              "      <td>2013-07-22</td>\n",
              "      <td>hmGjr-xUW1IDK_m3ZT9aCg</td>\n",
              "      <td>20.0</td>\n",
              "      <td>0.0</td>\n",
              "      <td>2.0</td>\n",
              "      <td>1.0</td>\n",
              "      <td>None</td>\n",
              "      <td>4.00</td>\n",
              "      <td>0.0</td>\n",
              "      <td>0.0</td>\n",
              "      <td>0.0</td>\n",
              "      <td>0.0</td>\n",
              "      <td>0.0</td>\n",
              "      <td>0.0</td>\n",
              "      <td>0.0</td>\n",
              "      <td>0.0</td>\n",
              "      <td>0.0</td>\n",
              "      <td>1.0</td>\n",
              "      <td>0.0</td>\n",
              "      <td>8:30-22:30</td>\n",
              "      <td>8:30-22:30</td>\n",
              "      <td>8:30-22:30</td>\n",
              "      <td>8:30-22:30</td>\n",
              "      <td>8:30-22:30</td>\n",
              "      <td>8:30-22:30</td>\n",
              "      <td>8:30-22:30</td>\n",
              "    </tr>\n",
              "    <tr>\n",
              "      <th>309</th>\n",
              "      <td>Pd52CjgyEU3Rb8co6QfTPw</td>\n",
              "      <td>\"Flight Deck Bar &amp; Grill\"</td>\n",
              "      <td>Southeast</td>\n",
              "      <td>\"6730 S Las Vegas Blvd\"</td>\n",
              "      <td>Las Vegas</td>\n",
              "      <td>NV</td>\n",
              "      <td>89119</td>\n",
              "      <td>36.066914</td>\n",
              "      <td>-115.170848</td>\n",
              "      <td>4.0</td>\n",
              "      <td>13.0</td>\n",
              "      <td>1.0</td>\n",
              "      <td>Nightlife;Bars;Barbeque;Sports Bars;American (...</td>\n",
              "      <td>brbrSd8nHkAEoN56ADEl9A</td>\n",
              "      <td>nIV1-sMoRFrnEtO1TUfLZQ</td>\n",
              "      <td>1.0</td>\n",
              "      <td>2015-10-28</td>\n",
              "      <td>This restaurant has a new name it used to be c...</td>\n",
              "      <td>1</td>\n",
              "      <td>0</td>\n",
              "      <td>0</td>\n",
              "      <td>Mike</td>\n",
              "      <td>13.0</td>\n",
              "      <td>2015-10-28</td>\n",
              "      <td>None</td>\n",
              "      <td>6.0</td>\n",
              "      <td>0.0</td>\n",
              "      <td>0.0</td>\n",
              "      <td>0.0</td>\n",
              "      <td>None</td>\n",
              "      <td>3.54</td>\n",
              "      <td>0.0</td>\n",
              "      <td>0.0</td>\n",
              "      <td>0.0</td>\n",
              "      <td>0.0</td>\n",
              "      <td>0.0</td>\n",
              "      <td>0.0</td>\n",
              "      <td>0.0</td>\n",
              "      <td>0.0</td>\n",
              "      <td>0.0</td>\n",
              "      <td>0.0</td>\n",
              "      <td>0.0</td>\n",
              "      <td>8:30-22:30</td>\n",
              "      <td>8:30-22:30</td>\n",
              "      <td>8:30-22:30</td>\n",
              "      <td>8:30-22:30</td>\n",
              "      <td>8:30-22:30</td>\n",
              "      <td>8:30-22:30</td>\n",
              "      <td>8:30-22:30</td>\n",
              "    </tr>\n",
              "  </tbody>\n",
              "</table>\n",
              "</div>"
            ],
            "text/plain": [
              "                business_id                   name_rvw  ...    saturday      sunday\n",
              "305  Pd52CjgyEU3Rb8co6QfTPw  \"Flight Deck Bar & Grill\"  ...  8:30-22:30  8:30-22:30\n",
              "306  Pd52CjgyEU3Rb8co6QfTPw  \"Flight Deck Bar & Grill\"  ...  8:30-22:30  8:30-22:30\n",
              "307  Pd52CjgyEU3Rb8co6QfTPw  \"Flight Deck Bar & Grill\"  ...  8:30-22:30  8:30-22:30\n",
              "308  Pd52CjgyEU3Rb8co6QfTPw  \"Flight Deck Bar & Grill\"  ...  8:30-22:30  8:30-22:30\n",
              "309  Pd52CjgyEU3Rb8co6QfTPw  \"Flight Deck Bar & Grill\"  ...  8:30-22:30  8:30-22:30\n",
              "\n",
              "[5 rows x 49 columns]"
            ]
          },
          "metadata": {
            "tags": []
          },
          "execution_count": 104
        }
      ]
    },
    {
      "cell_type": "code",
      "metadata": {
        "id": "i6rQiGvGq78z",
        "colab_type": "code",
        "outputId": "b3b659f8-04ed-429d-9763-ae66eeb26817",
        "colab": {
          "base_uri": "https://localhost:8080/",
          "height": 317
        }
      },
      "source": [
        "\n",
        "#Extract Monday open hour \n",
        "NV_usr_review_biz_hour.loc[:,'Monday_open_hour']=NV_usr_review_biz_hour['monday'].astype(str).str.split('-').str[0]\n",
        "\n",
        "#Convert it to datetime type\n",
        "NV_usr_review_biz_hour.loc[:,'Monday_open_hour']=NV_usr_review_biz_hour['Monday_open_hour'].map(lambda i: datetime.strptime(i,'%H:%M'))\n",
        "NV_usr_review_biz_hour.loc[:,'Monday_open_hour']=NV_usr_review_biz_hour['Monday_open_hour'].map(lambda t: dt.datetime(year=2020, month=3, day=31, hour=t.hour, minute=t.minute))"
      ],
      "execution_count": 0,
      "outputs": [
        {
          "output_type": "stream",
          "text": [
            "/usr/local/lib/python3.6/dist-packages/pandas/core/indexing.py:845: SettingWithCopyWarning:\n",
            "\n",
            "\n",
            "A value is trying to be set on a copy of a slice from a DataFrame.\n",
            "Try using .loc[row_indexer,col_indexer] = value instead\n",
            "\n",
            "See the caveats in the documentation: https://pandas.pydata.org/pandas-docs/stable/user_guide/indexing.html#returning-a-view-versus-a-copy\n",
            "\n",
            "/usr/local/lib/python3.6/dist-packages/pandas/core/indexing.py:966: SettingWithCopyWarning:\n",
            "\n",
            "\n",
            "A value is trying to be set on a copy of a slice from a DataFrame.\n",
            "Try using .loc[row_indexer,col_indexer] = value instead\n",
            "\n",
            "See the caveats in the documentation: https://pandas.pydata.org/pandas-docs/stable/user_guide/indexing.html#returning-a-view-versus-a-copy\n",
            "\n"
          ],
          "name": "stderr"
        }
      ]
    },
    {
      "cell_type": "code",
      "metadata": {
        "id": "rdt3ZgQ3rSSJ",
        "colab_type": "code",
        "colab": {}
      },
      "source": [
        "NV_usr_review_biz_hour.set_index('Monday_open_hour',inplace=True)"
      ],
      "execution_count": 0,
      "outputs": []
    },
    {
      "cell_type": "code",
      "metadata": {
        "id": "U6araJSXrV72",
        "colab_type": "code",
        "outputId": "2f1c9a71-5bb4-4078-e1da-382330596be8",
        "colab": {
          "base_uri": "https://localhost:8080/",
          "height": 308
        }
      },
      "source": [
        "#Plot the open time versus stars\n",
        "NV_usr_review_biz_hour['average_stars'].resample('1H').mean().plot()\n",
        "plt.xlabel ('Monday Open Time')\n",
        "plt.ylabel ('Stars')"
      ],
      "execution_count": 0,
      "outputs": [
        {
          "output_type": "execute_result",
          "data": {
            "text/plain": [
              "Text(0, 0.5, 'Stars')"
            ]
          },
          "metadata": {
            "tags": []
          },
          "execution_count": 130
        },
        {
          "output_type": "display_data",
          "data": {
            "image/png": "[encoded data removed]",
            "text/plain": [
              "<Figure size 432x288 with 1 Axes>"
            ]
          },
          "metadata": {
            "tags": [],
            "needs_background": "light"
          }
        }
      ]
    },
    {
      "cell_type": "markdown",
      "metadata": {
        "id": "qIIr8rAwAbsz",
        "colab_type": "text"
      },
      "source": [
        "From this graph, we know that the relationship between average stars and restaurant open time fluctuates throughout the day. Generally speaking, the average star rating is lower when the restaurant opens at night after 8pm and higher when it opens at lunch time (around 12pm) or dinner time (around 6pm). There might be several reasons for this trend. \n",
        "First, the quality of the food may be higher at lunch time or dinner time, as they are mostly fresh made. While at late night, the ingredients may not be fresh.\n",
        "Second, the atmosphere of the restaurants might be better during lunch time or dinner time, as some restaurants offer special services such as live music during those times. \n",
        "Third, customers tend to get drunk at late night, so they may not have an accurate opinion about the restaurants.\n",
        "Fourth, at lunch or dinner time, people tend to be hungry and easy to be satisfied, so they are more generous to give higher stars."
      ]
    },
    {
      "cell_type": "markdown",
      "metadata": {
        "id": "-pFHP13jJYsX",
        "colab_type": "text"
      },
      "source": [
        "### e. Sentiment Analysis\n",
        "\n"
      ]
    },
    {
      "cell_type": "markdown",
      "metadata": {
        "id": "Q81mI_hN0sRY",
        "colab_type": "text"
      },
      "source": [
        "Are the customer ratings in line with their text reviews? i.e. Do customers contradict themselves when they rate the restaurant overall from 1-5 and when they write a text review? We expect that most customer ratings are in line with their text reviews. To accomplish this, we will introduce a new numerical variable called “sentiment”, which is calculated by the positive and negative words found in review text.\n"
      ]
    },
    {
      "cell_type": "code",
      "metadata": {
        "id": "a3_ejgUzauxY",
        "colab_type": "code",
        "outputId": "5a59492d-7343-451b-833f-06d07d667150",
        "colab": {
          "base_uri": "https://localhost:8080/",
          "height": 227
        }
      },
      "source": [
        "# take a look at review text\n",
        "NV_restaurant_usr_review_biz_hours['text']"
      ],
      "execution_count": 0,
      "outputs": [
        {
          "output_type": "execute_result",
          "data": {
            "text/plain": [
              "305        Nice, open bar with great views of the strip a...\n",
              "306        We usually stop here after using the driving r...\n",
              "307        The first time we ate here everything was good...\n",
              "308        So I took my daughter there for breakfast and ...\n",
              "309        This restaurant has a new name it used to be c...\n",
              "                                 ...                        \n",
              "1824394    Worst Starbucks ever! There's always something...\n",
              "1824395    This Starbucks location isn't much different t...\n",
              "1824396    Waited over fifteen minuets for my order ! My ...\n",
              "1824397    I love this Starbucks. The staff is very frien...\n",
              "1824398    This is my usual Starbucks that I stop at usua...\n",
              "Name: text, Length: 1185998, dtype: object"
            ]
          },
          "metadata": {
            "tags": []
          },
          "execution_count": 131
        }
      ]
    },
    {
      "cell_type": "code",
      "metadata": {
        "id": "lwGpWUqm1uSO",
        "colab_type": "code",
        "colab": {}
      },
      "source": [
        "# Apply sentiment analysis on each of the review text, should return average sentiment score with a range of -1 to 1\n",
        "NV_restaurant_usr_review_biz_hours.loc[:, \"sentiment\"] = NV_restaurant_usr_review_biz_hours['text'].apply(lambda x: TextBlob(x).sentiment[0])\n"
      ],
      "execution_count": 0,
      "outputs": []
    },
    {
      "cell_type": "code",
      "metadata": {
        "id": "ag0zpclwPuAk",
        "colab_type": "code",
        "colab": {}
      },
      "source": [
        "# Save the output for fast read next time\n",
        "NV_restaurant_usr_review_biz_hours.to_csv(proj_data_dir+\"Nevada_restaurant_user_review_business_hour.csv\", index=False)"
      ],
      "execution_count": 0,
      "outputs": []
    },
    {
      "cell_type": "code",
      "metadata": {
        "id": "PI8jDv_rPw5Q",
        "colab_type": "code",
        "outputId": "f9044230-fb33-45f7-924e-78aaf2c7db7d",
        "colab": {
          "base_uri": "https://localhost:8080/",
          "height": 87
        }
      },
      "source": [
        "NV_restaurant_usr_review_biz_hours=pd.read_csv(proj_data_dir+\"Nevada_restaurant_user_review_business_hour.csv\")"
      ],
      "execution_count": 0,
      "outputs": [
        {
          "output_type": "stream",
          "text": [
            "/usr/local/lib/python3.6/dist-packages/IPython/core/interactiveshell.py:2718: DtypeWarning:\n",
            "\n",
            "Columns (6,7,25,26,27,28,30,31) have mixed types.Specify dtype option on import or set low_memory=False.\n",
            "\n"
          ],
          "name": "stderr"
        }
      ]
    },
    {
      "cell_type": "code",
      "metadata": {
        "id": "Ug91Dd2GJjao",
        "colab_type": "code",
        "outputId": "9922a685-2e8d-420e-fc62-8844145511d4",
        "colab": {
          "base_uri": "https://localhost:8080/",
          "height": 52
        }
      },
      "source": [
        "# Set static variables of the model\n",
        "TRUNCATE_TYPE ='post'\n",
        "PADDING_TYPE = 'post'\n",
        "OOV_TOKEN = \"<OOV>\"\n",
        "PADDING_LEN = 80\n",
        "VOCAB_SIZE = 100000\n",
        "stopword = stopwords.words('english')"
      ],
      "execution_count": 0,
      "outputs": [
        {
          "output_type": "stream",
          "text": [
            "[nltk_data] Downloading package stopwords to /root/nltk_data...\n",
            "[nltk_data]   Unzipping corpora/stopwords.zip.\n"
          ],
          "name": "stdout"
        }
      ]
    },
    {
      "cell_type": "code",
      "metadata": {
        "id": "SaxF0yM2LPeQ",
        "colab_type": "code",
        "outputId": "ae1d8061-e4be-40a0-ebec-0fa7b387f15b",
        "colab": {
          "base_uri": "https://localhost:8080/",
          "height": 202
        }
      },
      "source": [
        "# Extract train data and labels\n",
        "NV_restaurant_usr_review_biz_hours = pd.read_csv(proj_data_dir+\"Nevada_restaurant_user_review_business_hour.csv\")\n",
        "rvw_y = NV_restaurant_usr_review_biz_hours['stars_rvw']\n",
        "rvw_X = NV_restaurant_usr_review_biz_hours[\"text\"]"
      ],
      "execution_count": 0,
      "outputs": [
        {
          "output_type": "error",
          "ename": "NameError",
          "evalue": "ignored",
          "traceback": [
            "\u001b[0;31m---------------------------------------------------------------------------\u001b[0m",
            "\u001b[0;31mNameError\u001b[0m                                 Traceback (most recent call last)",
            "\u001b[0;32m<ipython-input-2-67cdeb78e018>\u001b[0m in \u001b[0;36m<module>\u001b[0;34m()\u001b[0m\n\u001b[0;32m----> 1\u001b[0;31m \u001b[0mNV_restaurant_usr_review_biz_hours\u001b[0m \u001b[0;34m=\u001b[0m \u001b[0mpd\u001b[0m\u001b[0;34m.\u001b[0m\u001b[0mread_csv\u001b[0m\u001b[0;34m(\u001b[0m\u001b[0mproj_data_dir\u001b[0m\u001b[0;34m+\u001b[0m\u001b[0;34m\"Nevada_restaurant_user_review_business_hour.csv\"\u001b[0m\u001b[0;34m)\u001b[0m\u001b[0;34m\u001b[0m\u001b[0;34m\u001b[0m\u001b[0m\n\u001b[0m\u001b[1;32m      2\u001b[0m \u001b[0mrvw_y\u001b[0m \u001b[0;34m=\u001b[0m \u001b[0mNV_restaurant_usr_review_biz_hours\u001b[0m\u001b[0;34m[\u001b[0m\u001b[0;34m'stars_rvw'\u001b[0m\u001b[0;34m]\u001b[0m\u001b[0;34m\u001b[0m\u001b[0;34m\u001b[0m\u001b[0m\n\u001b[1;32m      3\u001b[0m \u001b[0mrvw_X\u001b[0m \u001b[0;34m=\u001b[0m \u001b[0mNV_restaurant_usr_review_biz_hours\u001b[0m\u001b[0;34m[\u001b[0m\u001b[0;34m\"text\"\u001b[0m\u001b[0;34m]\u001b[0m\u001b[0;34m\u001b[0m\u001b[0;34m\u001b[0m\u001b[0m\n",
            "\u001b[0;31mNameError\u001b[0m: name 'pd' is not defined"
          ]
        }
      ]
    },
    {
      "cell_type": "code",
      "metadata": {
        "id": "dC5qBAKAjKr2",
        "colab_type": "code",
        "outputId": "120e11d1-e925-4d09-acd1-c7ab2362a0a1",
        "colab": {
          "base_uri": "https://localhost:8080/",
          "height": 202
        }
      },
      "source": [
        "# Create a function to remove stopword\n",
        "def remove_stopword(row: str) -> str:\n",
        "  for word in stopword:\n",
        "    token = \" \" + word + \" \"\n",
        "    row = row.replace(token, \" \")\n",
        "\n",
        "  return row\n",
        "\n",
        "rvw_X = rvw_X.apply(remove_stopword)"
      ],
      "execution_count": 0,
      "outputs": [
        {
          "output_type": "error",
          "ename": "NameError",
          "evalue": "ignored",
          "traceback": [
            "\u001b[0;31m---------------------------------------------------------------------------\u001b[0m",
            "\u001b[0;31mNameError\u001b[0m                                 Traceback (most recent call last)",
            "\u001b[0;32m<ipython-input-1-db24059241d4>\u001b[0m in \u001b[0;36m<module>\u001b[0;34m()\u001b[0m\n\u001b[1;32m      7\u001b[0m \u001b[0;34m\u001b[0m\u001b[0m\n\u001b[1;32m      8\u001b[0m \u001b[0;34m\u001b[0m\u001b[0m\n\u001b[0;32m----> 9\u001b[0;31m \u001b[0mrvw_X\u001b[0m \u001b[0;34m=\u001b[0m \u001b[0mrvw_X\u001b[0m\u001b[0;34m.\u001b[0m\u001b[0mapply\u001b[0m\u001b[0;34m(\u001b[0m\u001b[0mremove_stopword\u001b[0m\u001b[0;34m)\u001b[0m\u001b[0;34m\u001b[0m\u001b[0;34m\u001b[0m\u001b[0m\n\u001b[0m",
            "\u001b[0;31mNameError\u001b[0m: name 'rvw_X' is not defined"
          ]
        }
      ]
    },
    {
      "cell_type": "markdown",
      "metadata": {
        "id": "yfFWqHDAnyba",
        "colab_type": "text"
      },
      "source": [
        "> Tensorflow Tokenizer removes punctuation, lower strings and tokenize strings internally.\n"
      ]
    },
    {
      "cell_type": "code",
      "metadata": {
        "id": "qnJlRaM9LPYv",
        "colab_type": "code",
        "colab": {}
      },
      "source": [
        "# Create a tokenizer object\n",
        "rvw_tokenizer = Tokenizer(num_words=VOCAB_SIZE, oov_token=OOV_TOKEN)\n",
        "\n",
        "# Fit on training text data\n",
        "rvw_tokenizer.fit_on_texts(rvw_X)"
      ],
      "execution_count": 0,
      "outputs": []
    },
    {
      "cell_type": "code",
      "metadata": {
        "id": "tCreaEf1owTJ",
        "colab_type": "code",
        "colab": {}
      },
      "source": [
        "# Transform text to padded sequences\n",
        "rvw_sequences = rvw_tokenizer.texts_to_sequences(rvw_X)\n",
        "rvw_padded_X = pad_sequences(rvw_sequences, padding=PADDING_TYPE, truncating=TRUNCATE_TYPE, maxlen=PADDING_LEN)\n",
        "\n",
        "# to_categorical expect categories that ranges from 0 to num_classes\n",
        "y = y = to_categorical(rvw_y - 1., num_classes=5)\n",
        "\n",
        "# Train and test split\n",
        "train_X, test_X, train_y, test_y = train_test_split(rvw_padded_X, y, test_size=0.33)"
      ],
      "execution_count": 0,
      "outputs": []
    },
    {
      "cell_type": "code",
      "metadata": {
        "id": "MPSHH2MCxtqq",
        "colab_type": "code",
        "colab": {}
      },
      "source": [
        "# Build the model\n",
        "model = tf.keras.Sequential([\n",
        "    Embedding(VOCAB_SIZE+1, 128, input_length=PADDING_LEN),\n",
        "    Dropout(0.2),\n",
        "    Conv1D(filters=48, kernel_size=4, activation=PReLU()),\n",
        "    MaxPooling1D(3),\n",
        "    Bidirectional(LSTM(128)),\n",
        "    Dense(64, activation=PReLU()),\n",
        "    Dense(5, activation='softmax')\n",
        "])"
      ],
      "execution_count": 0,
      "outputs": []
    },
    {
      "cell_type": "code",
      "metadata": {
        "id": "ZqSYhSxRowM5",
        "colab_type": "code",
        "colab": {}
      },
      "source": [
        "# Compile and train the model\n",
        "model.compile(loss='categorical_crossentropy', optimizer='adam', metrics=['accuracy'])\n",
        "model.summary()\n",
        "\n",
        "history = model.fit(x=train_X, y=train_y, epochs=2, batch_size=90, validation_split=0.2, verbose=1)"
      ],
      "execution_count": 0,
      "outputs": []
    },
    {
      "cell_type": "code",
      "metadata": {
        "id": "vEipyCrGwRYD",
        "colab_type": "code",
        "colab": {}
      },
      "source": [
        "#-----------------------------------------------------------\n",
        "# Retrieve a list of list results on training and test data\n",
        "# sets for each training epoch\n",
        "#-----------------------------------------------------------\n",
        "acc=history.history['accuracy']\n",
        "val_acc=history.history['val_accuracy']\n",
        "loss=history.history['loss']\n",
        "val_loss=history.history['val_loss']\n",
        "\n",
        "epochs=range(len(acc)) # Get number of epochs\n",
        "\n",
        "#------------------------------------------------\n",
        "# Plot training and validation accuracy per epoch\n",
        "#------------------------------------------------\n",
        "plt.plot(epochs, acc, 'r')\n",
        "plt.plot(epochs, val_acc, 'b')\n",
        "plt.title('Training and validation accuracy')\n",
        "plt.xlabel(\"Epochs\")\n",
        "plt.ylabel(\"Accuracy\")\n",
        "plt.legend([\"Accuracy\", \"Validation Accuracy\"])\n",
        "\n",
        "plt.figure()\n",
        "\n",
        "#------------------------------------------------\n",
        "# Plot training and validation loss per epoch\n",
        "#------------------------------------------------\n",
        "plt.plot(epochs, loss, 'r')\n",
        "plt.plot(epochs, val_loss, 'b')\n",
        "plt.title('Training and validation loss')\n",
        "plt.xlabel(\"Epochs\")\n",
        "plt.ylabel(\"Loss\")\n",
        "plt.legend([\"Loss\", \"Validation Loss\"])\n",
        "\n",
        "plt.figure()"
      ],
      "execution_count": 0,
      "outputs": []
    },
    {
      "cell_type": "code",
      "metadata": {
        "id": "7CsfGTAm65yz",
        "colab_type": "code",
        "colab": {}
      },
      "source": [
        "# Predict test data\n",
        "predict_y = model.predict(test_X)\n",
        "predict_y_category = np.asarray([x.argmax() + 1. for x in predict_y])\n",
        "test_y_category = np.asarray([x.argmax() + 1. for x in test_y])"
      ],
      "execution_count": 0,
      "outputs": []
    },
    {
      "cell_type": "code",
      "metadata": {
        "id": "5jJAV2UO7X-c",
        "colab_type": "code",
        "colab": {}
      },
      "source": [
        "# View the accuracy\n",
        "acc = sum(np.equal(predict_y_category, test_y_category)) / len(predict_y_category)\n",
        "print(f\"Rating Accuracy for Test Data: {acc:.2%}\")"
      ],
      "execution_count": 0,
      "outputs": []
    },
    {
      "cell_type": "markdown",
      "metadata": {
        "id": "iSutlAPVS_sk",
        "colab_type": "text"
      },
      "source": [
        "From our accuracy of xxxx, the customer ratings are mostly in line with their text reviews, but still some customers contradict themselves when they rate the restaurant overall from 1-5 and when they write reviews. "
      ]
    },
    {
      "cell_type": "markdown",
      "metadata": {
        "id": "rVjEnZDao-j6",
        "colab_type": "text"
      },
      "source": [
        " ### f. Review Analysis\n",
        "What are some keywords that might correlate with a bad review? What common topics did customers talk about when they also give the restaurant a very high star rating? We would like to know if there is a difference in the types of keywords customers mention in their reviews when they rank the restaurant with 5 stars compared to 1 star. \n",
        "\n"
      ]
    },
    {
      "cell_type": "markdown",
      "metadata": {
        "id": "_sHzFYL6PSK7",
        "colab_type": "text"
      },
      "source": [
        "First, we remove non-restaurant review instances from the dataframe containing restaurant star rating and table containing restaurant reviews."
      ]
    },
    {
      "cell_type": "code",
      "metadata": {
        "id": "Jts5DjX5qtnC",
        "colab_type": "code",
        "colab": {}
      },
      "source": [
        "# find businesses that are food services( restaurants of bars)\n",
        "bool_ls_justrestaurant = NV_review_biz.categories.str.contains(\"|\".join(restaurant_category), regex=True, na=False)\n",
        "# reviews and restaurant data of restaurants and bars in Nevada\n",
        "NV_review_res = NV_review_biz[bool_ls_justrestaurant]\n",
        "NV_review_res.head()"
      ],
      "execution_count": 0,
      "outputs": []
    },
    {
      "cell_type": "code",
      "metadata": {
        "id": "VKCgddKTTAWS",
        "colab_type": "code",
        "colab": {}
      },
      "source": [
        "NV_review_res.shape\n",
        "#NV_review_res.sample(n = )\n",
        "# pd.DataFrame.sample(NV_review_res, )"
      ],
      "execution_count": 0,
      "outputs": []
    },
    {
      "cell_type": "code",
      "metadata": {
        "id": "0enKP01RpBtJ",
        "colab_type": "code",
        "colab": {}
      },
      "source": [
        "# get the length of reviews from shortest to longest\n",
        "NV_review_res.text.apply(len).sort_values(ascending=False) \n",
        "# here we see that the longest review contains 5050 characters whereas the shortest is 1 character. \n",
        "# This maximum length isn't too long, so we don't need to set a maximum length limit to cut off at when we do the text cleaning below."
      ],
      "execution_count": 0,
      "outputs": []
    },
    {
      "cell_type": "code",
      "metadata": {
        "id": "8621yVIzLUQk",
        "colab_type": "code",
        "colab": {}
      },
      "source": [
        "# group the reviews according to the number of stars it gets \n",
        "highstar_rev = NV_review_res.text[NV_review_res.stars_rvw > 3]\n",
        "# star4_rev = NV_review_res.text[NV_review_res.stars_rvw == 4]\n",
        "# star3_rev = NV_review_res.text[NV_review_res.stars_rvw == 3]\n",
        "# star2_rev = NV_review_res.text[NV_review_res.stars_rvw == 2]\n",
        "lowstar_rev = NV_review_res.text[NV_review_res.stars_rvw < 3]"
      ],
      "execution_count": 0,
      "outputs": []
    },
    {
      "cell_type": "code",
      "metadata": {
        "id": "3dYr6AkhLVLB",
        "colab_type": "code",
        "colab": {}
      },
      "source": [
        "# tensorflow tokenizer\n",
        "from nltk.corpus import stopwords\n",
        "import nltk\n",
        "nltk.download('stopwords')\n",
        "from tensorflow.keras.preprocessing.text import Tokenizer\n",
        "from tensorflow.keras.preprocessing.sequence import pad_sequences\n",
        "from tensorflow.keras.utils import to_categorical\n",
        "\n",
        "TRUNCATE_TYPE ='post'\n",
        "PADDING_TYPE = 'post'\n",
        "OOV_TOKEN = \"<OOV>\" # we set the token  to replace out of vocabulary words\n",
        "PADDING_LEN = 16 \n",
        "stopword = stopwords.words('english')\n",
        "\n",
        "# tokenize the text\n",
        "from tensorflow.keras.preprocessing.text import Tokenizer"
      ],
      "execution_count": 0,
      "outputs": []
    },
    {
      "cell_type": "code",
      "metadata": {
        "id": "W1vf8cNRLhcM",
        "colab_type": "code",
        "colab": {}
      },
      "source": [
        "# function to remove stopword\n",
        "def remove_stopword(row:str) -> str:\n",
        "  for word in stopword:\n",
        "    token = \" \" + word + \" \"\n",
        "    row = row.replace(token, \" \")\n",
        "  return row"
      ],
      "execution_count": 0,
      "outputs": []
    },
    {
      "cell_type": "code",
      "metadata": {
        "id": "RVF48fvpLb8I",
        "colab_type": "code",
        "colab": {}
      },
      "source": [
        "# remove stopword\n",
        "highstar_rev = highstar_rev.apply(remove_stopword)\n",
        "#star4_rev= star4_rev.apply(remove_stopword)\n",
        "#star3_rev = star3_rev.apply(remove_stopword)\n",
        "#star2_rev = star2_rev.apply(remove_stopword)\n",
        "lowstar_rev = lowstar_rev.apply(remove_stopword)"
      ],
      "execution_count": 0,
      "outputs": []
    },
    {
      "cell_type": "code",
      "metadata": {
        "id": "dTJzGXlvLvgI",
        "colab_type": "code",
        "colab": {}
      },
      "source": [
        "# tokenize\n",
        "txt_tokenizer5 = Tokenizer(oov_token = OOV_TOKEN, lower= True)\n",
        "txt_tokenizer5.fit_on_texts(star5_rev)\n",
        "txt_tokenizer4 = Tokenizer(oov_token = OOV_TOKEN, lower= True)\n",
        "txt_tokenizer4.fit_on_texts(star4_rev)\n",
        "txt_tokenizer3 = Tokenizer(oov_token = OOV_TOKEN, lower= True)\n",
        "txt_tokenizer3.fit_on_texts(star3_rev) \n",
        "txt_tokenizer2 = Tokenizer(oov_token = OOV_TOKEN, lower= True)\n",
        "txt_tokenizer2.fit_on_texts(star2_rev) \n",
        "txt_tokenizer1 = Tokenizer(oov_token = OOV_TOKEN, lower= True)\n",
        "txt_tokenizer1.fit_on_texts(star1_rev) "
      ],
      "execution_count": 0,
      "outputs": []
    },
    {
      "cell_type": "code",
      "metadata": {
        "id": "0Eiu-t0gL6Nx",
        "colab_type": "code",
        "colab": {}
      },
      "source": [
        "# convert to Series\n",
        "s4 = pd.Series(txt_tokenizer4.word_counts)\n",
        "s5 = pd.Series(txt_tokenizer5.word_counts)\n",
        "s3 = pd.Series(txt_tokenizer3.word_counts)\n",
        "s2 = pd.Series(txt_tokenizer2.word_counts)\n",
        "s1 = pd.Series(txt_tokenizer1.word_counts)"
      ],
      "execution_count": 0,
      "outputs": []
    },
    {
      "cell_type": "code",
      "metadata": {
        "id": "cyZ3aeZmL6vQ",
        "colab_type": "code",
        "colab": {}
      },
      "source": [
        "# examine the most frequent words in reviews of 1 star restaraunts and manually remove stopwords\n",
        "s1_plot = s1.sort_values(ascending= False)[2:32]\n",
        "s1_plot = "
      ],
      "execution_count": 0,
      "outputs": []
    },
    {
      "cell_type": "markdown",
      "metadata": {
        "id": "fZupWLZRTYCD",
        "colab_type": "text"
      },
      "source": [
        ""
      ]
    },
    {
      "cell_type": "code",
      "metadata": {
        "id": "Ogltdz78MM1G",
        "colab_type": "code",
        "colab": {}
      },
      "source": [
        "# examine the most frequent words in reviews of 5 star restaraunts and manually remove stopwords\n",
        "s5_plot = s5.sort_values(ascending = False)[3:33]\n",
        "s5_plot"
      ],
      "execution_count": 0,
      "outputs": []
    },
    {
      "cell_type": "code",
      "metadata": {
        "id": "0ZUCgsTcMPRl",
        "colab_type": "code",
        "colab": {}
      },
      "source": [
        "# Frequent Terms in 1Star Rating Reviews barplot\n",
        "import plotly.graph_objects as go\n",
        "fig = go.Figure()\n",
        "fig.add_trace(go.Bar(\n",
        "    x = s1_plot.index, \n",
        "    y=s1_plot))\n",
        "\n",
        "fig.update_layout(\n",
        "    title='Frequent Terms in 1Star Rating Reviews',\n",
        "    xaxis_title=\"review terms\",\n",
        "    yaxis_title=\"frequency\",\n",
        "    font=dict(\n",
        "        size=12,\n",
        "        color=\"#7f7f7f\"\n",
        "    )\n",
        ")\n",
        "\n",
        "fig.show()"
      ],
      "execution_count": 0,
      "outputs": []
    },
    {
      "cell_type": "code",
      "metadata": {
        "id": "yv6qlTNgMSK1",
        "colab_type": "code",
        "colab": {}
      },
      "source": [
        "# Frequent Terms in 5Star Rating Reviews barplot\n",
        "fig = go.Figure()\n",
        "fig.add_trace(go.Bar(\n",
        "    x = s5_plot.index, \n",
        "    y=s5_plot))\n",
        "\n",
        "fig.update_layout(\n",
        "    title='Frequent Terms in 5Star Rating Reviews',\n",
        "    xaxis_title=\"review terms\",\n",
        "    yaxis_title=\"frequency\",\n",
        "    font=dict(\n",
        "        size=12,\n",
        "        color=\"#7f7f7f\"\n",
        "    )\n",
        ")\n",
        "\n",
        "fig.show()"
      ],
      "execution_count": 0,
      "outputs": []
    },
    {
      "cell_type": "markdown",
      "metadata": {
        "id": "ies5h_YuTNQW",
        "colab_type": "text"
      },
      "source": [
        ""
      ]
    },
    {
      "cell_type": "markdown",
      "metadata": {
        "id": "_y3I6FnPpAuo",
        "colab_type": "text"
      },
      "source": [
        ""
      ]
    },
    {
      "cell_type": "markdown",
      "metadata": {
        "id": "BSc0Rt7vY4XM",
        "colab_type": "text"
      },
      "source": [
        "## Conclusion\n"
      ]
    },
    {
      "cell_type": "markdown",
      "metadata": {
        "colab_type": "text",
        "id": "cWaLmJkeeIT7"
      },
      "source": [
        "###Users"
      ]
    },
    {
      "cell_type": "markdown",
      "metadata": {
        "id": "JJLeYsFOjYJb",
        "colab_type": "text"
      },
      "source": [
        "The average ratings given by our central yelp users are very close to the average ratings of the businesses in most cases. This means it will be very accurate for us to use the average rating given by central users to predict the true restaurant average rating. \n",
        "\n",
        "Besides, the ratings of central users are slightly higher than average business rating, which indicates that people who have more fans tend to overrate the restaurants. So when other users decide to look for more restaurant suggestions by central users' reviews, they need to be cautious about whether these reviews are genuine or not.\n",
        "\n"
      ]
    },
    {
      "cell_type": "markdown",
      "metadata": {
        "id": "8fEgaOz8bFfY",
        "colab_type": "text"
      },
      "source": [
        "###Restaurants"
      ]
    },
    {
      "cell_type": "markdown",
      "metadata": {
        "id": "psDxOG8zd85L",
        "colab_type": "text"
      },
      "source": [
        "First, most of the popular restaurants in Nevada are located in Las Vegas and they are very spread out.\n",
        "\n",
        "Second, the average star rating is lower when the restaurant opens at night after 8 pm and higher when it opens at lunch time or dinner time. So we suggest that restaurants open their business of the day around 12 pm or 6 pm and provide special services or dishes during those times. \n",
        "\n",
        "Third, \"dogs allowed\" has the largest negative effect on stars, whereas \"bike parking\" has the largest positive effect on stars. So we suggest if possible, restaurants can set bike parking spots and ban dogs from entry.\n"
      ]
    },
    {
      "cell_type": "markdown",
      "metadata": {
        "colab_type": "text",
        "id": "WX2m2a_xeIi3"
      },
      "source": [
        "###Yelp\n",
        "As a review platform, it is crucial for Yelp to improve the trustworthiness of reviews and star ratings on their platform to attract more customers and restaurants users. Therefore, we used sentiment scores on the review texts to predict the review star rating, and we achieved a 66% prediction accuracy. This means that there are some discrepancies between the review texts customers leave and the star rating they provide. \n",
        "\n",
        "We suggest Yelp provide a new restaurant metric that combines the star rating and sentiments score from the review, so that the metric is more indicative of how good a restaurant is. \n",
        "\n"
      ]
    }
  ]
}